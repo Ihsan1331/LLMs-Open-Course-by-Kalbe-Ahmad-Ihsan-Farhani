{
  "nbformat": 4,
  "nbformat_minor": 0,
  "metadata": {
    "colab": {
      "provenance": [],
      "toc_visible": true,
      "authorship_tag": "ABX9TyOPf7wL9mZhmQtOkOSujsop",
      "include_colab_link": true
    },
    "kernelspec": {
      "name": "python3",
      "display_name": "Python 3"
    },
    "language_info": {
      "name": "python"
    },
    "widgets": {
      "application/vnd.jupyter.widget-state+json": {
        "f49009eb2fc449468b2edae350c9a17e": {
          "model_module": "@jupyter-widgets/controls",
          "model_name": "HBoxModel",
          "model_module_version": "1.5.0",
          "state": {
            "_dom_classes": [],
            "_model_module": "@jupyter-widgets/controls",
            "_model_module_version": "1.5.0",
            "_model_name": "HBoxModel",
            "_view_count": null,
            "_view_module": "@jupyter-widgets/controls",
            "_view_module_version": "1.5.0",
            "_view_name": "HBoxView",
            "box_style": "",
            "children": [
              "IPY_MODEL_87590e557e2144d5acd1bdd53dbf6c24",
              "IPY_MODEL_1c86364bd19d499b97a319f01b6de04b",
              "IPY_MODEL_aabb3013ee8f42f59dde0109ec1b57f1"
            ],
            "layout": "IPY_MODEL_536e5d54adc64d48a8025c59dc5b380a"
          }
        },
        "87590e557e2144d5acd1bdd53dbf6c24": {
          "model_module": "@jupyter-widgets/controls",
          "model_name": "HTMLModel",
          "model_module_version": "1.5.0",
          "state": {
            "_dom_classes": [],
            "_model_module": "@jupyter-widgets/controls",
            "_model_module_version": "1.5.0",
            "_model_name": "HTMLModel",
            "_view_count": null,
            "_view_module": "@jupyter-widgets/controls",
            "_view_module_version": "1.5.0",
            "_view_name": "HTMLView",
            "description": "",
            "description_tooltip": null,
            "layout": "IPY_MODEL_de66f901d63047febdc07c1e419ad3ca",
            "placeholder": "​",
            "style": "IPY_MODEL_af8172ce635945409793e03c0ba1b7d4",
            "value": "tokenizer_config.json: 100%"
          }
        },
        "1c86364bd19d499b97a319f01b6de04b": {
          "model_module": "@jupyter-widgets/controls",
          "model_name": "FloatProgressModel",
          "model_module_version": "1.5.0",
          "state": {
            "_dom_classes": [],
            "_model_module": "@jupyter-widgets/controls",
            "_model_module_version": "1.5.0",
            "_model_name": "FloatProgressModel",
            "_view_count": null,
            "_view_module": "@jupyter-widgets/controls",
            "_view_module_version": "1.5.0",
            "_view_name": "ProgressView",
            "bar_style": "success",
            "description": "",
            "description_tooltip": null,
            "layout": "IPY_MODEL_d8bf5efad1674ad1a5f4530c0825bdd1",
            "max": 48,
            "min": 0,
            "orientation": "horizontal",
            "style": "IPY_MODEL_7e1cbda367c74553b8ab6c0dfc498a90",
            "value": 48
          }
        },
        "aabb3013ee8f42f59dde0109ec1b57f1": {
          "model_module": "@jupyter-widgets/controls",
          "model_name": "HTMLModel",
          "model_module_version": "1.5.0",
          "state": {
            "_dom_classes": [],
            "_model_module": "@jupyter-widgets/controls",
            "_model_module_version": "1.5.0",
            "_model_name": "HTMLModel",
            "_view_count": null,
            "_view_module": "@jupyter-widgets/controls",
            "_view_module_version": "1.5.0",
            "_view_name": "HTMLView",
            "description": "",
            "description_tooltip": null,
            "layout": "IPY_MODEL_8248bb9a4c8d4545b57b85a04893c842",
            "placeholder": "​",
            "style": "IPY_MODEL_469202bbc3594af9b5dc52c0b897c47e",
            "value": " 48.0/48.0 [00:00&lt;00:00, 2.36kB/s]"
          }
        },
        "536e5d54adc64d48a8025c59dc5b380a": {
          "model_module": "@jupyter-widgets/base",
          "model_name": "LayoutModel",
          "model_module_version": "1.2.0",
          "state": {
            "_model_module": "@jupyter-widgets/base",
            "_model_module_version": "1.2.0",
            "_model_name": "LayoutModel",
            "_view_count": null,
            "_view_module": "@jupyter-widgets/base",
            "_view_module_version": "1.2.0",
            "_view_name": "LayoutView",
            "align_content": null,
            "align_items": null,
            "align_self": null,
            "border": null,
            "bottom": null,
            "display": null,
            "flex": null,
            "flex_flow": null,
            "grid_area": null,
            "grid_auto_columns": null,
            "grid_auto_flow": null,
            "grid_auto_rows": null,
            "grid_column": null,
            "grid_gap": null,
            "grid_row": null,
            "grid_template_areas": null,
            "grid_template_columns": null,
            "grid_template_rows": null,
            "height": null,
            "justify_content": null,
            "justify_items": null,
            "left": null,
            "margin": null,
            "max_height": null,
            "max_width": null,
            "min_height": null,
            "min_width": null,
            "object_fit": null,
            "object_position": null,
            "order": null,
            "overflow": null,
            "overflow_x": null,
            "overflow_y": null,
            "padding": null,
            "right": null,
            "top": null,
            "visibility": null,
            "width": null
          }
        },
        "de66f901d63047febdc07c1e419ad3ca": {
          "model_module": "@jupyter-widgets/base",
          "model_name": "LayoutModel",
          "model_module_version": "1.2.0",
          "state": {
            "_model_module": "@jupyter-widgets/base",
            "_model_module_version": "1.2.0",
            "_model_name": "LayoutModel",
            "_view_count": null,
            "_view_module": "@jupyter-widgets/base",
            "_view_module_version": "1.2.0",
            "_view_name": "LayoutView",
            "align_content": null,
            "align_items": null,
            "align_self": null,
            "border": null,
            "bottom": null,
            "display": null,
            "flex": null,
            "flex_flow": null,
            "grid_area": null,
            "grid_auto_columns": null,
            "grid_auto_flow": null,
            "grid_auto_rows": null,
            "grid_column": null,
            "grid_gap": null,
            "grid_row": null,
            "grid_template_areas": null,
            "grid_template_columns": null,
            "grid_template_rows": null,
            "height": null,
            "justify_content": null,
            "justify_items": null,
            "left": null,
            "margin": null,
            "max_height": null,
            "max_width": null,
            "min_height": null,
            "min_width": null,
            "object_fit": null,
            "object_position": null,
            "order": null,
            "overflow": null,
            "overflow_x": null,
            "overflow_y": null,
            "padding": null,
            "right": null,
            "top": null,
            "visibility": null,
            "width": null
          }
        },
        "af8172ce635945409793e03c0ba1b7d4": {
          "model_module": "@jupyter-widgets/controls",
          "model_name": "DescriptionStyleModel",
          "model_module_version": "1.5.0",
          "state": {
            "_model_module": "@jupyter-widgets/controls",
            "_model_module_version": "1.5.0",
            "_model_name": "DescriptionStyleModel",
            "_view_count": null,
            "_view_module": "@jupyter-widgets/base",
            "_view_module_version": "1.2.0",
            "_view_name": "StyleView",
            "description_width": ""
          }
        },
        "d8bf5efad1674ad1a5f4530c0825bdd1": {
          "model_module": "@jupyter-widgets/base",
          "model_name": "LayoutModel",
          "model_module_version": "1.2.0",
          "state": {
            "_model_module": "@jupyter-widgets/base",
            "_model_module_version": "1.2.0",
            "_model_name": "LayoutModel",
            "_view_count": null,
            "_view_module": "@jupyter-widgets/base",
            "_view_module_version": "1.2.0",
            "_view_name": "LayoutView",
            "align_content": null,
            "align_items": null,
            "align_self": null,
            "border": null,
            "bottom": null,
            "display": null,
            "flex": null,
            "flex_flow": null,
            "grid_area": null,
            "grid_auto_columns": null,
            "grid_auto_flow": null,
            "grid_auto_rows": null,
            "grid_column": null,
            "grid_gap": null,
            "grid_row": null,
            "grid_template_areas": null,
            "grid_template_columns": null,
            "grid_template_rows": null,
            "height": null,
            "justify_content": null,
            "justify_items": null,
            "left": null,
            "margin": null,
            "max_height": null,
            "max_width": null,
            "min_height": null,
            "min_width": null,
            "object_fit": null,
            "object_position": null,
            "order": null,
            "overflow": null,
            "overflow_x": null,
            "overflow_y": null,
            "padding": null,
            "right": null,
            "top": null,
            "visibility": null,
            "width": null
          }
        },
        "7e1cbda367c74553b8ab6c0dfc498a90": {
          "model_module": "@jupyter-widgets/controls",
          "model_name": "ProgressStyleModel",
          "model_module_version": "1.5.0",
          "state": {
            "_model_module": "@jupyter-widgets/controls",
            "_model_module_version": "1.5.0",
            "_model_name": "ProgressStyleModel",
            "_view_count": null,
            "_view_module": "@jupyter-widgets/base",
            "_view_module_version": "1.2.0",
            "_view_name": "StyleView",
            "bar_color": null,
            "description_width": ""
          }
        },
        "8248bb9a4c8d4545b57b85a04893c842": {
          "model_module": "@jupyter-widgets/base",
          "model_name": "LayoutModel",
          "model_module_version": "1.2.0",
          "state": {
            "_model_module": "@jupyter-widgets/base",
            "_model_module_version": "1.2.0",
            "_model_name": "LayoutModel",
            "_view_count": null,
            "_view_module": "@jupyter-widgets/base",
            "_view_module_version": "1.2.0",
            "_view_name": "LayoutView",
            "align_content": null,
            "align_items": null,
            "align_self": null,
            "border": null,
            "bottom": null,
            "display": null,
            "flex": null,
            "flex_flow": null,
            "grid_area": null,
            "grid_auto_columns": null,
            "grid_auto_flow": null,
            "grid_auto_rows": null,
            "grid_column": null,
            "grid_gap": null,
            "grid_row": null,
            "grid_template_areas": null,
            "grid_template_columns": null,
            "grid_template_rows": null,
            "height": null,
            "justify_content": null,
            "justify_items": null,
            "left": null,
            "margin": null,
            "max_height": null,
            "max_width": null,
            "min_height": null,
            "min_width": null,
            "object_fit": null,
            "object_position": null,
            "order": null,
            "overflow": null,
            "overflow_x": null,
            "overflow_y": null,
            "padding": null,
            "right": null,
            "top": null,
            "visibility": null,
            "width": null
          }
        },
        "469202bbc3594af9b5dc52c0b897c47e": {
          "model_module": "@jupyter-widgets/controls",
          "model_name": "DescriptionStyleModel",
          "model_module_version": "1.5.0",
          "state": {
            "_model_module": "@jupyter-widgets/controls",
            "_model_module_version": "1.5.0",
            "_model_name": "DescriptionStyleModel",
            "_view_count": null,
            "_view_module": "@jupyter-widgets/base",
            "_view_module_version": "1.2.0",
            "_view_name": "StyleView",
            "description_width": ""
          }
        },
        "88bf66904c3846beabae1de7fe260304": {
          "model_module": "@jupyter-widgets/controls",
          "model_name": "HBoxModel",
          "model_module_version": "1.5.0",
          "state": {
            "_dom_classes": [],
            "_model_module": "@jupyter-widgets/controls",
            "_model_module_version": "1.5.0",
            "_model_name": "HBoxModel",
            "_view_count": null,
            "_view_module": "@jupyter-widgets/controls",
            "_view_module_version": "1.5.0",
            "_view_name": "HBoxView",
            "box_style": "",
            "children": [
              "IPY_MODEL_913a37839fc5427e99271fc02a3fa817",
              "IPY_MODEL_3f4179021f5d4252ab40345bcac41f81",
              "IPY_MODEL_0da39c7f68fe4f4699cb75ce829108c1"
            ],
            "layout": "IPY_MODEL_45560936ee274b419e33414f5a379333"
          }
        },
        "913a37839fc5427e99271fc02a3fa817": {
          "model_module": "@jupyter-widgets/controls",
          "model_name": "HTMLModel",
          "model_module_version": "1.5.0",
          "state": {
            "_dom_classes": [],
            "_model_module": "@jupyter-widgets/controls",
            "_model_module_version": "1.5.0",
            "_model_name": "HTMLModel",
            "_view_count": null,
            "_view_module": "@jupyter-widgets/controls",
            "_view_module_version": "1.5.0",
            "_view_name": "HTMLView",
            "description": "",
            "description_tooltip": null,
            "layout": "IPY_MODEL_ebc09db7a2984dc7aee84393f3a77c10",
            "placeholder": "​",
            "style": "IPY_MODEL_ffe16cb34642426c9b89af94a26a0aac",
            "value": "config.json: 100%"
          }
        },
        "3f4179021f5d4252ab40345bcac41f81": {
          "model_module": "@jupyter-widgets/controls",
          "model_name": "FloatProgressModel",
          "model_module_version": "1.5.0",
          "state": {
            "_dom_classes": [],
            "_model_module": "@jupyter-widgets/controls",
            "_model_module_version": "1.5.0",
            "_model_name": "FloatProgressModel",
            "_view_count": null,
            "_view_module": "@jupyter-widgets/controls",
            "_view_module_version": "1.5.0",
            "_view_name": "ProgressView",
            "bar_style": "success",
            "description": "",
            "description_tooltip": null,
            "layout": "IPY_MODEL_4f6a90c5dfb34bd990a4e05a7a40924c",
            "max": 629,
            "min": 0,
            "orientation": "horizontal",
            "style": "IPY_MODEL_d24693a2da4741edad44a4f53e2179bb",
            "value": 629
          }
        },
        "0da39c7f68fe4f4699cb75ce829108c1": {
          "model_module": "@jupyter-widgets/controls",
          "model_name": "HTMLModel",
          "model_module_version": "1.5.0",
          "state": {
            "_dom_classes": [],
            "_model_module": "@jupyter-widgets/controls",
            "_model_module_version": "1.5.0",
            "_model_name": "HTMLModel",
            "_view_count": null,
            "_view_module": "@jupyter-widgets/controls",
            "_view_module_version": "1.5.0",
            "_view_name": "HTMLView",
            "description": "",
            "description_tooltip": null,
            "layout": "IPY_MODEL_0cc7d10e46594eedbc480df28556e6bb",
            "placeholder": "​",
            "style": "IPY_MODEL_5f93a9228c9d4fed98801e37a1b6359d",
            "value": " 629/629 [00:00&lt;00:00, 24.7kB/s]"
          }
        },
        "45560936ee274b419e33414f5a379333": {
          "model_module": "@jupyter-widgets/base",
          "model_name": "LayoutModel",
          "model_module_version": "1.2.0",
          "state": {
            "_model_module": "@jupyter-widgets/base",
            "_model_module_version": "1.2.0",
            "_model_name": "LayoutModel",
            "_view_count": null,
            "_view_module": "@jupyter-widgets/base",
            "_view_module_version": "1.2.0",
            "_view_name": "LayoutView",
            "align_content": null,
            "align_items": null,
            "align_self": null,
            "border": null,
            "bottom": null,
            "display": null,
            "flex": null,
            "flex_flow": null,
            "grid_area": null,
            "grid_auto_columns": null,
            "grid_auto_flow": null,
            "grid_auto_rows": null,
            "grid_column": null,
            "grid_gap": null,
            "grid_row": null,
            "grid_template_areas": null,
            "grid_template_columns": null,
            "grid_template_rows": null,
            "height": null,
            "justify_content": null,
            "justify_items": null,
            "left": null,
            "margin": null,
            "max_height": null,
            "max_width": null,
            "min_height": null,
            "min_width": null,
            "object_fit": null,
            "object_position": null,
            "order": null,
            "overflow": null,
            "overflow_x": null,
            "overflow_y": null,
            "padding": null,
            "right": null,
            "top": null,
            "visibility": null,
            "width": null
          }
        },
        "ebc09db7a2984dc7aee84393f3a77c10": {
          "model_module": "@jupyter-widgets/base",
          "model_name": "LayoutModel",
          "model_module_version": "1.2.0",
          "state": {
            "_model_module": "@jupyter-widgets/base",
            "_model_module_version": "1.2.0",
            "_model_name": "LayoutModel",
            "_view_count": null,
            "_view_module": "@jupyter-widgets/base",
            "_view_module_version": "1.2.0",
            "_view_name": "LayoutView",
            "align_content": null,
            "align_items": null,
            "align_self": null,
            "border": null,
            "bottom": null,
            "display": null,
            "flex": null,
            "flex_flow": null,
            "grid_area": null,
            "grid_auto_columns": null,
            "grid_auto_flow": null,
            "grid_auto_rows": null,
            "grid_column": null,
            "grid_gap": null,
            "grid_row": null,
            "grid_template_areas": null,
            "grid_template_columns": null,
            "grid_template_rows": null,
            "height": null,
            "justify_content": null,
            "justify_items": null,
            "left": null,
            "margin": null,
            "max_height": null,
            "max_width": null,
            "min_height": null,
            "min_width": null,
            "object_fit": null,
            "object_position": null,
            "order": null,
            "overflow": null,
            "overflow_x": null,
            "overflow_y": null,
            "padding": null,
            "right": null,
            "top": null,
            "visibility": null,
            "width": null
          }
        },
        "ffe16cb34642426c9b89af94a26a0aac": {
          "model_module": "@jupyter-widgets/controls",
          "model_name": "DescriptionStyleModel",
          "model_module_version": "1.5.0",
          "state": {
            "_model_module": "@jupyter-widgets/controls",
            "_model_module_version": "1.5.0",
            "_model_name": "DescriptionStyleModel",
            "_view_count": null,
            "_view_module": "@jupyter-widgets/base",
            "_view_module_version": "1.2.0",
            "_view_name": "StyleView",
            "description_width": ""
          }
        },
        "4f6a90c5dfb34bd990a4e05a7a40924c": {
          "model_module": "@jupyter-widgets/base",
          "model_name": "LayoutModel",
          "model_module_version": "1.2.0",
          "state": {
            "_model_module": "@jupyter-widgets/base",
            "_model_module_version": "1.2.0",
            "_model_name": "LayoutModel",
            "_view_count": null,
            "_view_module": "@jupyter-widgets/base",
            "_view_module_version": "1.2.0",
            "_view_name": "LayoutView",
            "align_content": null,
            "align_items": null,
            "align_self": null,
            "border": null,
            "bottom": null,
            "display": null,
            "flex": null,
            "flex_flow": null,
            "grid_area": null,
            "grid_auto_columns": null,
            "grid_auto_flow": null,
            "grid_auto_rows": null,
            "grid_column": null,
            "grid_gap": null,
            "grid_row": null,
            "grid_template_areas": null,
            "grid_template_columns": null,
            "grid_template_rows": null,
            "height": null,
            "justify_content": null,
            "justify_items": null,
            "left": null,
            "margin": null,
            "max_height": null,
            "max_width": null,
            "min_height": null,
            "min_width": null,
            "object_fit": null,
            "object_position": null,
            "order": null,
            "overflow": null,
            "overflow_x": null,
            "overflow_y": null,
            "padding": null,
            "right": null,
            "top": null,
            "visibility": null,
            "width": null
          }
        },
        "d24693a2da4741edad44a4f53e2179bb": {
          "model_module": "@jupyter-widgets/controls",
          "model_name": "ProgressStyleModel",
          "model_module_version": "1.5.0",
          "state": {
            "_model_module": "@jupyter-widgets/controls",
            "_model_module_version": "1.5.0",
            "_model_name": "ProgressStyleModel",
            "_view_count": null,
            "_view_module": "@jupyter-widgets/base",
            "_view_module_version": "1.2.0",
            "_view_name": "StyleView",
            "bar_color": null,
            "description_width": ""
          }
        },
        "0cc7d10e46594eedbc480df28556e6bb": {
          "model_module": "@jupyter-widgets/base",
          "model_name": "LayoutModel",
          "model_module_version": "1.2.0",
          "state": {
            "_model_module": "@jupyter-widgets/base",
            "_model_module_version": "1.2.0",
            "_model_name": "LayoutModel",
            "_view_count": null,
            "_view_module": "@jupyter-widgets/base",
            "_view_module_version": "1.2.0",
            "_view_name": "LayoutView",
            "align_content": null,
            "align_items": null,
            "align_self": null,
            "border": null,
            "bottom": null,
            "display": null,
            "flex": null,
            "flex_flow": null,
            "grid_area": null,
            "grid_auto_columns": null,
            "grid_auto_flow": null,
            "grid_auto_rows": null,
            "grid_column": null,
            "grid_gap": null,
            "grid_row": null,
            "grid_template_areas": null,
            "grid_template_columns": null,
            "grid_template_rows": null,
            "height": null,
            "justify_content": null,
            "justify_items": null,
            "left": null,
            "margin": null,
            "max_height": null,
            "max_width": null,
            "min_height": null,
            "min_width": null,
            "object_fit": null,
            "object_position": null,
            "order": null,
            "overflow": null,
            "overflow_x": null,
            "overflow_y": null,
            "padding": null,
            "right": null,
            "top": null,
            "visibility": null,
            "width": null
          }
        },
        "5f93a9228c9d4fed98801e37a1b6359d": {
          "model_module": "@jupyter-widgets/controls",
          "model_name": "DescriptionStyleModel",
          "model_module_version": "1.5.0",
          "state": {
            "_model_module": "@jupyter-widgets/controls",
            "_model_module_version": "1.5.0",
            "_model_name": "DescriptionStyleModel",
            "_view_count": null,
            "_view_module": "@jupyter-widgets/base",
            "_view_module_version": "1.2.0",
            "_view_name": "StyleView",
            "description_width": ""
          }
        },
        "5f3928b90b3e4b5ba8ba6bbe7435448f": {
          "model_module": "@jupyter-widgets/controls",
          "model_name": "HBoxModel",
          "model_module_version": "1.5.0",
          "state": {
            "_dom_classes": [],
            "_model_module": "@jupyter-widgets/controls",
            "_model_module_version": "1.5.0",
            "_model_name": "HBoxModel",
            "_view_count": null,
            "_view_module": "@jupyter-widgets/controls",
            "_view_module_version": "1.5.0",
            "_view_name": "HBoxView",
            "box_style": "",
            "children": [
              "IPY_MODEL_d9bee71d8da54129a7827986ee70b333",
              "IPY_MODEL_06578fa1ec9c4ebcaf798fbdf4290d81",
              "IPY_MODEL_7940d9f532a3426e8eba894a3de63720"
            ],
            "layout": "IPY_MODEL_1993e5b771634d2596682aa9437119e8"
          }
        },
        "d9bee71d8da54129a7827986ee70b333": {
          "model_module": "@jupyter-widgets/controls",
          "model_name": "HTMLModel",
          "model_module_version": "1.5.0",
          "state": {
            "_dom_classes": [],
            "_model_module": "@jupyter-widgets/controls",
            "_model_module_version": "1.5.0",
            "_model_name": "HTMLModel",
            "_view_count": null,
            "_view_module": "@jupyter-widgets/controls",
            "_view_module_version": "1.5.0",
            "_view_name": "HTMLView",
            "description": "",
            "description_tooltip": null,
            "layout": "IPY_MODEL_b5e37debb59945d0a05a9986e1ae2522",
            "placeholder": "​",
            "style": "IPY_MODEL_bd545027170b49c6804c4912f6e4a5c1",
            "value": "vocab.txt: 100%"
          }
        },
        "06578fa1ec9c4ebcaf798fbdf4290d81": {
          "model_module": "@jupyter-widgets/controls",
          "model_name": "FloatProgressModel",
          "model_module_version": "1.5.0",
          "state": {
            "_dom_classes": [],
            "_model_module": "@jupyter-widgets/controls",
            "_model_module_version": "1.5.0",
            "_model_name": "FloatProgressModel",
            "_view_count": null,
            "_view_module": "@jupyter-widgets/controls",
            "_view_module_version": "1.5.0",
            "_view_name": "ProgressView",
            "bar_style": "success",
            "description": "",
            "description_tooltip": null,
            "layout": "IPY_MODEL_8d3447cc81fb4633ac59808b299dca03",
            "max": 231508,
            "min": 0,
            "orientation": "horizontal",
            "style": "IPY_MODEL_de9ea08a6e2544489a6deccfba12da16",
            "value": 231508
          }
        },
        "7940d9f532a3426e8eba894a3de63720": {
          "model_module": "@jupyter-widgets/controls",
          "model_name": "HTMLModel",
          "model_module_version": "1.5.0",
          "state": {
            "_dom_classes": [],
            "_model_module": "@jupyter-widgets/controls",
            "_model_module_version": "1.5.0",
            "_model_name": "HTMLModel",
            "_view_count": null,
            "_view_module": "@jupyter-widgets/controls",
            "_view_module_version": "1.5.0",
            "_view_name": "HTMLView",
            "description": "",
            "description_tooltip": null,
            "layout": "IPY_MODEL_a45c8fa3e4c0471594c31a14df0753b3",
            "placeholder": "​",
            "style": "IPY_MODEL_c28394ebe50a4c6e976bbdb07a1a2d13",
            "value": " 232k/232k [00:00&lt;00:00, 2.44MB/s]"
          }
        },
        "1993e5b771634d2596682aa9437119e8": {
          "model_module": "@jupyter-widgets/base",
          "model_name": "LayoutModel",
          "model_module_version": "1.2.0",
          "state": {
            "_model_module": "@jupyter-widgets/base",
            "_model_module_version": "1.2.0",
            "_model_name": "LayoutModel",
            "_view_count": null,
            "_view_module": "@jupyter-widgets/base",
            "_view_module_version": "1.2.0",
            "_view_name": "LayoutView",
            "align_content": null,
            "align_items": null,
            "align_self": null,
            "border": null,
            "bottom": null,
            "display": null,
            "flex": null,
            "flex_flow": null,
            "grid_area": null,
            "grid_auto_columns": null,
            "grid_auto_flow": null,
            "grid_auto_rows": null,
            "grid_column": null,
            "grid_gap": null,
            "grid_row": null,
            "grid_template_areas": null,
            "grid_template_columns": null,
            "grid_template_rows": null,
            "height": null,
            "justify_content": null,
            "justify_items": null,
            "left": null,
            "margin": null,
            "max_height": null,
            "max_width": null,
            "min_height": null,
            "min_width": null,
            "object_fit": null,
            "object_position": null,
            "order": null,
            "overflow": null,
            "overflow_x": null,
            "overflow_y": null,
            "padding": null,
            "right": null,
            "top": null,
            "visibility": null,
            "width": null
          }
        },
        "b5e37debb59945d0a05a9986e1ae2522": {
          "model_module": "@jupyter-widgets/base",
          "model_name": "LayoutModel",
          "model_module_version": "1.2.0",
          "state": {
            "_model_module": "@jupyter-widgets/base",
            "_model_module_version": "1.2.0",
            "_model_name": "LayoutModel",
            "_view_count": null,
            "_view_module": "@jupyter-widgets/base",
            "_view_module_version": "1.2.0",
            "_view_name": "LayoutView",
            "align_content": null,
            "align_items": null,
            "align_self": null,
            "border": null,
            "bottom": null,
            "display": null,
            "flex": null,
            "flex_flow": null,
            "grid_area": null,
            "grid_auto_columns": null,
            "grid_auto_flow": null,
            "grid_auto_rows": null,
            "grid_column": null,
            "grid_gap": null,
            "grid_row": null,
            "grid_template_areas": null,
            "grid_template_columns": null,
            "grid_template_rows": null,
            "height": null,
            "justify_content": null,
            "justify_items": null,
            "left": null,
            "margin": null,
            "max_height": null,
            "max_width": null,
            "min_height": null,
            "min_width": null,
            "object_fit": null,
            "object_position": null,
            "order": null,
            "overflow": null,
            "overflow_x": null,
            "overflow_y": null,
            "padding": null,
            "right": null,
            "top": null,
            "visibility": null,
            "width": null
          }
        },
        "bd545027170b49c6804c4912f6e4a5c1": {
          "model_module": "@jupyter-widgets/controls",
          "model_name": "DescriptionStyleModel",
          "model_module_version": "1.5.0",
          "state": {
            "_model_module": "@jupyter-widgets/controls",
            "_model_module_version": "1.5.0",
            "_model_name": "DescriptionStyleModel",
            "_view_count": null,
            "_view_module": "@jupyter-widgets/base",
            "_view_module_version": "1.2.0",
            "_view_name": "StyleView",
            "description_width": ""
          }
        },
        "8d3447cc81fb4633ac59808b299dca03": {
          "model_module": "@jupyter-widgets/base",
          "model_name": "LayoutModel",
          "model_module_version": "1.2.0",
          "state": {
            "_model_module": "@jupyter-widgets/base",
            "_model_module_version": "1.2.0",
            "_model_name": "LayoutModel",
            "_view_count": null,
            "_view_module": "@jupyter-widgets/base",
            "_view_module_version": "1.2.0",
            "_view_name": "LayoutView",
            "align_content": null,
            "align_items": null,
            "align_self": null,
            "border": null,
            "bottom": null,
            "display": null,
            "flex": null,
            "flex_flow": null,
            "grid_area": null,
            "grid_auto_columns": null,
            "grid_auto_flow": null,
            "grid_auto_rows": null,
            "grid_column": null,
            "grid_gap": null,
            "grid_row": null,
            "grid_template_areas": null,
            "grid_template_columns": null,
            "grid_template_rows": null,
            "height": null,
            "justify_content": null,
            "justify_items": null,
            "left": null,
            "margin": null,
            "max_height": null,
            "max_width": null,
            "min_height": null,
            "min_width": null,
            "object_fit": null,
            "object_position": null,
            "order": null,
            "overflow": null,
            "overflow_x": null,
            "overflow_y": null,
            "padding": null,
            "right": null,
            "top": null,
            "visibility": null,
            "width": null
          }
        },
        "de9ea08a6e2544489a6deccfba12da16": {
          "model_module": "@jupyter-widgets/controls",
          "model_name": "ProgressStyleModel",
          "model_module_version": "1.5.0",
          "state": {
            "_model_module": "@jupyter-widgets/controls",
            "_model_module_version": "1.5.0",
            "_model_name": "ProgressStyleModel",
            "_view_count": null,
            "_view_module": "@jupyter-widgets/base",
            "_view_module_version": "1.2.0",
            "_view_name": "StyleView",
            "bar_color": null,
            "description_width": ""
          }
        },
        "a45c8fa3e4c0471594c31a14df0753b3": {
          "model_module": "@jupyter-widgets/base",
          "model_name": "LayoutModel",
          "model_module_version": "1.2.0",
          "state": {
            "_model_module": "@jupyter-widgets/base",
            "_model_module_version": "1.2.0",
            "_model_name": "LayoutModel",
            "_view_count": null,
            "_view_module": "@jupyter-widgets/base",
            "_view_module_version": "1.2.0",
            "_view_name": "LayoutView",
            "align_content": null,
            "align_items": null,
            "align_self": null,
            "border": null,
            "bottom": null,
            "display": null,
            "flex": null,
            "flex_flow": null,
            "grid_area": null,
            "grid_auto_columns": null,
            "grid_auto_flow": null,
            "grid_auto_rows": null,
            "grid_column": null,
            "grid_gap": null,
            "grid_row": null,
            "grid_template_areas": null,
            "grid_template_columns": null,
            "grid_template_rows": null,
            "height": null,
            "justify_content": null,
            "justify_items": null,
            "left": null,
            "margin": null,
            "max_height": null,
            "max_width": null,
            "min_height": null,
            "min_width": null,
            "object_fit": null,
            "object_position": null,
            "order": null,
            "overflow": null,
            "overflow_x": null,
            "overflow_y": null,
            "padding": null,
            "right": null,
            "top": null,
            "visibility": null,
            "width": null
          }
        },
        "c28394ebe50a4c6e976bbdb07a1a2d13": {
          "model_module": "@jupyter-widgets/controls",
          "model_name": "DescriptionStyleModel",
          "model_module_version": "1.5.0",
          "state": {
            "_model_module": "@jupyter-widgets/controls",
            "_model_module_version": "1.5.0",
            "_model_name": "DescriptionStyleModel",
            "_view_count": null,
            "_view_module": "@jupyter-widgets/base",
            "_view_module_version": "1.2.0",
            "_view_name": "StyleView",
            "description_width": ""
          }
        },
        "da162f3e98064e73b60a180378f66fea": {
          "model_module": "@jupyter-widgets/controls",
          "model_name": "HBoxModel",
          "model_module_version": "1.5.0",
          "state": {
            "_dom_classes": [],
            "_model_module": "@jupyter-widgets/controls",
            "_model_module_version": "1.5.0",
            "_model_name": "HBoxModel",
            "_view_count": null,
            "_view_module": "@jupyter-widgets/controls",
            "_view_module_version": "1.5.0",
            "_view_name": "HBoxView",
            "box_style": "",
            "children": [
              "IPY_MODEL_f0ef5a8fa82343dbbab1b7cbea23a00a",
              "IPY_MODEL_dbf638ded9b541f994d042826500b9e0",
              "IPY_MODEL_32e464ee01534510927d5c6f4fae580c"
            ],
            "layout": "IPY_MODEL_e925eacef68d41bd9afe41834917659a"
          }
        },
        "f0ef5a8fa82343dbbab1b7cbea23a00a": {
          "model_module": "@jupyter-widgets/controls",
          "model_name": "HTMLModel",
          "model_module_version": "1.5.0",
          "state": {
            "_dom_classes": [],
            "_model_module": "@jupyter-widgets/controls",
            "_model_module_version": "1.5.0",
            "_model_name": "HTMLModel",
            "_view_count": null,
            "_view_module": "@jupyter-widgets/controls",
            "_view_module_version": "1.5.0",
            "_view_name": "HTMLView",
            "description": "",
            "description_tooltip": null,
            "layout": "IPY_MODEL_71eed171c86e4107ae609aba40253745",
            "placeholder": "​",
            "style": "IPY_MODEL_285e93116fff40e3aa12e3fa849311ee",
            "value": "model.safetensors: 100%"
          }
        },
        "dbf638ded9b541f994d042826500b9e0": {
          "model_module": "@jupyter-widgets/controls",
          "model_name": "FloatProgressModel",
          "model_module_version": "1.5.0",
          "state": {
            "_dom_classes": [],
            "_model_module": "@jupyter-widgets/controls",
            "_model_module_version": "1.5.0",
            "_model_name": "FloatProgressModel",
            "_view_count": null,
            "_view_module": "@jupyter-widgets/controls",
            "_view_module_version": "1.5.0",
            "_view_name": "ProgressView",
            "bar_style": "success",
            "description": "",
            "description_tooltip": null,
            "layout": "IPY_MODEL_c0d9799e0ddd4fbbac75a1aedfc5f3cc",
            "max": 267832558,
            "min": 0,
            "orientation": "horizontal",
            "style": "IPY_MODEL_415c8db3d22849d08e496ba76c77053a",
            "value": 267832558
          }
        },
        "32e464ee01534510927d5c6f4fae580c": {
          "model_module": "@jupyter-widgets/controls",
          "model_name": "HTMLModel",
          "model_module_version": "1.5.0",
          "state": {
            "_dom_classes": [],
            "_model_module": "@jupyter-widgets/controls",
            "_model_module_version": "1.5.0",
            "_model_name": "HTMLModel",
            "_view_count": null,
            "_view_module": "@jupyter-widgets/controls",
            "_view_module_version": "1.5.0",
            "_view_name": "HTMLView",
            "description": "",
            "description_tooltip": null,
            "layout": "IPY_MODEL_000301aeabd94d59878573c832859ab9",
            "placeholder": "​",
            "style": "IPY_MODEL_01ad5c2e1b6545968ed6aa1db58b0797",
            "value": " 268M/268M [00:01&lt;00:00, 150MB/s]"
          }
        },
        "e925eacef68d41bd9afe41834917659a": {
          "model_module": "@jupyter-widgets/base",
          "model_name": "LayoutModel",
          "model_module_version": "1.2.0",
          "state": {
            "_model_module": "@jupyter-widgets/base",
            "_model_module_version": "1.2.0",
            "_model_name": "LayoutModel",
            "_view_count": null,
            "_view_module": "@jupyter-widgets/base",
            "_view_module_version": "1.2.0",
            "_view_name": "LayoutView",
            "align_content": null,
            "align_items": null,
            "align_self": null,
            "border": null,
            "bottom": null,
            "display": null,
            "flex": null,
            "flex_flow": null,
            "grid_area": null,
            "grid_auto_columns": null,
            "grid_auto_flow": null,
            "grid_auto_rows": null,
            "grid_column": null,
            "grid_gap": null,
            "grid_row": null,
            "grid_template_areas": null,
            "grid_template_columns": null,
            "grid_template_rows": null,
            "height": null,
            "justify_content": null,
            "justify_items": null,
            "left": null,
            "margin": null,
            "max_height": null,
            "max_width": null,
            "min_height": null,
            "min_width": null,
            "object_fit": null,
            "object_position": null,
            "order": null,
            "overflow": null,
            "overflow_x": null,
            "overflow_y": null,
            "padding": null,
            "right": null,
            "top": null,
            "visibility": null,
            "width": null
          }
        },
        "71eed171c86e4107ae609aba40253745": {
          "model_module": "@jupyter-widgets/base",
          "model_name": "LayoutModel",
          "model_module_version": "1.2.0",
          "state": {
            "_model_module": "@jupyter-widgets/base",
            "_model_module_version": "1.2.0",
            "_model_name": "LayoutModel",
            "_view_count": null,
            "_view_module": "@jupyter-widgets/base",
            "_view_module_version": "1.2.0",
            "_view_name": "LayoutView",
            "align_content": null,
            "align_items": null,
            "align_self": null,
            "border": null,
            "bottom": null,
            "display": null,
            "flex": null,
            "flex_flow": null,
            "grid_area": null,
            "grid_auto_columns": null,
            "grid_auto_flow": null,
            "grid_auto_rows": null,
            "grid_column": null,
            "grid_gap": null,
            "grid_row": null,
            "grid_template_areas": null,
            "grid_template_columns": null,
            "grid_template_rows": null,
            "height": null,
            "justify_content": null,
            "justify_items": null,
            "left": null,
            "margin": null,
            "max_height": null,
            "max_width": null,
            "min_height": null,
            "min_width": null,
            "object_fit": null,
            "object_position": null,
            "order": null,
            "overflow": null,
            "overflow_x": null,
            "overflow_y": null,
            "padding": null,
            "right": null,
            "top": null,
            "visibility": null,
            "width": null
          }
        },
        "285e93116fff40e3aa12e3fa849311ee": {
          "model_module": "@jupyter-widgets/controls",
          "model_name": "DescriptionStyleModel",
          "model_module_version": "1.5.0",
          "state": {
            "_model_module": "@jupyter-widgets/controls",
            "_model_module_version": "1.5.0",
            "_model_name": "DescriptionStyleModel",
            "_view_count": null,
            "_view_module": "@jupyter-widgets/base",
            "_view_module_version": "1.2.0",
            "_view_name": "StyleView",
            "description_width": ""
          }
        },
        "c0d9799e0ddd4fbbac75a1aedfc5f3cc": {
          "model_module": "@jupyter-widgets/base",
          "model_name": "LayoutModel",
          "model_module_version": "1.2.0",
          "state": {
            "_model_module": "@jupyter-widgets/base",
            "_model_module_version": "1.2.0",
            "_model_name": "LayoutModel",
            "_view_count": null,
            "_view_module": "@jupyter-widgets/base",
            "_view_module_version": "1.2.0",
            "_view_name": "LayoutView",
            "align_content": null,
            "align_items": null,
            "align_self": null,
            "border": null,
            "bottom": null,
            "display": null,
            "flex": null,
            "flex_flow": null,
            "grid_area": null,
            "grid_auto_columns": null,
            "grid_auto_flow": null,
            "grid_auto_rows": null,
            "grid_column": null,
            "grid_gap": null,
            "grid_row": null,
            "grid_template_areas": null,
            "grid_template_columns": null,
            "grid_template_rows": null,
            "height": null,
            "justify_content": null,
            "justify_items": null,
            "left": null,
            "margin": null,
            "max_height": null,
            "max_width": null,
            "min_height": null,
            "min_width": null,
            "object_fit": null,
            "object_position": null,
            "order": null,
            "overflow": null,
            "overflow_x": null,
            "overflow_y": null,
            "padding": null,
            "right": null,
            "top": null,
            "visibility": null,
            "width": null
          }
        },
        "415c8db3d22849d08e496ba76c77053a": {
          "model_module": "@jupyter-widgets/controls",
          "model_name": "ProgressStyleModel",
          "model_module_version": "1.5.0",
          "state": {
            "_model_module": "@jupyter-widgets/controls",
            "_model_module_version": "1.5.0",
            "_model_name": "ProgressStyleModel",
            "_view_count": null,
            "_view_module": "@jupyter-widgets/base",
            "_view_module_version": "1.2.0",
            "_view_name": "StyleView",
            "bar_color": null,
            "description_width": ""
          }
        },
        "000301aeabd94d59878573c832859ab9": {
          "model_module": "@jupyter-widgets/base",
          "model_name": "LayoutModel",
          "model_module_version": "1.2.0",
          "state": {
            "_model_module": "@jupyter-widgets/base",
            "_model_module_version": "1.2.0",
            "_model_name": "LayoutModel",
            "_view_count": null,
            "_view_module": "@jupyter-widgets/base",
            "_view_module_version": "1.2.0",
            "_view_name": "LayoutView",
            "align_content": null,
            "align_items": null,
            "align_self": null,
            "border": null,
            "bottom": null,
            "display": null,
            "flex": null,
            "flex_flow": null,
            "grid_area": null,
            "grid_auto_columns": null,
            "grid_auto_flow": null,
            "grid_auto_rows": null,
            "grid_column": null,
            "grid_gap": null,
            "grid_row": null,
            "grid_template_areas": null,
            "grid_template_columns": null,
            "grid_template_rows": null,
            "height": null,
            "justify_content": null,
            "justify_items": null,
            "left": null,
            "margin": null,
            "max_height": null,
            "max_width": null,
            "min_height": null,
            "min_width": null,
            "object_fit": null,
            "object_position": null,
            "order": null,
            "overflow": null,
            "overflow_x": null,
            "overflow_y": null,
            "padding": null,
            "right": null,
            "top": null,
            "visibility": null,
            "width": null
          }
        },
        "01ad5c2e1b6545968ed6aa1db58b0797": {
          "model_module": "@jupyter-widgets/controls",
          "model_name": "DescriptionStyleModel",
          "model_module_version": "1.5.0",
          "state": {
            "_model_module": "@jupyter-widgets/controls",
            "_model_module_version": "1.5.0",
            "_model_name": "DescriptionStyleModel",
            "_view_count": null,
            "_view_module": "@jupyter-widgets/base",
            "_view_module_version": "1.2.0",
            "_view_name": "StyleView",
            "description_width": ""
          }
        },
        "ff8910f2e6c04e00850e71000e986daa": {
          "model_module": "@jupyter-widgets/controls",
          "model_name": "HBoxModel",
          "model_module_version": "1.5.0",
          "state": {
            "_dom_classes": [],
            "_model_module": "@jupyter-widgets/controls",
            "_model_module_version": "1.5.0",
            "_model_name": "HBoxModel",
            "_view_count": null,
            "_view_module": "@jupyter-widgets/controls",
            "_view_module_version": "1.5.0",
            "_view_name": "HBoxView",
            "box_style": "",
            "children": [
              "IPY_MODEL_8083d3454fd64f428acb7b56f831452c",
              "IPY_MODEL_fff2b5dcfafb4011bb947bafe80f8030",
              "IPY_MODEL_9009c286ae68452492d16a7a317b6b51"
            ],
            "layout": "IPY_MODEL_12745e23b7594c16903976efd7c5b1ed"
          }
        },
        "8083d3454fd64f428acb7b56f831452c": {
          "model_module": "@jupyter-widgets/controls",
          "model_name": "HTMLModel",
          "model_module_version": "1.5.0",
          "state": {
            "_dom_classes": [],
            "_model_module": "@jupyter-widgets/controls",
            "_model_module_version": "1.5.0",
            "_model_name": "HTMLModel",
            "_view_count": null,
            "_view_module": "@jupyter-widgets/controls",
            "_view_module_version": "1.5.0",
            "_view_name": "HTMLView",
            "description": "",
            "description_tooltip": null,
            "layout": "IPY_MODEL_7d432cb8c2b54efd8b5ffd441035d7d5",
            "placeholder": "​",
            "style": "IPY_MODEL_162fb02d2a3c49cbbaa1bb90edcdd6b4",
            "value": "tokenizer_config.json: 100%"
          }
        },
        "fff2b5dcfafb4011bb947bafe80f8030": {
          "model_module": "@jupyter-widgets/controls",
          "model_name": "FloatProgressModel",
          "model_module_version": "1.5.0",
          "state": {
            "_dom_classes": [],
            "_model_module": "@jupyter-widgets/controls",
            "_model_module_version": "1.5.0",
            "_model_name": "FloatProgressModel",
            "_view_count": null,
            "_view_module": "@jupyter-widgets/controls",
            "_view_module_version": "1.5.0",
            "_view_name": "ProgressView",
            "bar_style": "success",
            "description": "",
            "description_tooltip": null,
            "layout": "IPY_MODEL_2b86023f49c94a09a54f2853feaf1b3a",
            "max": 29,
            "min": 0,
            "orientation": "horizontal",
            "style": "IPY_MODEL_02a9c3509bbe4054959413283e06efaa",
            "value": 29
          }
        },
        "9009c286ae68452492d16a7a317b6b51": {
          "model_module": "@jupyter-widgets/controls",
          "model_name": "HTMLModel",
          "model_module_version": "1.5.0",
          "state": {
            "_dom_classes": [],
            "_model_module": "@jupyter-widgets/controls",
            "_model_module_version": "1.5.0",
            "_model_name": "HTMLModel",
            "_view_count": null,
            "_view_module": "@jupyter-widgets/controls",
            "_view_module_version": "1.5.0",
            "_view_name": "HTMLView",
            "description": "",
            "description_tooltip": null,
            "layout": "IPY_MODEL_c1475adce8584b32bd60730bb8122293",
            "placeholder": "​",
            "style": "IPY_MODEL_c7cf6366c8b4418497bcab18c2d11743",
            "value": " 29.0/29.0 [00:00&lt;00:00, 1.39kB/s]"
          }
        },
        "12745e23b7594c16903976efd7c5b1ed": {
          "model_module": "@jupyter-widgets/base",
          "model_name": "LayoutModel",
          "model_module_version": "1.2.0",
          "state": {
            "_model_module": "@jupyter-widgets/base",
            "_model_module_version": "1.2.0",
            "_model_name": "LayoutModel",
            "_view_count": null,
            "_view_module": "@jupyter-widgets/base",
            "_view_module_version": "1.2.0",
            "_view_name": "LayoutView",
            "align_content": null,
            "align_items": null,
            "align_self": null,
            "border": null,
            "bottom": null,
            "display": null,
            "flex": null,
            "flex_flow": null,
            "grid_area": null,
            "grid_auto_columns": null,
            "grid_auto_flow": null,
            "grid_auto_rows": null,
            "grid_column": null,
            "grid_gap": null,
            "grid_row": null,
            "grid_template_areas": null,
            "grid_template_columns": null,
            "grid_template_rows": null,
            "height": null,
            "justify_content": null,
            "justify_items": null,
            "left": null,
            "margin": null,
            "max_height": null,
            "max_width": null,
            "min_height": null,
            "min_width": null,
            "object_fit": null,
            "object_position": null,
            "order": null,
            "overflow": null,
            "overflow_x": null,
            "overflow_y": null,
            "padding": null,
            "right": null,
            "top": null,
            "visibility": null,
            "width": null
          }
        },
        "7d432cb8c2b54efd8b5ffd441035d7d5": {
          "model_module": "@jupyter-widgets/base",
          "model_name": "LayoutModel",
          "model_module_version": "1.2.0",
          "state": {
            "_model_module": "@jupyter-widgets/base",
            "_model_module_version": "1.2.0",
            "_model_name": "LayoutModel",
            "_view_count": null,
            "_view_module": "@jupyter-widgets/base",
            "_view_module_version": "1.2.0",
            "_view_name": "LayoutView",
            "align_content": null,
            "align_items": null,
            "align_self": null,
            "border": null,
            "bottom": null,
            "display": null,
            "flex": null,
            "flex_flow": null,
            "grid_area": null,
            "grid_auto_columns": null,
            "grid_auto_flow": null,
            "grid_auto_rows": null,
            "grid_column": null,
            "grid_gap": null,
            "grid_row": null,
            "grid_template_areas": null,
            "grid_template_columns": null,
            "grid_template_rows": null,
            "height": null,
            "justify_content": null,
            "justify_items": null,
            "left": null,
            "margin": null,
            "max_height": null,
            "max_width": null,
            "min_height": null,
            "min_width": null,
            "object_fit": null,
            "object_position": null,
            "order": null,
            "overflow": null,
            "overflow_x": null,
            "overflow_y": null,
            "padding": null,
            "right": null,
            "top": null,
            "visibility": null,
            "width": null
          }
        },
        "162fb02d2a3c49cbbaa1bb90edcdd6b4": {
          "model_module": "@jupyter-widgets/controls",
          "model_name": "DescriptionStyleModel",
          "model_module_version": "1.5.0",
          "state": {
            "_model_module": "@jupyter-widgets/controls",
            "_model_module_version": "1.5.0",
            "_model_name": "DescriptionStyleModel",
            "_view_count": null,
            "_view_module": "@jupyter-widgets/base",
            "_view_module_version": "1.2.0",
            "_view_name": "StyleView",
            "description_width": ""
          }
        },
        "2b86023f49c94a09a54f2853feaf1b3a": {
          "model_module": "@jupyter-widgets/base",
          "model_name": "LayoutModel",
          "model_module_version": "1.2.0",
          "state": {
            "_model_module": "@jupyter-widgets/base",
            "_model_module_version": "1.2.0",
            "_model_name": "LayoutModel",
            "_view_count": null,
            "_view_module": "@jupyter-widgets/base",
            "_view_module_version": "1.2.0",
            "_view_name": "LayoutView",
            "align_content": null,
            "align_items": null,
            "align_self": null,
            "border": null,
            "bottom": null,
            "display": null,
            "flex": null,
            "flex_flow": null,
            "grid_area": null,
            "grid_auto_columns": null,
            "grid_auto_flow": null,
            "grid_auto_rows": null,
            "grid_column": null,
            "grid_gap": null,
            "grid_row": null,
            "grid_template_areas": null,
            "grid_template_columns": null,
            "grid_template_rows": null,
            "height": null,
            "justify_content": null,
            "justify_items": null,
            "left": null,
            "margin": null,
            "max_height": null,
            "max_width": null,
            "min_height": null,
            "min_width": null,
            "object_fit": null,
            "object_position": null,
            "order": null,
            "overflow": null,
            "overflow_x": null,
            "overflow_y": null,
            "padding": null,
            "right": null,
            "top": null,
            "visibility": null,
            "width": null
          }
        },
        "02a9c3509bbe4054959413283e06efaa": {
          "model_module": "@jupyter-widgets/controls",
          "model_name": "ProgressStyleModel",
          "model_module_version": "1.5.0",
          "state": {
            "_model_module": "@jupyter-widgets/controls",
            "_model_module_version": "1.5.0",
            "_model_name": "ProgressStyleModel",
            "_view_count": null,
            "_view_module": "@jupyter-widgets/base",
            "_view_module_version": "1.2.0",
            "_view_name": "StyleView",
            "bar_color": null,
            "description_width": ""
          }
        },
        "c1475adce8584b32bd60730bb8122293": {
          "model_module": "@jupyter-widgets/base",
          "model_name": "LayoutModel",
          "model_module_version": "1.2.0",
          "state": {
            "_model_module": "@jupyter-widgets/base",
            "_model_module_version": "1.2.0",
            "_model_name": "LayoutModel",
            "_view_count": null,
            "_view_module": "@jupyter-widgets/base",
            "_view_module_version": "1.2.0",
            "_view_name": "LayoutView",
            "align_content": null,
            "align_items": null,
            "align_self": null,
            "border": null,
            "bottom": null,
            "display": null,
            "flex": null,
            "flex_flow": null,
            "grid_area": null,
            "grid_auto_columns": null,
            "grid_auto_flow": null,
            "grid_auto_rows": null,
            "grid_column": null,
            "grid_gap": null,
            "grid_row": null,
            "grid_template_areas": null,
            "grid_template_columns": null,
            "grid_template_rows": null,
            "height": null,
            "justify_content": null,
            "justify_items": null,
            "left": null,
            "margin": null,
            "max_height": null,
            "max_width": null,
            "min_height": null,
            "min_width": null,
            "object_fit": null,
            "object_position": null,
            "order": null,
            "overflow": null,
            "overflow_x": null,
            "overflow_y": null,
            "padding": null,
            "right": null,
            "top": null,
            "visibility": null,
            "width": null
          }
        },
        "c7cf6366c8b4418497bcab18c2d11743": {
          "model_module": "@jupyter-widgets/controls",
          "model_name": "DescriptionStyleModel",
          "model_module_version": "1.5.0",
          "state": {
            "_model_module": "@jupyter-widgets/controls",
            "_model_module_version": "1.5.0",
            "_model_name": "DescriptionStyleModel",
            "_view_count": null,
            "_view_module": "@jupyter-widgets/base",
            "_view_module_version": "1.2.0",
            "_view_name": "StyleView",
            "description_width": ""
          }
        },
        "b3ba2943647c40adaadd81b16e7e3167": {
          "model_module": "@jupyter-widgets/controls",
          "model_name": "HBoxModel",
          "model_module_version": "1.5.0",
          "state": {
            "_dom_classes": [],
            "_model_module": "@jupyter-widgets/controls",
            "_model_module_version": "1.5.0",
            "_model_name": "HBoxModel",
            "_view_count": null,
            "_view_module": "@jupyter-widgets/controls",
            "_view_module_version": "1.5.0",
            "_view_name": "HBoxView",
            "box_style": "",
            "children": [
              "IPY_MODEL_9cb9b6030ba6485f88b01bed72ea45aa",
              "IPY_MODEL_d8290c8850dd4ae9b0c4d82199f572ca",
              "IPY_MODEL_6ae343ad05764af485799d5e8213bd79"
            ],
            "layout": "IPY_MODEL_4ca0280dd0924f82a381c2d7e96f4a51"
          }
        },
        "9cb9b6030ba6485f88b01bed72ea45aa": {
          "model_module": "@jupyter-widgets/controls",
          "model_name": "HTMLModel",
          "model_module_version": "1.5.0",
          "state": {
            "_dom_classes": [],
            "_model_module": "@jupyter-widgets/controls",
            "_model_module_version": "1.5.0",
            "_model_name": "HTMLModel",
            "_view_count": null,
            "_view_module": "@jupyter-widgets/controls",
            "_view_module_version": "1.5.0",
            "_view_name": "HTMLView",
            "description": "",
            "description_tooltip": null,
            "layout": "IPY_MODEL_24f88b0e8b2044e595ee7553d37c37e0",
            "placeholder": "​",
            "style": "IPY_MODEL_628261398a794be9920c3a6628697379",
            "value": "vocab.txt: 100%"
          }
        },
        "d8290c8850dd4ae9b0c4d82199f572ca": {
          "model_module": "@jupyter-widgets/controls",
          "model_name": "FloatProgressModel",
          "model_module_version": "1.5.0",
          "state": {
            "_dom_classes": [],
            "_model_module": "@jupyter-widgets/controls",
            "_model_module_version": "1.5.0",
            "_model_name": "FloatProgressModel",
            "_view_count": null,
            "_view_module": "@jupyter-widgets/controls",
            "_view_module_version": "1.5.0",
            "_view_name": "ProgressView",
            "bar_style": "success",
            "description": "",
            "description_tooltip": null,
            "layout": "IPY_MODEL_e7339c56aa8c40aa82ae93a996c0ca21",
            "max": 213450,
            "min": 0,
            "orientation": "horizontal",
            "style": "IPY_MODEL_ab55f2eeba1648a691aad79532860db7",
            "value": 213450
          }
        },
        "6ae343ad05764af485799d5e8213bd79": {
          "model_module": "@jupyter-widgets/controls",
          "model_name": "HTMLModel",
          "model_module_version": "1.5.0",
          "state": {
            "_dom_classes": [],
            "_model_module": "@jupyter-widgets/controls",
            "_model_module_version": "1.5.0",
            "_model_name": "HTMLModel",
            "_view_count": null,
            "_view_module": "@jupyter-widgets/controls",
            "_view_module_version": "1.5.0",
            "_view_name": "HTMLView",
            "description": "",
            "description_tooltip": null,
            "layout": "IPY_MODEL_79d9caf6f5c848898febc1d774b0f115",
            "placeholder": "​",
            "style": "IPY_MODEL_e1c902f3645c43c29d045b435325207c",
            "value": " 213k/213k [00:00&lt;00:00, 1.55MB/s]"
          }
        },
        "4ca0280dd0924f82a381c2d7e96f4a51": {
          "model_module": "@jupyter-widgets/base",
          "model_name": "LayoutModel",
          "model_module_version": "1.2.0",
          "state": {
            "_model_module": "@jupyter-widgets/base",
            "_model_module_version": "1.2.0",
            "_model_name": "LayoutModel",
            "_view_count": null,
            "_view_module": "@jupyter-widgets/base",
            "_view_module_version": "1.2.0",
            "_view_name": "LayoutView",
            "align_content": null,
            "align_items": null,
            "align_self": null,
            "border": null,
            "bottom": null,
            "display": null,
            "flex": null,
            "flex_flow": null,
            "grid_area": null,
            "grid_auto_columns": null,
            "grid_auto_flow": null,
            "grid_auto_rows": null,
            "grid_column": null,
            "grid_gap": null,
            "grid_row": null,
            "grid_template_areas": null,
            "grid_template_columns": null,
            "grid_template_rows": null,
            "height": null,
            "justify_content": null,
            "justify_items": null,
            "left": null,
            "margin": null,
            "max_height": null,
            "max_width": null,
            "min_height": null,
            "min_width": null,
            "object_fit": null,
            "object_position": null,
            "order": null,
            "overflow": null,
            "overflow_x": null,
            "overflow_y": null,
            "padding": null,
            "right": null,
            "top": null,
            "visibility": null,
            "width": null
          }
        },
        "24f88b0e8b2044e595ee7553d37c37e0": {
          "model_module": "@jupyter-widgets/base",
          "model_name": "LayoutModel",
          "model_module_version": "1.2.0",
          "state": {
            "_model_module": "@jupyter-widgets/base",
            "_model_module_version": "1.2.0",
            "_model_name": "LayoutModel",
            "_view_count": null,
            "_view_module": "@jupyter-widgets/base",
            "_view_module_version": "1.2.0",
            "_view_name": "LayoutView",
            "align_content": null,
            "align_items": null,
            "align_self": null,
            "border": null,
            "bottom": null,
            "display": null,
            "flex": null,
            "flex_flow": null,
            "grid_area": null,
            "grid_auto_columns": null,
            "grid_auto_flow": null,
            "grid_auto_rows": null,
            "grid_column": null,
            "grid_gap": null,
            "grid_row": null,
            "grid_template_areas": null,
            "grid_template_columns": null,
            "grid_template_rows": null,
            "height": null,
            "justify_content": null,
            "justify_items": null,
            "left": null,
            "margin": null,
            "max_height": null,
            "max_width": null,
            "min_height": null,
            "min_width": null,
            "object_fit": null,
            "object_position": null,
            "order": null,
            "overflow": null,
            "overflow_x": null,
            "overflow_y": null,
            "padding": null,
            "right": null,
            "top": null,
            "visibility": null,
            "width": null
          }
        },
        "628261398a794be9920c3a6628697379": {
          "model_module": "@jupyter-widgets/controls",
          "model_name": "DescriptionStyleModel",
          "model_module_version": "1.5.0",
          "state": {
            "_model_module": "@jupyter-widgets/controls",
            "_model_module_version": "1.5.0",
            "_model_name": "DescriptionStyleModel",
            "_view_count": null,
            "_view_module": "@jupyter-widgets/base",
            "_view_module_version": "1.2.0",
            "_view_name": "StyleView",
            "description_width": ""
          }
        },
        "e7339c56aa8c40aa82ae93a996c0ca21": {
          "model_module": "@jupyter-widgets/base",
          "model_name": "LayoutModel",
          "model_module_version": "1.2.0",
          "state": {
            "_model_module": "@jupyter-widgets/base",
            "_model_module_version": "1.2.0",
            "_model_name": "LayoutModel",
            "_view_count": null,
            "_view_module": "@jupyter-widgets/base",
            "_view_module_version": "1.2.0",
            "_view_name": "LayoutView",
            "align_content": null,
            "align_items": null,
            "align_self": null,
            "border": null,
            "bottom": null,
            "display": null,
            "flex": null,
            "flex_flow": null,
            "grid_area": null,
            "grid_auto_columns": null,
            "grid_auto_flow": null,
            "grid_auto_rows": null,
            "grid_column": null,
            "grid_gap": null,
            "grid_row": null,
            "grid_template_areas": null,
            "grid_template_columns": null,
            "grid_template_rows": null,
            "height": null,
            "justify_content": null,
            "justify_items": null,
            "left": null,
            "margin": null,
            "max_height": null,
            "max_width": null,
            "min_height": null,
            "min_width": null,
            "object_fit": null,
            "object_position": null,
            "order": null,
            "overflow": null,
            "overflow_x": null,
            "overflow_y": null,
            "padding": null,
            "right": null,
            "top": null,
            "visibility": null,
            "width": null
          }
        },
        "ab55f2eeba1648a691aad79532860db7": {
          "model_module": "@jupyter-widgets/controls",
          "model_name": "ProgressStyleModel",
          "model_module_version": "1.5.0",
          "state": {
            "_model_module": "@jupyter-widgets/controls",
            "_model_module_version": "1.5.0",
            "_model_name": "ProgressStyleModel",
            "_view_count": null,
            "_view_module": "@jupyter-widgets/base",
            "_view_module_version": "1.2.0",
            "_view_name": "StyleView",
            "bar_color": null,
            "description_width": ""
          }
        },
        "79d9caf6f5c848898febc1d774b0f115": {
          "model_module": "@jupyter-widgets/base",
          "model_name": "LayoutModel",
          "model_module_version": "1.2.0",
          "state": {
            "_model_module": "@jupyter-widgets/base",
            "_model_module_version": "1.2.0",
            "_model_name": "LayoutModel",
            "_view_count": null,
            "_view_module": "@jupyter-widgets/base",
            "_view_module_version": "1.2.0",
            "_view_name": "LayoutView",
            "align_content": null,
            "align_items": null,
            "align_self": null,
            "border": null,
            "bottom": null,
            "display": null,
            "flex": null,
            "flex_flow": null,
            "grid_area": null,
            "grid_auto_columns": null,
            "grid_auto_flow": null,
            "grid_auto_rows": null,
            "grid_column": null,
            "grid_gap": null,
            "grid_row": null,
            "grid_template_areas": null,
            "grid_template_columns": null,
            "grid_template_rows": null,
            "height": null,
            "justify_content": null,
            "justify_items": null,
            "left": null,
            "margin": null,
            "max_height": null,
            "max_width": null,
            "min_height": null,
            "min_width": null,
            "object_fit": null,
            "object_position": null,
            "order": null,
            "overflow": null,
            "overflow_x": null,
            "overflow_y": null,
            "padding": null,
            "right": null,
            "top": null,
            "visibility": null,
            "width": null
          }
        },
        "e1c902f3645c43c29d045b435325207c": {
          "model_module": "@jupyter-widgets/controls",
          "model_name": "DescriptionStyleModel",
          "model_module_version": "1.5.0",
          "state": {
            "_model_module": "@jupyter-widgets/controls",
            "_model_module_version": "1.5.0",
            "_model_name": "DescriptionStyleModel",
            "_view_count": null,
            "_view_module": "@jupyter-widgets/base",
            "_view_module_version": "1.2.0",
            "_view_name": "StyleView",
            "description_width": ""
          }
        },
        "856ccd126c2c4cad98ec245c45790406": {
          "model_module": "@jupyter-widgets/controls",
          "model_name": "HBoxModel",
          "model_module_version": "1.5.0",
          "state": {
            "_dom_classes": [],
            "_model_module": "@jupyter-widgets/controls",
            "_model_module_version": "1.5.0",
            "_model_name": "HBoxModel",
            "_view_count": null,
            "_view_module": "@jupyter-widgets/controls",
            "_view_module_version": "1.5.0",
            "_view_name": "HBoxView",
            "box_style": "",
            "children": [
              "IPY_MODEL_41320fa05eca470c9715cc62d9833efd",
              "IPY_MODEL_60ca62145ccf42e8837dc3db757877c4",
              "IPY_MODEL_253b4cc367e440629cc86440d9fbbe17"
            ],
            "layout": "IPY_MODEL_7f7bd86e78104257a83d6e9bc86ad5ae"
          }
        },
        "41320fa05eca470c9715cc62d9833efd": {
          "model_module": "@jupyter-widgets/controls",
          "model_name": "HTMLModel",
          "model_module_version": "1.5.0",
          "state": {
            "_dom_classes": [],
            "_model_module": "@jupyter-widgets/controls",
            "_model_module_version": "1.5.0",
            "_model_name": "HTMLModel",
            "_view_count": null,
            "_view_module": "@jupyter-widgets/controls",
            "_view_module_version": "1.5.0",
            "_view_name": "HTMLView",
            "description": "",
            "description_tooltip": null,
            "layout": "IPY_MODEL_ba52232330aa41dc907a1255260c63ec",
            "placeholder": "​",
            "style": "IPY_MODEL_2027f076f1b34494895aa40b59965998",
            "value": "tokenizer.json: 100%"
          }
        },
        "60ca62145ccf42e8837dc3db757877c4": {
          "model_module": "@jupyter-widgets/controls",
          "model_name": "FloatProgressModel",
          "model_module_version": "1.5.0",
          "state": {
            "_dom_classes": [],
            "_model_module": "@jupyter-widgets/controls",
            "_model_module_version": "1.5.0",
            "_model_name": "FloatProgressModel",
            "_view_count": null,
            "_view_module": "@jupyter-widgets/controls",
            "_view_module_version": "1.5.0",
            "_view_name": "ProgressView",
            "bar_style": "success",
            "description": "",
            "description_tooltip": null,
            "layout": "IPY_MODEL_7d13f3491c024fd9b496461d4a61dfe4",
            "max": 435797,
            "min": 0,
            "orientation": "horizontal",
            "style": "IPY_MODEL_10f30d5d097044cf80af9ee4e0548325",
            "value": 435797
          }
        },
        "253b4cc367e440629cc86440d9fbbe17": {
          "model_module": "@jupyter-widgets/controls",
          "model_name": "HTMLModel",
          "model_module_version": "1.5.0",
          "state": {
            "_dom_classes": [],
            "_model_module": "@jupyter-widgets/controls",
            "_model_module_version": "1.5.0",
            "_model_name": "HTMLModel",
            "_view_count": null,
            "_view_module": "@jupyter-widgets/controls",
            "_view_module_version": "1.5.0",
            "_view_name": "HTMLView",
            "description": "",
            "description_tooltip": null,
            "layout": "IPY_MODEL_75d0d47c1d544d95bee1f3145ffd00e4",
            "placeholder": "​",
            "style": "IPY_MODEL_debe6094f9974a1a8b87914ba1002709",
            "value": " 436k/436k [00:00&lt;00:00, 6.41MB/s]"
          }
        },
        "7f7bd86e78104257a83d6e9bc86ad5ae": {
          "model_module": "@jupyter-widgets/base",
          "model_name": "LayoutModel",
          "model_module_version": "1.2.0",
          "state": {
            "_model_module": "@jupyter-widgets/base",
            "_model_module_version": "1.2.0",
            "_model_name": "LayoutModel",
            "_view_count": null,
            "_view_module": "@jupyter-widgets/base",
            "_view_module_version": "1.2.0",
            "_view_name": "LayoutView",
            "align_content": null,
            "align_items": null,
            "align_self": null,
            "border": null,
            "bottom": null,
            "display": null,
            "flex": null,
            "flex_flow": null,
            "grid_area": null,
            "grid_auto_columns": null,
            "grid_auto_flow": null,
            "grid_auto_rows": null,
            "grid_column": null,
            "grid_gap": null,
            "grid_row": null,
            "grid_template_areas": null,
            "grid_template_columns": null,
            "grid_template_rows": null,
            "height": null,
            "justify_content": null,
            "justify_items": null,
            "left": null,
            "margin": null,
            "max_height": null,
            "max_width": null,
            "min_height": null,
            "min_width": null,
            "object_fit": null,
            "object_position": null,
            "order": null,
            "overflow": null,
            "overflow_x": null,
            "overflow_y": null,
            "padding": null,
            "right": null,
            "top": null,
            "visibility": null,
            "width": null
          }
        },
        "ba52232330aa41dc907a1255260c63ec": {
          "model_module": "@jupyter-widgets/base",
          "model_name": "LayoutModel",
          "model_module_version": "1.2.0",
          "state": {
            "_model_module": "@jupyter-widgets/base",
            "_model_module_version": "1.2.0",
            "_model_name": "LayoutModel",
            "_view_count": null,
            "_view_module": "@jupyter-widgets/base",
            "_view_module_version": "1.2.0",
            "_view_name": "LayoutView",
            "align_content": null,
            "align_items": null,
            "align_self": null,
            "border": null,
            "bottom": null,
            "display": null,
            "flex": null,
            "flex_flow": null,
            "grid_area": null,
            "grid_auto_columns": null,
            "grid_auto_flow": null,
            "grid_auto_rows": null,
            "grid_column": null,
            "grid_gap": null,
            "grid_row": null,
            "grid_template_areas": null,
            "grid_template_columns": null,
            "grid_template_rows": null,
            "height": null,
            "justify_content": null,
            "justify_items": null,
            "left": null,
            "margin": null,
            "max_height": null,
            "max_width": null,
            "min_height": null,
            "min_width": null,
            "object_fit": null,
            "object_position": null,
            "order": null,
            "overflow": null,
            "overflow_x": null,
            "overflow_y": null,
            "padding": null,
            "right": null,
            "top": null,
            "visibility": null,
            "width": null
          }
        },
        "2027f076f1b34494895aa40b59965998": {
          "model_module": "@jupyter-widgets/controls",
          "model_name": "DescriptionStyleModel",
          "model_module_version": "1.5.0",
          "state": {
            "_model_module": "@jupyter-widgets/controls",
            "_model_module_version": "1.5.0",
            "_model_name": "DescriptionStyleModel",
            "_view_count": null,
            "_view_module": "@jupyter-widgets/base",
            "_view_module_version": "1.2.0",
            "_view_name": "StyleView",
            "description_width": ""
          }
        },
        "7d13f3491c024fd9b496461d4a61dfe4": {
          "model_module": "@jupyter-widgets/base",
          "model_name": "LayoutModel",
          "model_module_version": "1.2.0",
          "state": {
            "_model_module": "@jupyter-widgets/base",
            "_model_module_version": "1.2.0",
            "_model_name": "LayoutModel",
            "_view_count": null,
            "_view_module": "@jupyter-widgets/base",
            "_view_module_version": "1.2.0",
            "_view_name": "LayoutView",
            "align_content": null,
            "align_items": null,
            "align_self": null,
            "border": null,
            "bottom": null,
            "display": null,
            "flex": null,
            "flex_flow": null,
            "grid_area": null,
            "grid_auto_columns": null,
            "grid_auto_flow": null,
            "grid_auto_rows": null,
            "grid_column": null,
            "grid_gap": null,
            "grid_row": null,
            "grid_template_areas": null,
            "grid_template_columns": null,
            "grid_template_rows": null,
            "height": null,
            "justify_content": null,
            "justify_items": null,
            "left": null,
            "margin": null,
            "max_height": null,
            "max_width": null,
            "min_height": null,
            "min_width": null,
            "object_fit": null,
            "object_position": null,
            "order": null,
            "overflow": null,
            "overflow_x": null,
            "overflow_y": null,
            "padding": null,
            "right": null,
            "top": null,
            "visibility": null,
            "width": null
          }
        },
        "10f30d5d097044cf80af9ee4e0548325": {
          "model_module": "@jupyter-widgets/controls",
          "model_name": "ProgressStyleModel",
          "model_module_version": "1.5.0",
          "state": {
            "_model_module": "@jupyter-widgets/controls",
            "_model_module_version": "1.5.0",
            "_model_name": "ProgressStyleModel",
            "_view_count": null,
            "_view_module": "@jupyter-widgets/base",
            "_view_module_version": "1.2.0",
            "_view_name": "StyleView",
            "bar_color": null,
            "description_width": ""
          }
        },
        "75d0d47c1d544d95bee1f3145ffd00e4": {
          "model_module": "@jupyter-widgets/base",
          "model_name": "LayoutModel",
          "model_module_version": "1.2.0",
          "state": {
            "_model_module": "@jupyter-widgets/base",
            "_model_module_version": "1.2.0",
            "_model_name": "LayoutModel",
            "_view_count": null,
            "_view_module": "@jupyter-widgets/base",
            "_view_module_version": "1.2.0",
            "_view_name": "LayoutView",
            "align_content": null,
            "align_items": null,
            "align_self": null,
            "border": null,
            "bottom": null,
            "display": null,
            "flex": null,
            "flex_flow": null,
            "grid_area": null,
            "grid_auto_columns": null,
            "grid_auto_flow": null,
            "grid_auto_rows": null,
            "grid_column": null,
            "grid_gap": null,
            "grid_row": null,
            "grid_template_areas": null,
            "grid_template_columns": null,
            "grid_template_rows": null,
            "height": null,
            "justify_content": null,
            "justify_items": null,
            "left": null,
            "margin": null,
            "max_height": null,
            "max_width": null,
            "min_height": null,
            "min_width": null,
            "object_fit": null,
            "object_position": null,
            "order": null,
            "overflow": null,
            "overflow_x": null,
            "overflow_y": null,
            "padding": null,
            "right": null,
            "top": null,
            "visibility": null,
            "width": null
          }
        },
        "debe6094f9974a1a8b87914ba1002709": {
          "model_module": "@jupyter-widgets/controls",
          "model_name": "DescriptionStyleModel",
          "model_module_version": "1.5.0",
          "state": {
            "_model_module": "@jupyter-widgets/controls",
            "_model_module_version": "1.5.0",
            "_model_name": "DescriptionStyleModel",
            "_view_count": null,
            "_view_module": "@jupyter-widgets/base",
            "_view_module_version": "1.2.0",
            "_view_name": "StyleView",
            "description_width": ""
          }
        }
      }
    }
  },
  "cells": [
    {
      "cell_type": "markdown",
      "metadata": {
        "id": "view-in-github",
        "colab_type": "text"
      },
      "source": [
        "<a href=\"https://colab.research.google.com/github/Ihsan1331/NLP_Course/blob/main/Intro_to_NLP_Ch_2.ipynb\" target=\"_parent\"><img src=\"https://colab.research.google.com/assets/colab-badge.svg\" alt=\"Open In Colab\"/></a>"
      ]
    },
    {
      "cell_type": "markdown",
      "source": [
        "## 0. Prerequisites\n",
        "---\n",
        "link: https://huggingface.co/learn/nlp-course/chapter2/1?fw=pt"
      ],
      "metadata": {
        "id": "h-wJ-lffPV0H"
      }
    },
    {
      "cell_type": "markdown",
      "source": [
        "#1. Introduction"
      ],
      "metadata": {
        "id": "3mPWk83jPcam"
      }
    },
    {
      "cell_type": "markdown",
      "source": [
        "---\n",
        "keypoint:\n",
        "1. 🤗 Transformers package dibuat untuk mempermudah user dalam menggunakan atau melatih model transformer.\n",
        "2. Chapter ini akan dimulai dengan bagaimana menggunakan mdel dan tokenizer untuk membentuk pipeline() seperti di Ch.1. Kemudian membahas API model, bagaimana meload model dan bagaimana model tersebut berproses hingga mengeluarkan output.\n"
      ],
      "metadata": {
        "id": "gfgfR5e7PoX_"
      }
    },
    {
      "cell_type": "markdown",
      "source": [
        "# 2. Behind the pipeline\n",
        "---\n",
        "pipeline yang digunakan di Ch. 1 menyatukan 3 proses: preprocessing, model, post processing\n",
        "![image.png](data:image/png;base64,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)"
      ],
      "metadata": {
        "id": "Rw70YRyIQu_G"
      }
    },
    {
      "cell_type": "markdown",
      "source": [
        "## 2.1 Preprocessing with tokenizer"
      ],
      "metadata": {
        "id": "3FTFQv4GU6tL"
      }
    },
    {
      "cell_type": "markdown",
      "source": [
        "---\n",
        "1. sama seperti NN lainnya, transformers tidak bisa menerima teks dalam bentuk raw perlu diubah menjadi vektor.\n",
        "2. untuk itu akan digunakan fungsi **tokenizer**.\n",
        "  1. Membagi input menjadi kata, subkata atau simbol yag disebut token\n",
        "  2. Memetakan tiap token menjadi bilangan bulat\n",
        "  3. Menambahkan input lain yang berguna untuk model\n",
        "3. Proses preprocessing harus dilakukan dengan cara yang sama ketika model dipretrained."
      ],
      "metadata": {
        "id": "dpuRNdUHU-WT"
      }
    },
    {
      "cell_type": "code",
      "execution_count": 1,
      "metadata": {
        "colab": {
          "base_uri": "https://localhost:8080/",
          "height": 237,
          "referenced_widgets": [
            "f49009eb2fc449468b2edae350c9a17e",
            "87590e557e2144d5acd1bdd53dbf6c24",
            "1c86364bd19d499b97a319f01b6de04b",
            "aabb3013ee8f42f59dde0109ec1b57f1",
            "536e5d54adc64d48a8025c59dc5b380a",
            "de66f901d63047febdc07c1e419ad3ca",
            "af8172ce635945409793e03c0ba1b7d4",
            "d8bf5efad1674ad1a5f4530c0825bdd1",
            "7e1cbda367c74553b8ab6c0dfc498a90",
            "8248bb9a4c8d4545b57b85a04893c842",
            "469202bbc3594af9b5dc52c0b897c47e",
            "88bf66904c3846beabae1de7fe260304",
            "913a37839fc5427e99271fc02a3fa817",
            "3f4179021f5d4252ab40345bcac41f81",
            "0da39c7f68fe4f4699cb75ce829108c1",
            "45560936ee274b419e33414f5a379333",
            "ebc09db7a2984dc7aee84393f3a77c10",
            "ffe16cb34642426c9b89af94a26a0aac",
            "4f6a90c5dfb34bd990a4e05a7a40924c",
            "d24693a2da4741edad44a4f53e2179bb",
            "0cc7d10e46594eedbc480df28556e6bb",
            "5f93a9228c9d4fed98801e37a1b6359d",
            "5f3928b90b3e4b5ba8ba6bbe7435448f",
            "d9bee71d8da54129a7827986ee70b333",
            "06578fa1ec9c4ebcaf798fbdf4290d81",
            "7940d9f532a3426e8eba894a3de63720",
            "1993e5b771634d2596682aa9437119e8",
            "b5e37debb59945d0a05a9986e1ae2522",
            "bd545027170b49c6804c4912f6e4a5c1",
            "8d3447cc81fb4633ac59808b299dca03",
            "de9ea08a6e2544489a6deccfba12da16",
            "a45c8fa3e4c0471594c31a14df0753b3",
            "c28394ebe50a4c6e976bbdb07a1a2d13"
          ]
        },
        "id": "C4Fo6od7PDtB",
        "outputId": "c33ce992-971c-455c-d33e-5be9b08d6c23"
      },
      "outputs": [
        {
          "output_type": "stream",
          "name": "stderr",
          "text": [
            "/usr/local/lib/python3.10/dist-packages/huggingface_hub/utils/_token.py:88: UserWarning: \n",
            "The secret `HF_TOKEN` does not exist in your Colab secrets.\n",
            "To authenticate with the Hugging Face Hub, create a token in your settings tab (https://huggingface.co/settings/tokens), set it as secret in your Google Colab and restart your session.\n",
            "You will be able to reuse this secret in all of your notebooks.\n",
            "Please note that authentication is recommended but still optional to access public models or datasets.\n",
            "  warnings.warn(\n"
          ]
        },
        {
          "output_type": "display_data",
          "data": {
            "text/plain": [
              "tokenizer_config.json:   0%|          | 0.00/48.0 [00:00<?, ?B/s]"
            ],
            "application/vnd.jupyter.widget-view+json": {
              "version_major": 2,
              "version_minor": 0,
              "model_id": "f49009eb2fc449468b2edae350c9a17e"
            }
          },
          "metadata": {}
        },
        {
          "output_type": "display_data",
          "data": {
            "text/plain": [
              "config.json:   0%|          | 0.00/629 [00:00<?, ?B/s]"
            ],
            "application/vnd.jupyter.widget-view+json": {
              "version_major": 2,
              "version_minor": 0,
              "model_id": "88bf66904c3846beabae1de7fe260304"
            }
          },
          "metadata": {}
        },
        {
          "output_type": "display_data",
          "data": {
            "text/plain": [
              "vocab.txt:   0%|          | 0.00/232k [00:00<?, ?B/s]"
            ],
            "application/vnd.jupyter.widget-view+json": {
              "version_major": 2,
              "version_minor": 0,
              "model_id": "5f3928b90b3e4b5ba8ba6bbe7435448f"
            }
          },
          "metadata": {}
        }
      ],
      "source": [
        "from transformers import AutoTokenizer\n",
        "\n",
        "checkpoint = \"distilbert-base-uncased-finetuned-sst-2-english\"\n",
        "# menggunakan from_pretrained dari AutoTokenizer akan mengambil informasi token dari model\n",
        "tokenizer = AutoTokenizer.from_pretrained(checkpoint)"
      ]
    },
    {
      "cell_type": "code",
      "source": [
        "# contoh kalimat yang akan dimasuk ke dalam model\n",
        "raw_inputs = [\n",
        "    \"I've been waiting for a HuggingFace course my whole life.\",\n",
        "    \"I hate this so much!\",\n",
        "]\n",
        "\n",
        "#tokenizer untuk mengubah kalimat menjadi id dari Token\n",
        "#return_tensors = buat nentuin tensorsnya mau di return dalma format apa bisa pytorch, TF, numpy, JAX\n",
        "inputs = tokenizer(raw_inputs, padding=True, truncation=True, return_tensors=\"pt\")\n",
        "print(inputs)"
      ],
      "metadata": {
        "colab": {
          "base_uri": "https://localhost:8080/"
        },
        "id": "veycbcGFWinb",
        "outputId": "551cf0fd-467b-42f1-c976-9557656044d0"
      },
      "execution_count": 6,
      "outputs": [
        {
          "output_type": "stream",
          "name": "stdout",
          "text": [
            "{'input_ids': tensor([[  101,  1045,  1005,  2310,  2042,  3403,  2005,  1037, 17662, 12172,\n",
            "          2607,  2026,  2878,  2166,  1012,   102],\n",
            "        [  101,  1045,  5223,  2023,  2061,  2172,   999,   102,     0,     0,\n",
            "             0,     0,     0,     0,     0,     0]]), 'attention_mask': tensor([[1, 1, 1, 1, 1, 1, 1, 1, 1, 1, 1, 1, 1, 1, 1, 1],\n",
            "        [1, 1, 1, 1, 1, 1, 1, 1, 0, 0, 0, 0, 0, 0, 0, 0]])}\n"
          ]
        }
      ]
    },
    {
      "cell_type": "markdown",
      "source": [
        "## 2.2 Going thoruch the model"
      ],
      "metadata": {
        "id": "i7FwZhylXtAq"
      }
    },
    {
      "cell_type": "markdown",
      "source": [
        "---\n",
        "1. mirip seperti tokenizer buat download pretrained pake AutoModel"
      ],
      "metadata": {
        "id": "6dY3SCCVXwax"
      }
    },
    {
      "cell_type": "code",
      "source": [
        "from transformers import AutoModel\n",
        "\n",
        "checkpoint = \"distilbert-base-uncased-finetuned-sst-2-english\"\n",
        "model = AutoModel.from_pretrained(checkpoint)"
      ],
      "metadata": {
        "colab": {
          "base_uri": "https://localhost:8080/",
          "height": 49,
          "referenced_widgets": [
            "da162f3e98064e73b60a180378f66fea",
            "f0ef5a8fa82343dbbab1b7cbea23a00a",
            "dbf638ded9b541f994d042826500b9e0",
            "32e464ee01534510927d5c6f4fae580c",
            "e925eacef68d41bd9afe41834917659a",
            "71eed171c86e4107ae609aba40253745",
            "285e93116fff40e3aa12e3fa849311ee",
            "c0d9799e0ddd4fbbac75a1aedfc5f3cc",
            "415c8db3d22849d08e496ba76c77053a",
            "000301aeabd94d59878573c832859ab9",
            "01ad5c2e1b6545968ed6aa1db58b0797"
          ]
        },
        "id": "Rg6X7ry9X2X7",
        "outputId": "30707b34-cc0c-43c7-9c90-d537672e1627"
      },
      "execution_count": 7,
      "outputs": [
        {
          "output_type": "display_data",
          "data": {
            "text/plain": [
              "model.safetensors:   0%|          | 0.00/268M [00:00<?, ?B/s]"
            ],
            "application/vnd.jupyter.widget-view+json": {
              "version_major": 2,
              "version_minor": 0,
              "model_id": "da162f3e98064e73b60a180378f66fea"
            }
          },
          "metadata": {}
        }
      ]
    },
    {
      "cell_type": "markdown",
      "source": [
        "![image.png](data:image/png;base64,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)\n",
        "1. Arsitektur yang didownload hanya berisi dasar dari model transformer: dikasih input akan mengeluarkan **hidden states** atau **feature** . untuk setiap input akan megeluarkan vektor berdimensi tinggi yang merepresentasikan konteks pemahaman input oleh si model.\n",
        "2. **hidden states** akan dihubungkan dengan **head** yang merupakan model lain. Sehingga untuk arsitektur yang sama bisa mengerjakan tugas yang berbeda **karena punya head yang berbeda tergantung tugasnya**."
      ],
      "metadata": {
        "id": "mGI5FCn3Yn1y"
      }
    },
    {
      "cell_type": "markdown",
      "source": [
        "## 2.3 High Dimensional Vector?"
      ],
      "metadata": {
        "id": "wXq9aMi6Zdgy"
      }
    },
    {
      "cell_type": "markdown",
      "source": [
        "---\n",
        "1. vektor output dari transformer memiliki 3 dimensi:\n",
        "  1. batch size: jumlah kalimat yang diproses dalam 1 waktu (dalam contoh ini 2)\n",
        "  2. sequence length: panjang kalimat (dalam contoh ini 16)\n",
        "  3. Hidden Size: dimensi vektor dari setiap input (bisa berupa 768, bisa juga 3072 atau lebih tergantung ukuran model)\n",
        "  "
      ],
      "metadata": {
        "id": "oK2Te0u_ZkF5"
      }
    },
    {
      "cell_type": "code",
      "source": [
        "#buat lihat ukuran dari output dari model yang kita pakai\n",
        "#NB: ini output size dari transformer network\n",
        "outputs = model(**inputs)\n",
        "print(outputs.last_hidden_state.shape)"
      ],
      "metadata": {
        "colab": {
          "base_uri": "https://localhost:8080/"
        },
        "id": "cLZ40miGaLxi",
        "outputId": "1e9fab11-3d3e-4756-be2b-cfa9dcb64fba"
      },
      "execution_count": 9,
      "outputs": [
        {
          "output_type": "stream",
          "name": "stdout",
          "text": [
            "torch.Size([2, 16, 768])\n"
          ]
        }
      ]
    },
    {
      "cell_type": "markdown",
      "source": [
        "![image.png](data:image/png;base64,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)\n",
        "\n",
        "## 2.4 Model Head\n",
        "---\n",
        "model head umumnya terdiir dari 1 atau lebih linear layer yanag akan menerima vektor berdimensi tinggi yang merupakan output dari transformers network.\n",
        "\n",
        "Di 🤗 Transformers ada beberapa arsitektur yang sudah dibuat,\n",
        "\n",
        "1. Model (output hidden state) (ini yang dipakai barusan)\n",
        "2. ForCausalLM\n",
        "3. ForMaskedLM\n",
        "4. ForMultipleChoice\n",
        "5. ForQuestionAnswering\n",
        "6. ForSequenceClassification\n",
        "7. ForTokenClassification\n",
        "7. dan lainnya"
      ],
      "metadata": {
        "id": "7_lyk2aMadD_"
      }
    },
    {
      "cell_type": "code",
      "source": [
        "# karena kita model yang kita pakai default buat sentiment analysis maka kita ganti jadi AutoModelForSequenceClassification\n",
        "from transformers import AutoModelForSequenceClassification\n",
        "\n",
        "checkpoint = \"distilbert-base-uncased-finetuned-sst-2-english\"\n",
        "model = AutoModelForSequenceClassification.from_pretrained(checkpoint)\n",
        "outputs = model(**inputs)\n",
        "outputs"
      ],
      "metadata": {
        "colab": {
          "base_uri": "https://localhost:8080/"
        },
        "id": "6DPUyv9ZaaDq",
        "outputId": "e9dfdbc5-3464-44b2-e798-a7e60b3872e7"
      },
      "execution_count": 16,
      "outputs": [
        {
          "output_type": "execute_result",
          "data": {
            "text/plain": [
              "SequenceClassifierOutput(loss=None, logits=tensor([[-1.5607,  1.6123],\n",
              "        [ 4.1692, -3.3464]], grad_fn=<AddmmBackward0>), hidden_states=None, attentions=None)"
            ]
          },
          "metadata": {},
          "execution_count": 16
        }
      ]
    },
    {
      "cell_type": "markdown",
      "source": [
        "Namun, output yang kita dapatkan masih belum masuk akal oleh karnea itu diperlukan post processing"
      ],
      "metadata": {
        "id": "5rMcUz3ncRsy"
      }
    },
    {
      "cell_type": "markdown",
      "source": [
        "## 2.5 Postprocessing output"
      ],
      "metadata": {
        "id": "cALohI_Wcgvy"
      }
    },
    {
      "cell_type": "code",
      "source": [
        "outputs.logits"
      ],
      "metadata": {
        "colab": {
          "base_uri": "https://localhost:8080/"
        },
        "id": "XfqDLM_Jcpk0",
        "outputId": "67adf30c-c37e-4edf-9cba-d1df25d3e2df"
      },
      "execution_count": 18,
      "outputs": [
        {
          "output_type": "execute_result",
          "data": {
            "text/plain": [
              "tensor([[-1.5607,  1.6123],\n",
              "        [ 4.1692, -3.3464]], grad_fn=<AddmmBackward0>)"
            ]
          },
          "metadata": {},
          "execution_count": 18
        }
      ]
    },
    {
      "cell_type": "markdown",
      "source": [
        "\n",
        "Model memberikan prediksi [-1.5607, 1.6123] untuk kalimat pertama dan [ 4.1692, -3.3464] untuk kalimat kedua. BIlangan ini bukanlah probabilitas tapi logits hasil dari layer terakhir yang masih raw dan tidak dinormalisasi. Untuk diubah ke probabilitas atau peluang menggunakan softmax layer"
      ],
      "metadata": {
        "id": "T2MQxOD6c9Ei"
      }
    },
    {
      "cell_type": "code",
      "source": [
        "import torch\n",
        "\n",
        "predictions = torch.nn.functional.softmax(outputs.logits, dim=-1)\n",
        "print(predictions)"
      ],
      "metadata": {
        "colab": {
          "base_uri": "https://localhost:8080/"
        },
        "id": "65syhwpxddsb",
        "outputId": "1f63b99d-aeca-4187-a8e2-9145ea73dba9"
      },
      "execution_count": 19,
      "outputs": [
        {
          "output_type": "stream",
          "name": "stdout",
          "text": [
            "tensor([[4.0195e-02, 9.5980e-01],\n",
            "        [9.9946e-01, 5.4418e-04]], grad_fn=<SoftmaxBackward0>)\n"
          ]
        }
      ]
    },
    {
      "cell_type": "markdown",
      "source": [
        "Terlihat kalau model mengeluarkan 0,0401 ... dan 0.95... untuk kalimat 1. Untuk kalimat 2 0.99... dan 0.0005 yang menandakan kedua kalimat sudah menjadi probabilitas. untuk mendapat labelnya bisa dengan"
      ],
      "metadata": {
        "id": "vx8t1tC_dgQS"
      }
    },
    {
      "cell_type": "code",
      "source": [
        "model.config.id2label"
      ],
      "metadata": {
        "colab": {
          "base_uri": "https://localhost:8080/"
        },
        "id": "ip-hopMZd-9a",
        "outputId": "57ea2d4f-f907-4ed3-ee9f-ca9d7c823bf5"
      },
      "execution_count": 20,
      "outputs": [
        {
          "output_type": "execute_result",
          "data": {
            "text/plain": [
              "{0: 'NEGATIVE', 1: 'POSITIVE'}"
            ]
          },
          "metadata": {},
          "execution_count": 20
        }
      ]
    },
    {
      "cell_type": "markdown",
      "source": [
        "# 3. Models"
      ],
      "metadata": {
        "id": "TVKtZ1poeCCS"
      }
    },
    {
      "cell_type": "code",
      "source": [
        "# buat BERT model\n",
        "from transformers import BertConfig, BertModel\n",
        "\n",
        "# buat konfigurasi dari BERT model\n",
        "config = BertConfig()\n",
        "\n",
        "# membuat model BERT dari konfigurasi\n",
        "model = BertModel(config)\n",
        "\n",
        "#Model yang dibuat memiliki bobot yang random jadi perlu do train"
      ],
      "metadata": {
        "id": "LMe3cgAYeGx6"
      },
      "execution_count": 21,
      "outputs": []
    },
    {
      "cell_type": "code",
      "source": [
        "# buat load model BERT yang sudah dilatih\n",
        "\n",
        "from transformers import BertModel\n",
        "\n",
        "model = BertModel.from_pretrained(\"bert-base-cased\")\n",
        "\n",
        "#kita bisa ganti BertModel jadi AutoModel sama kayak yang udah ditunjukkin sebelumnya"
      ],
      "metadata": {
        "id": "RBqv7l2UjDz_"
      },
      "execution_count": 24,
      "outputs": []
    },
    {
      "cell_type": "code",
      "source": [
        "# buat save model\n",
        "model.save_pretrained(\"directory\")\n"
      ],
      "metadata": {
        "id": "pSInqHgKkeSi"
      },
      "execution_count": 25,
      "outputs": []
    },
    {
      "cell_type": "markdown",
      "source": [
        "di folder akan kesimpen 2 file config.json dan model.safatensor\n",
        "1. config.json buat nyimpen atribuat yang diperlukan untuk bikin arsitektur dan metadata kayak misalnya versi HF transformers.\n",
        "2. model.safetensors buat nyimpen bobot dari model."
      ],
      "metadata": {
        "id": "05KB1yYak_89"
      }
    },
    {
      "cell_type": "markdown",
      "source": [
        "# 4. Tokenizers"
      ],
      "metadata": {
        "id": "LsiYsbtWmRDN"
      }
    },
    {
      "cell_type": "markdown",
      "source": [
        "---\n",
        "1. Tokenizer mengubah teks menjadi sebuah token\n",
        "2. ada beberapa cara, bisa word based, character bsed, subword based"
      ],
      "metadata": {
        "id": "_BjPrtaInXE8"
      }
    },
    {
      "cell_type": "markdown",
      "source": [
        "## 4.1 Word Based\n",
        "---\n",
        "![image.png](data:image/png;base64,iVBORw0KGgoAAAANSUhEUgAAByIAAAGnCAYAAAD7dpCeAAAgAElEQVR4AezdB5wkZZ03cM73fT0EI57hUIKeCpKTSpJkIgmKHJIliQIKKEGUJDnnnEGiZElLXnIQXMISlrRk2AUWWIKcp2e9n39zT211T3dPz053T/fUtz+f+XRPd9VTVd/n193P1H+qaobMjQABAgQIECBAgAABAgQIECBAgAABAgQIECBAgAABAm0WmKHN7WmOAAECBAgQIECAAAECBAgQIECAAAECBAgQIECAAAECmUKkEBAgQIAAAQIECBAgQIAAAQIECBAgQIAAAQIECBAg0HYBhci2k2qQAAECBAgQIECAAAECBAgQIECAAAECBAgQIECAAAGFSBkgQIAAAQIECBAgQIAAAQIECBAgQIAAAQIECBAgQKDtAgqRbSfVIAECBAgQIECAAAECBAgQIECAAAECBAgQIECAAAECCpEyQIAAAQIECBAgQIAAAQIECBAgQIAAAQIECBAgQIBA2wUUIttOqkECBAgQIECAAAECBAgQIECAAAECBAgQIECAAAECBBQiZYAAAQIECBAgQIAAAQIECBAgQIAAAQIECBAgQIAAgbYLKES2nVSDBAgQIECAAAECBAgQIECAAAECBAgQIECAAAECBAgoRMoAAQIECBAgQIAAAQIECBAgQIAAAQIECBAgQIAAAQJtF1CIbDupBgkQIECAAAECBAgQIECAAAECBAgQIECAAAECBAgQUIiUAQIECBAgQIAAAQIECBAgQIAAAQIECBAgQIAAAQIE2i6gENl2Ug0SIECAAAECBAgQIECAAAECBAgQIECAAAECBAgQIKAQKQMECBAgQIAAAQIECBAgQIAAAQIECBAgQIAAAQIECLRdQCGy7aQaJECAAAECBAgQIECAAAECBAgQIECAAAECBAgQIEBAIVIGCBAgQIAAAQIECBAgQIAAAQIECBAgQIAAAQIECBBou4BCZNtJNUiAAAECBAgQIECAAAECBAgQIECAAAECBAgQIECAgEKkDBAgQIAAAQIECBAgQIAAAQIECBAgQIAAAQIECBAg0HYBhci2k2qQAAECBAgQIECAAAECBAgQIECAAAECBAgQIECAAAGFSBkgQIAAAQIECBAgQIAAAQIECBAgQIAAAQIECBAgQKDtAgqRbSfVIAECBAgQIECAAAECBAgQIECAAAECBAgQIECAAAECCpEyQIAAAQIECBAgQIAAAQIECBAgQIAAAQIECBAgQIBA2wUUIttOqkECBAgQIECAAAECBAgQIECAAAECBAgQIECAAAECBBQiZYAAAQIECBAgQIAAAQIECBAgQIAAAQIECBAgQIAAgbYLKES2nVSDBAgQIECAAAECBAgQIECAAAECBAgQIECAAAECBAgoRMoAAQIECBAgQIAAAQIEhijw8MMPZ8stt1zl5/LLL6879xNPPJGNHTu27mueJECAAAECBAgQIECAAAECZRBQiCxDL9tGAgQIECBAgAABAqNU4NZbb81OOumk7MADD8wuuOCC7Omnn+7Klt5xxx3ZDDPMUPk5/vjjByzzvvvuy2acccbK62usscaA1z1BgAABAgQIECBAgAABAgTKIKAQWYZeto0ECBAgQIAAAQIERpHA1KlTs+233z77xCc+kRcDU1Ew7hdccMHsjDPO6OgWD1aIPPTQQ6vWraMro3ECBAgQIECAAAECBAgQINCjAgqRPdoxVosAAQIECBAgQIAAgYECb7/9djbXXHNVFfmKRcji4xVXXDH729/+NrCRNjwzWCEyjoicZZZZKuu5/vrr111iHMEZ6/upT32q7uueJECAAAECBAgQIECAAAEC/S6gENnvPWj9CRAgQIAAAQIECJRIYPPNN8+LkEsttVR20UUXZc8880z2zjvvZLfffnt2xBFHZPF8KkjeddddHdEZrBAZC33vvfeyxx57rOHy45SuCpENebxAgAABAgQIECBAgAABAqNAQCFyFHSiTSBAgAABAgQIECBQBoFXX301LzDG6Veb3Q466KDskEMOaTbJsF5rpRA52AL23XdfhcjBkLxOgAABAgQIECBAgAABAn0toBDZ191n5QkQIECAAAECBAiUR+CWW27JC5H777//iG54OwqR2223nULkiPaihRMgQIAAAQIECBAgQIBApwUUIjstrH0CBAgQIECAAAECBNoicNVVV+WFyCOPPHK629x7772z3//+99lzzz1XaePll1/Odtttt2zhhRfOPvShD1Xuf/KTn2RRbGx0G6wQGadljWXEzzXXXFPVTHp+0UUXrWzPzDPPnE+bXnvrrbeq5hnslzg1bZyWdokllsg++clPZh/5yEeyaH+PPfbIXnvttaazX3rppZXljxkzJp/u3HPPzVZeeeXss5/9bGUd47qcf/rTn/LXh/rg/vvvz1ZfffWKb5yOds4556z8HgXlyZMnD2ju0UcfrazTYYcdlr8W5htuuGE2++yzZx/96EezZZddNttxxx2zOFJ2sNvVV1+dbbnllpW+nWmmmSrb9NWvfjU744wzBps1f/3888/PVllllWyOOebIZpxxxkpbG2+8cVOXqVOnZrGNiy22WBb9HNs+22yzZZHBN998M2+73oOTTjopiyN/02mGo41NNtkku/DCC+tN7jkCBAgQIECAAAECBAj0pIBCZE92i5UiQIAAAQIECBAgQKBWYPz48XlRZplllql9ueXfU2Enri951FFHZR/72MfydtNr6f4Pf/hD3XYHK0S+/vrreZvbbrtt3sbbb7+dP5+WUe/+hRdeyOcZ7EG4zDrrrA3b/fCHP5zdeOONDZuJomusw/rrr5+99NJL2de//vWGbR177LEN22n0QhT76m1jei6KpjfccEPV7Jdcckk+zxtvvJFtsMEG+e9pvnQf2/7UU09VzZ9+ueCCCyoFwzRtvfs111wzTV73/pVXXqkUdevNm57baqutBswb/fLpT3+64XpHQXXSpEkD5osnVlxxxYbzxTK/9rWvZVHkdCNAgAABAgQIECBAgECvCyhE9noPWT8CBAgQIECAAAECBHKBYpFs+eWXz5555pn8tVYfxNFsUcz5t3/7t8p9HPW39dZbZ3HEWxTsoiCXCkxxP27cuAFNT28hMhrafffdKz9f+MIXKsuJI+XSc+m+1SMiH3jggSwKjWl9N9poo8o2jB07Ntt5553z5+P1OKK03i0VIuMIynnnnbcyzyKLLJIdffTR2WWXXZbtsMMOVe08+eST9Zqp+9zTTz9dOXowlj/33HNnl19+eV5AO+aYY7JZZpmlcvRmTFe8xVGaaZtSP0Xxbc8998zi6MYoIs8zzzz5NPPPP39x9srjOFIyHf34+c9/vnI0YdqmXXfdtXJkZVrGeeedN2D+eCIKszFvmm6hhRbKDjzwwOzaa6+tbMuqq65aee3Xv/511fyRmXQEZORtl112yaK4GkeaRtZSe0sttVTVfPFLHEGZXo8CbPRx3KJoGUdExmtxZKYbAQIECBAgQIAAAQIE+kFAIbIfesk6EiBAgAABAgQIECBQEXjkkUcqhatUqIliz09/+tPstttua1koFSKjje9+97tZHL1YezvnnHPyYlAUm2pvwylEpraikBrr8KlPfSo9NaT7KFamYma0E8W72tu9996be33iE5/IT0dbnC4VIpPpvvvuW3y58jhOhZteP+SQQwa83uiJOAVpmm/ChAkDJoujHW+99dYBzxePiIz5o/hX77bWWmvl7dc7ejUKu41O4xvrk9YtTmlb7xan603T1BYb0/S1p6yNfolTz8Z8n/vc57J62/3HP/4xb7f2VKtf+tKXKq9F0b3eLbIXbm4ECBAgQIAAAQIECBDoBwGFyH7oJetIgAABAgQIECBAgEAu8OCDD2aLL754XshJhaI4Ku7UU0/Np2v0IBUil1xyyUaTVJ7/1re+lS/jxRdfrJq2FwqRcURh2vZf/vKXVetX/KVYRIyjG2tvxUJko6Mm33333XxZg53KtNh+nJY2rWPx+cEeFwuRhx56aMPJ4/qeqf2ll1664XSNXohtSfPXThNHg6bX4vqWrd6K/RJHbza6fec736m0X+v58Y9/vPJ8FNjdCBAgQIAAAQIECBAg0O8CCpH93oPWnwABAgQIECBAgEBJBa688sq61/+LU3medtppDVU++MEPVgo9a6+9dsNp4oXitQ3jCMnirRcKkXEUXyqUPf/888XVq3r83nvv5UdF1jv6csMNN8zbqZqx5pd///d/r0xX73SiNZPmv8bRk2kdGx3VmE9ceHDxxRfn89U70rMwabbyyivn0xafb+VxnOo1rV/tkYtrrLFG/tpQTkeb+iWOpmx2i9PExrLjqNbibYEFFqg8H0ewPvroo8WXPCZAgAABAgQIECBAgEDfCShE9l2XWWECBAgQIECAAAECBIoCY8aMqXuE5C9+8YviZPnjVguRccrQVKTabbfd8vnjQS8UIv/v//2/lfWLaycOdisW1eIowuKt1UJkXB8xPOK+1dsrr7ySffSjH80dozh3+OGHDzr7UAqR0c+pnx5++OGmbccpTaOwGdfPjOsvxnUr07x33XVX1bzpFKlf/vKXq54f7JfUL7/61a+aTnrFFVdUlv0v//Iv2T//+c982uOPPz5fp1i3OBrzpptuyl/3gAABAgQIECBAgAABAv0koBDZT71lXQkQIECAAAECBAgQaChw+eWXZ6usskpVEafeqVpbLUQ+/vjjeVtbbrll1XJHuhA5derUfN3WW2+9qnWr98vvfve7fPpx48ZVTdJqITJdLzFOgTuU2z333JPNNddc+fKjuDbrrLNm+++/fxbbUe82lEJk8ajGm2++eUBzkyZNyg466KAsTsWbio5xH0d4pms5xu/Rp8VbKigut9xyxaebPo7rQxaX0erjOPVt8RZHj84000xVbcU1RWuvR1mcx2MCBAgQIECAAAECBAj0ooBCZC/2inUiQIAAAQIECBAgQGC6BeKIu1QAitNc1t5aLUROnDgxb2errbaqamakC5HFayNuttlmVetW75cDDjgg35Y40rN463QhMi3rwgsvHHAq3Tha8oQTTkiT5PdDKUTut99+Dbft9NNPz1+beeaZs7iWZvTdO++8U1lW8fqZt912W778eJAyFMXtVm+TJ0/O5/viF7+YRRGzlZ967U+ZMiX7/e9/n8UpWtO6xH0Ugp2ytZ6Y5wgQIECAAAECBAgQ6EUBhche7BXrRIAAAQIECBAgQIDAsATmmWeevHhTe7RZq4XI4qlZ991336r1GelCZKxMKk6tueaaVetW75cdd9wxn772eofdKkSm9XrwwQezH/zgB/n6xHZcd9116eXK/VAKkcVTsz711FN5O7fffnu+jG9/+9tZHBlZe2tWiPz0pz9dmX/xxRevna3h73GK1TjVamzTr3/964bTDfWFCy64IJtjjjny7YnTxca1P90IECBAgAABAgQIECDQ6wIKkb3eQ9aPAAECBAgQIECAAIEhC2yyySZ50ebZZ5+tmr/VQuQhhxySt3HeeedVtdELhcg4tWgUvL761a9WrVu9X1ZaaaV8W/76179WTdLtQmRaeJxKd5ZZZqmsV+11LodSiPz617+eb1tqO+6/973vVZ6PIxMb3ZoVItOpaOMUqUO5RZEw+mXZZZcdymyDTvv2229nO+ywQ76tRx999KDzmIAAAQIECBAgQIAAAQIjLaAQOdI9YPkECBAgQIAAAQIECLQscNNNN7U07VJLLVUp2Pyf//N/sn/84x9V87RaiIwj4aKg9KEPfSiLIlDx1o5C5Kqrrlpp/+Mf/3ix6ZYfxylZY/3i56GHHmo436uvvppPt+KKKw6YbqQKkbEicdRg2obiirVaiHzxxRfz+WuPDP3Upz5VeW2jjTYqNl31uFkhsnhdzVifVm8777xzZbkf+MAHsji9b7tvH/vYxyrtb7rppu1uWnsECBAgQIAAAQIECBBou4BCZNtJNUiAAAECBAgQIECAQCcE1lprrUoBZvfdd89qj+orLi+OtIsiUBS44kjA2tuMM85Yee0b3/hGw9NbnnTSSZVpoo16hay77rorf/3EE0+sXUT2+uuv569vu+22A16PJ37+85/n08T0Q70V12GRRRbJr3tY204qeMa2xHUaa2+dLEQ+8sgj2UsvvVS7yPz3ZBDXiizeLrnkktym9rS4xenSUY+xbWPGjCm+lB9tufLKK1c9X/yleKRonMq1eIvrMEa78ROnaa09srY47VtvvZX/+vTTT2dxFGXMt8wyyzTMWD5DzYMbbrih5plpv/7P//xPpTAebW+zzTbTXvCIAAECBAgQIECAAAECPSqgENmjHWO1CBAgQIAAAQIECBCYJvDCCy9kc845Z14Y+sxnPpNtt9122dixY7PJkydnU6dOze65555s6623zqeJYk1c57H2lgqR8XqcRvPss8/Oj3iMdg488MC8jSiQvfzyy7VNZHGdxZg/fuoVylopRBaLncXrCQ7l2n/FU3UuvfTS2bhx4/J1feKJJ7LVV189X8/aIwbThJ0qRMa1Oeeaa65KQfCggw6q9FFaZtw//PDD2Yc//OHK+tUe3VcsRIbxD3/4w+y2227LZ49tKxZYv//97+evpQdx9Gfqo9ocXHvttVmcDja9HvdxlGvtLYreaZrZZ589u/TSS6smufLKK7P55psv23jjjaueP+uss/L5ll9++ez666+vej1+iaMxv/Od71Q9H9PF8uJ0s1FQr73ttddeebtFj9rp/E6AAAECBAgQIECAAIFeEVCI7JWesB4ECBAgQIAAAQIECDQVeO2117LVVlstL8SkAlGj+6OOOqpue6kQ+ZWvfKWqrXRNwGJ79YpBqdE4pWpM+4lPfCLbaqut0tOV+1YKke+8805+5Fy0E9dLTMXWG2+8saq9Zr9ssMEGVdsx66yzZrXbFtcrrD29bGqzU4XIxx9/PJt//vnzdYtT3C633HKVn29+85v587PNNlsWp48t3oqFyAUWWCCfNqznnnvu/Pdwi2tk1isWR6Gu2JdRqI3lR+Ewnv/IRz6S7brrrvk0tUdEpvUpXm80tbfooovm88VzkYXIZ/FWLGjHNPPOO29l+XGUZDq9ajx/55135rOdcsop2cwzz5y3/R//8R+5WWxnWv6WW26Zz+MBAQIECBAgQIAAAQIEellAIbKXe8e6ESBAgAABAgQIECAwQOC6667L1llnneyzn/1sXphJBZo55pgj22KLLbI4Yq7RLU0b11iMaysutNBCA9qZZ555sptvvrlRE5Xn995773y+KJAVb60UImP6008/varwlNbtuOOOKzY36ONDDjmkrkcU237zm980nb9Thci00Djys7YwmrYzjticNGlSmjS/LxYi4yjBcEpHT6Z54z5O1ztlypR8vtoHUUiuLVzGfOuvv36leBnXD03tNTvC8Nhjj80+//nP59OmeSKDcS3JetsQ6xKFxSgMp+mL93Fq4Hvvvbd2lSttxSlr621v5Cxy50aAAAECBAgQIECAAIF+EVCI7Jeesp4ECBAgQIAAAQIECAwQeOyxxyrFnij4xOlSW7l98IMfrBSG4kjCdLv//vuzo48+OjvmmGOyW265JT096H2c4vOII46onCJ20ImbTBDLjCPo4hSmrW5Hveauvvrqyik/Dz744Oyyyy5reN3IevN2+rkwPu2007IDDjggO//885teO/Liiy/Oi3dx+tO4xXVB40jRmP+MM84YktPdd9+dhcl5552XvfLKK9O9qVEUjSJx9FWzaznWLiDW+4QTTsj233//Sr9MnDixdpK6v8fyosgcR/cOZXl1G/MkAQIECBAgQIAAAQIERkBAIXIE0C2SAAECBAgQIECAAIGRE0inZl1vvfVGbiUsualA8YjIKKi6ESBAgAABAgQIECBAgEB/CihE9me/WWsCBAgQIECAAAECBKZTIB0Rufbaa09nC2brtEDxiMhLL72004vTPgECBAgQIECAAAECBAh0SEAhskOwmiVAgAABAgQIECBAoDcFFCJ7s1+Ka6UQWdTwmAABAgQIECBAgAABAv0roBDZv31nzQkQIECAAAECBAgQmA4BhcjpQOvyLAqRXQa3OAIECBAgQIAAAQIECHRIQCGyQ7CaJUCAAAECBAgQIECgNwUUInuzX4prpRBZ1PCYAAECBAgQIECAAAEC/SugENm/fWfNCRAgQIAAAQIECBCYDoG99tor23333bMLL7xwOuY2SzcEHn300UofRT9NmDChG4u0DAIECBAgQIAAAQIECBDogIBCZAdQNUmAAAECBAgQIECAAAECBAgQIECAAAECBAgQIECg7AIKkWVPgO0nQIAAAQIECBAgQIAAAQIECBAgQIAAAQIECBAg0AEBhcgOoGqSAAECBAgQIECAAAECBAgQIECAAAECBAgQIECAQNkFFCLLngDbT4AAAQIECBAgQIAAAQIECBAgQIAAAQIECBAgQKADAgqRHUDVJAECBAgQIECAAAECBAgQIECAAAECBAgQIECAAIGyCyhElj0Btp8AAQIECBAgQIAAAQIECBAgQIAAAQIECBAgQIBABwQUIjuAqkkCBAgQIECAAAECBAgQIECAAAECBAgQIECAAAECZRdQiCx7Amw/AQIECBAgQIAAAQIECBAgQIAAAQIECBAgQIAAgQ4IKER2AFWTBAgQIECAAAECBAgQIECAAAECBAgQIECAAAECBMouoBBZ9gTYfgIECBAgQIAAAQIECBAgQIAAAQIECBAgQIAAAQIdEFCI7ACqJgkQIECAAAECBAgQIECAAAECBAgQIECAAAECBAiUXUAhsuwJsP0ECBAgQIAAAQIECBAgQIAAAQIECBAgQIAAAQIEOiCgENkBVE0SIECAAAECBAgQIECAAAECBAgQIECAAAECBAgQKLuAQmTZE2D7CRAgQIAAAQIECBAgQIAAAQIECBAgQIAAAQIECHRAQCGyA6iaJECAAAECBAgQIECAAAECBAgQIECAAAECBAgQIFB2AYXIsifA9hMgQIAAAQIECBAgQIAAAQIECBAgQIAAAQIECBDogIBCZAdQNUmAAAECBAgQIECAAAECBAgQIECAAAECBAgQIECg7AIKkWVPgO0nQIAAAQIECBAgQIAAAQIECBAgQIAAAQIECBAg0AEBhcgOoGqSAAECBAgQIECAAAECBAgQIECAAAECBAgQIECAQNkFFCLLngDbT4AAAQIECBAgQIAAAQIECBAgQIAAAQIECBAgQKADAgqRHUDVJAECBAgQIECAAAECBAgQIECAAAECBAgQIECAAIGyCyhElj0Btp8AAQIECBAgQIAAAQIECBAgQIAAAQIECBAgQIBABwQUIjuAqkkCBAgQIECAAAECBAgQIECAAAECBAgQIECAAAECZRdQiCx7Amw/AQIECBAgQIAAAQIECBAgQIAAAQIECBAgQIAAgQ4IKER2AFWTBAgQIECAAAECBAgQIECAAAECBAgQIECAAAECBMouoBBZ9gTYfgIECBAgQIAAAQIECBAgQIAAAQIECBAgQIAAAQIdEFCI7ACqJgkQIECAAAECBAgQIECAAAECBAgQIECAAAECBAiUXUAhsuwJsP0ECBAgQIAAAQIECBAgQIAAAQIECBAgQIAAAQIEOiCgENkBVE0SIECAAAECBAgQIECAAAECBAgQIECAAAECBAgQKLuAQmTZE2D7CRAgQIAAAQIECBAgQIAAAQIECBAgQIAAAQIECHRAQCGyA6iaJECAAAECBAgQIECAAAECBAgQIECAAAECBAgQIFB2AYXIsifA9hMgQIAAAQIECBAgQIAAAQIECBAgQIAAAQIECBDogIBCZAdQNUmAAAECBAgQIECAAAECBAgQIECAAAECBAgQIECg7AJVhci3pmTZSxOzbOL4LHtinB8GMiADMiADMiADMiADMiADMiADMiADMiADMiADMiADMiADMiADoycDUQOLWljUxNw6L1ApRP7j71n2wuOjJ0Q+EPSlDMiADMiADMiADMiADMiADMiADMiADMiADMiADMiADMiADMhAswy88ESWRY3MrXMClUJkKkI+PyHL3pycZe+8kWXvTvXDQAZkQAZkQAZkYGQyUBwg6oOR6QPu3GVABmRABmSgNzNgnNSb/eL9ol9kQAZkQAZkoH8yEDWwqIU9N+H9Im0UI906JzDD1Nfeh44ipDcKAxmQARmQARmQgV7IgB1sctgLObQOcigDMiADMtCLGTBOkstezKV1kksZkAEZkIF+zUAqRk51mtaOVSJnePHJ9wuRb0z2RunXN4r1ll0ZkAEZkIHRlgE72GR6tGXa9si0DMiADMhAuzJgnCRL7cqSdmRJBmRABmRABrIsamMxvnrpqY7V4Urf8AwTH3wf+d03vem86WRABmRABmRABnojA3aw9UY/eD/oBxmQARmQARnovQwYJ/Ven3if6BMZkAEZkAEZ6N8MvP3G+zWyieNLXy/sGMAMaQDrjdK/bxR9p+9kQAZkQAZGWwbS+CTuR9u22R59KgMyIAMyIAMyMJwMGCfJz3DyY175kQEZkAEZkIGBGUjjq45V4kresELk1IGh80ZkIgMyIAMyIAMjm4E0AFSIHNl+8D7gLwMyIAMyIAO9lwHjpN7rE+8TfSIDMiADMiAD/Z2BNL4qeb2wY5uvEKkQ6UgTGZABGZABGei5DKQBoEJkfw/k/SGm/2RABmRABmSg/RkwTmq/qZwylQEZkAEZkIFyZyCNrzpWiSt5wwqRdj733M5nH/rl/tDX//pfBmQgMpAGgAqR8uAzQQZkQAZkQAZkoDoDxknVHvLBQwZkQAZkQAZkYLgZSOOrktcLO7b5CpEKkQqRMiADMiADMtBzGUgDQIVIf0wM948J88uQDMiADMjAaMuAcZJMj7ZM2x6ZlgEZkAEZGOkMpPFVxypxJW9YIdLO557b+TzSHzqW74tPBmRABkY+A2kAqBA58n3h/aAPZEAGZHLU3QQAACAASURBVEAGZKC3MmCc1Fv94f2hP2RABmRABmSg/zOQxlclrxd2bPMVIhUiFSJlQAZkQAZkoOcykAaACpH9P5j3B5k+lAEZkAEZkIH2ZsA4qb2e8slTBmRABmRABmQgja86VokrecMKkXY+99zOZx/8PvhlQAZkQAbSAFAhUhZ8HsiADMiADMiADFRnwDip2kM+eMiADMiADMiADAw3A2l8VfJ6Ycc2XyFSIVIhUgZkQAZkQAZ6LgNpAKgQ6Y+J4f4xYX4ZkgEZkAEZGG0ZME6S6dGWadsj0zIgAzIgAyOdgTS+6lglruQNK0Ta+dxzO59H+kPH8n3xyYAMyMDIZyANABUiR74vvB/0gQzIgAzIgAz0VgaMk3qrP7w/9IcMyIAMyIAM9H8G0viq5PXCjm2+QqRCpEKkDMiADMiADPRcBtIAUCGy/wfz/iDThzIgAzIgAzLQ3gwYJ7XXUz55yoAMyIAMyIAMpPFVxypxJW9YIdLO557b+eyD3we/DMiADMhAGgAqRMqCzwMZkAEZkAEZkIHqDBgnVXvIBw8ZkAEZkAEZkIHhZiCNr0peL+zY5itEKkQqRMqADMiADMhAz2UgDQAVIv0xMdw/JswvQzIgAzIgA6MtA8ZJMj3aMm17ZFoGZEAGZGCkM5DGVx2rxJW8YYVIO597bufzSH/oWL4vPhmQARkY+QykAaBC5Mj3hfeDPpABGZABGZCB3sqAcVJv9Yf3h/6QARmQARmQgf7PQBpflbxe2LHNV4hUiFSIlAEZkAEZkIGey0AaACpE9v9g3h9k+lAGZEAGZEAG2psB46T2esonTxmQARmQARmQgTS+6lglruQNK0Ta+dxzO5998PvglwEZkAEZSANAhUhZ8HkgAzIgAzIgAzJQnQHjpGoP+eAhAzIgAzIgAzIw3Ayk8VXJ64Ud23yFSIVIhUgZkAEZkAEZ6LkMpAGgQqQ/Job7x4T5ZUgGZEAGZGC0ZcA4SaZHW6Ztj0zLgAzIgAyMdAbS+KpjlbiSN6wQaedzz+18HukPHcv3xScDMiADI5+BNABUiBz5vvB+0AcyIAMyIAMy0FsZME7qrf7w/tAfMiADMiADMtD/GUjjq5LXCzu2+QqRCpEKkTIgAzIgAzLQcxlIA0CFyP4fzPuDTB/KgAzIgAzIQHszYJzUXk/55CkDMiADMiADMpDGVx2rxJW8YYVIO597buezD34f/DIgAzIgA2kAqBApCz4PZEAGZEAGZEAGqjNgnFTtIR88ZEAGZEAGZEAGhpuBNL4qeb2wY5uvEKkQqRApAzIgAzIgAz2XgTQAVIj0x8Rw/5gwvwzJgAzIgAyMtgwYJ8n0aMu07ZFpGZABGZCBkc5AGl91rBJX8oYVIu187rmdzyP9oWP5vvhkQAZkYOQzkAaACpEj3xfeD/pABmRABmRABnorA8ZJvdUf3h/6QwZkQAZkQAb6PwNpfFXyemHHNl8hUiFSIVIGZEAGZEAGei4DaQCoENn/g3l/kOlDGZABGZABGWhvBoyT2uspnzxlQAZkQAZkQAbS+KpjlbiSN6wQaedzz+189sHvg18GZEAGZCANABUiZcHngQzIgAzIgAzIQHUGjJOqPeSDhwzIgAzIgAzIwHAzkMZXJa8XdmzzFSIVIhUiZUAGZEAGZKDnMpAGgAqR/pgY7h8T5pchGZABGZCB0ZYB4ySZHm2Ztj0yLQMyIAMyMNIZSOOrjlXiSt6wQqSdzz2383mkP3Qs3xefDMiADIx8BtIAUCFy5PvC+0EfyIAMyIAMyEBvZcA4qbf6w/tDf8iADMiADMhA/2cgja9KXi/s2OYrRCpEKkTKgAzIgAzIQM9lIA0AFSL7fzDvDzJ9KAMyIAMyIAPtzYBxUns95ZOnDMiADMiADMhAGl91rBJX8oYVIu187rmdzz74ffDLgAzIgAykAaBCpCz4PJABGZABGZABGajOgHFStYd88JABGZABGZABGRhuBtL4quT1wo5tvkKkQqRCpAzIgAzIgAz0XAbSAFAh0h8Tw/1jwvwyJAMyIAMyMNoyYJwk06Mt07ZHpmVABmRABkY6A2l81bFKXMkbVoi087nndj6P9IeO5fvikwEZkIGRz0AaACpEjnxfeD/oAxmQARmQARnorQwYJ/VWf3h/6A8ZkAEZkAEZ6P8MpPFVyeuFHdt8hUiFSIVIGRiRDNx50+PZyUeOySY8OGlElm+A0P8DBH04uvswDQAVIkd3P3sf699eysCbr/0j++pn1s9/Jow3Ruml/rEuPi9kYFoGjJOmWcgFi37KwKb/eWA+zjj/9FtH9b6Q+//87KjevgfvfT57bdJ/jept7Kf3lnX1XdCODKTxVccqcSVvWCFSEcqXpgx0PQPnn3FrPviOHX5/vvWprq9DO76gtGGgIwOdy0AaACpEds5YftnKQHUGFCKrPeSDhwz0bgaMk3q3b7xv9E2zDJShEDnp+Xezby/6q8o+n0Xm3DS74coHR9X+nig+fv+bv61s30Kzb5z96by7+nr7HvrLi9lhe19c+TnzxBv7eluavfe85rO5lQyk8VXJ64Ud23yFSEUoXzJ9loEDdz8/L+Jtt/nxfdl/v9nyxHwbohC5669P78vtaOVLzDQGOzIwfRlIA0CFyOnzkztuMjD0DChEDt1MzpjJwMhkwDhpZNzlnftwM1CGQuQFNf94vsW6h42q/T1XXzKuan/Wuqvs1dfbd+VF9+bbs8a3du3rbRnu+9P8PuPT+KpjlbiSN6wQ2WdFKB+KPhR7sRB5z20Ts3VX3bvyc93lDww6cLn47DvygU4UIkfbwNT71PtUBoafgTQAVIgcvqU8MpSB1jKgENmakzxxkoGRz4Bx0sj3gfdBf/ZBXB5mve/vU/l5dQROq1mGQuQdNz5Wtb9n753OHnQf0Ui/nw7f5+JKJjZcfd9B1/XhcS9WbV/8o/1Ir/9wln/tZffn2/PjFffo620ZjoN5+/Mzvd39lsZXJa8XdmzzFSIVIn3J9FkGerEQGaeiiIJi/Jx32s0tZSpOx7rlBkdU5tli/cNbmqfdXzDaM9CQgd7NQBoAKkT2bh95/+ib0ZYBhUiZHm2Ztj2jN9PGSaO3b71vO9u322xydL7vIk4h2m3vMhQiw/TI/S6pFPa23uTobPIL3Xcear9utMb+lVzM89kNWsrEyUddXdm+2Jf1/MSpLc0z1HXq1vQ3jnkof0+sv9o+fb0t3TKznM5+To+kbxpfdawSV/KGFSL7rAg1km9Gy+6ND9oDdvtjPkjYbvPjemKQcPpx1+frdN6prRUiI0/HHHhZZb69djyzJ7ZDxnsj4/pBP0QG0gBQIVIefCbIQLcyoBApa93KmuXI2nAzYJwkQ8PNUFnn/8kP3y84xT9RK0R6H6X3wQ9X2KWyb6rVQmSabzTc33bDhHx/3k9+MPgRoaNhm22D936jDKTxVcnrhR3bfIVIhUgFoD7LQC8eEXnk/pfmA5dWj4iMD/04JUr8AXDFhffIYZ/lsNGXtucN6NqVgTQAVIiUqXZlSjuyNFgGFCJlZLCMeF1GeiUDxkmy2CtZ7Lf1+MH/FpwUIr2HitldYdFtS1uIjLOVxfshfjb78cH2zdk3V+oMpPFVxypxJW9YIdIHTKk/YIoDj3553IuFyD13PCsfuLRaiEwX+P7B8rvIoM8hGZCBARlIA0CFSDsJ+uX72XqOjqymHTFxP2H8pAGfTfp5dPSzftSP/Z4B4yQZ7vcMj9T6r7DINvm+C0dEeh+lHC76xc0quSjjEZH33f1s/p7YcgOXTUqZcF/Oz4c0vip5vbBjm68QaeevHSx9loGDdj8/HyRs/7Pj29J/Uyb/LTvhsCuzNb+zW/aNr/wsW2TOTbP//O7u2XabH59d9se76y7jsfGTskvPuTM79ahrsigmph13P1/n0OzQvS6q+nnw3uer2rjqkr9kC8+xSfaNuX6ePf7wK1WvpS/7Jx95NYsLyf94pT3ytr/7je0r63TNpffVnSfN676cAwb9Prr6PQ0AFSJHV796n+rPkczAy8+9k+2909nZKkvvlC3yhc2yJefZMotrNV1+/p/zcUWMgdKYptEYpXYbYqy0wer7ZsstuHVl3mXm/2W29kp7ZheeeXvebu08fvdekAEZGE4GjJPkZzj5Kdu8d4x9PLvgjFsr+zwWmn3j/Hs+Lntz2N4XV/00sxl/7wvZr396bLbiEjtU9pnEvpPVlvldFv+Y/fKzb7f0nT+Ua0TGvpa0fvGP3M3WLfbNxBmnvjnfL7LYxhjrxPULo41m88VrF511e2U5Jx1xVdW099w2Mdt646Oyby36q9zsZ2sfksXzg7V53MGX5+v+3FNvDpj+zpsez19P2zjY/UvP1DeOU4sevMeF2Yar75utsMi22YKzb5x99+vbZVuud1jT7b/1ukezP55+S3bcIVfk2xdjwNr1iDOA1W5vsW+eaLBPq3aesVc/lP107YOzb/+v51LzbJmt9b3fZ3G9ydcn//eAZdTOH7/HfrtYv+jv4uuxjy2ucxn9n8axO/3i5Ib724rzPnL/y/k8v9r0mKp2i9N57HunDBlI46uOVeJK3rBCZJ8VocrwpreNzb/c2n1E5B03PpYtPe9W+cAjDVqK91tteMSAwUixIFqctt7ji8++I58/ip5f+9LmlcHsuLueyZ8v9nsMCBf7j582XacfLLdzFoPX4nweN88OHz79lIE0AFSIlNt+yq117d28xg68ZmOLdVfZK3vkvpey2CmUxjKDFSJjx9Pqy/4unz7NV7z/zte2y2LHpWz0bjb0jb7pxwwYJ8ltP+Z2pNZ5laV2bPpdXfzefu3l/6r7nf3bX5zctI0o/p110o115y1ud6uFyOMOnlYcW3q+rbIXnp5at+2nH3+96h/Di9uSHkdRMv4Zq7gexcebrXVQvm3x/Gsvv5fttNVJ+XOpneL9DVc+2LC9aOPrX948n3/cnQP3+xx3yJX568V2mz1+aNyLVcuM4tuqS+80aDtRoK1X6BtsP1halwVm26hqubF9qZgY04y9+uEBrxd9wz5dlii1WXsf63L7jROathNtpnHqOivvVZn26cenZDGGrW0v/b7QHJtkEx5sfoaPJx9+NZ9/xy1PHHQditvmse+i0ZaBNL4qeb2wY5uvEKkQ6UumzzJQLAAO94jIOAIgDVDiPv6TP9qPIxp33/6MyhGL6fX4b8HiF0xxPdI0je4vKRQio427bn6iMrgttpcex0A6jpZMbcVRk7/4yZGV9Yoi7AoLTzuVSvwH4quT6v+hkNpzb2AkA/2ZgTQAVIjsz/7zvtNvvZSBOAoijSvSfRQl46wLa3139wGvpWmaFSLjejoxRknTxn2cWWLdVffOfrzitLM5xPNxuq9Wdi71kpl18R6Wgd7OgHFSb/eP909v9c9wCpGvvvTegO/1OOouCkvxE/skimOB2E/SrP9bKUSOHfNQFqcIjXajwNnoH7jjzFOpMBXTxlkd9tzhzMr+nP12PrdyVGBat/VX26fhehULkfFPWd9bfPt8m2K8FEWvKGamtuI+/rm8WXFzsEJkHNlXbG+wx0t8dYvslRf/mm/D6cdcW3f+lZbcMVtlqd8MeG27zY/L5039041C5GMPTa4cpVncviieRnZizFh8Ph7X7jtL65ruU3/HP7pVxqKF/MUZOX707V0rZ/0othvPpfnr3T/35Bv5euyyzalNp603v+d66/NOfwyvP9L4qmOVuJI3rBDZZ0UoHyjD+0AZDX7FAuBwCpF33fJkPtiIAesVF0w7LVlyemHi1Gzlwn8PNjoCMU7jmgY6rV4jMi2j9n6v35ydt7X52odkcQRl7TRnnzy2Mri68arxA16rndbv3jMy0J8ZSANAhcj+7D/vO/3WKxl46C8v5uOKGKvEzrT4h6ji+j087sVsxy1OrJoupm10qq0nH32tqggZp9X6yx1PV7UZy41ThKXxURQjY2dUcbkee5/IgAxMbwaMk2RnerNT5vmKBZf4fm7lGpGxTyJ9l8c/INXu74hCZZwWNE0T92cce13D7/vBCpExViieweGqi/9St604FWw6JXwsM06FWu+ftOPsVmndTjy8+tSrKQub/fjgfJpUWI3L79x0TfWRfmccf30+XbR5/KFX1l23aHewQmRadqP7GJvN//mf5Mu7/ooHqpYVlwpK27XHDmdmcZ3DYlthccqRV+fTxLSNTik7vjBWbPUaka0cERmF0zhFbFrPuNTQdZdXb8fEx6ZkW29ydD5NTBtnLStuS/FxsXiaLicQl0caX7gc0ttv/E8W+wrTcuP+xjEPNWzzpWffyafda8czG05XXA+PfQeN1gyk8VXJ64Ud23yFSIVIXzJ9loF2FCLjtBTFc8fHueobfYnEaRzSACauB1BvunYWIr//zd/my7v7lifrLi/WoZU/Guqtq+cMmGSgPzKQBoBxr88YyIAMTG8GimOUdBqrRm3Ff6GnMU/cNzoisthmHDUQpzBr1GacSj61GdeRajSd52VcBmRgKBkwTpKXoeTFtO/nZaiFyLh2X/oOj/u4hEwjy7iOYHHaOFqx3rTNCpFR1FyxcDRinKmqXhvx3BbrHpYv76gD/tRwutj3k4phi8/987rTFY+IjG345UZHZa81OPNUXCMzbWezoyyHU4icOuUf2feXmbZfaIctTqi73icfOSab8MDLdV9LbnFNxrS+++96Xt1pO1WI3HbTY/JlRxE7/pEtrVftfXE9Y19dZKF2mvi9WIiM7YoieL3p4rniQQX7/PachtPF6YiT0X671DdqtAzP+y4abRlI46uOVeJK3rBCZJ8VoUbbG9z2DP1Lqx3XiLz03LvygUZcwHqwfigOoOrtbCvukKv9D8HB2q59PQ2SYyAURxPUvu73oWeGGbN+zEAaACpEym8/5tc690Zu4yjFtGMl7h+457lBxxXF6esVIuM/7ovTxBkmmvV3nOKsOP21l93fdPpmbXmtN3KlH/RDL2TAOEkOeyGH/bYOQy1EFk9RGmduGmx7i/98tMPP6xfPGhUi33nzn1nxtZ+tU/+fwGMd4nI2aWwRpyIdbL2KpzEdO2bgWaWKhci4RE+z9mIck5a95DxbNpx2OIXIKMCmZcT1Mevtg2q2jsXXLjjz9ryt2G9VfC097kQhMk5bm7Yh7i866/a6y07r8NIzb1dOd5vmOe3oa+tOXyxEnn/GrXWnSW0ese8l+TpEttLz9e7TcpsVv+vN5znfRaMtA2l8VfJ6Ycc2XyFSIbLpl9Fo+0AZDdvTjkJknLohDTTuGPv4oBmIU4uk6ev9F2A7C5EbrbF/vqw4DUq904uMhn60DQZsMtA8A2kAqBDZ3EmO+MhA4wzsu/M5+Zhig9UbXxspGb752j/y6WPcM2H8pAFjpH1+O+0U8uusvOeA11NbxfvijsXtf358S/MU5/e4cR+zYVPWDBgnyX5Zsz+c7R5KITJO45n2gcT9M4+/Puj39/mnT7sm9UJzbJK99fr/DJinOCaI6dP2HLb3xfnyVl/2d3UvUZOmPe6gy/Npjzv4iryN9Hrt/bjCP2bFkZu1rxfXKU6/Wvt68fc4bX3Rpfha8fH0FiLvv/vZbL5ZN8yXccu1jzRdn+Iy6z2+t9CPi89V/4jQThQiTy/sQ/vm/L/IotBcb/2Kz+3269Pz7W40xkzXiIw+iGtEFuevfXz5+X/O24tT7da+Xvw9mR/d5Oja4vQe+w4arRlI46uOVeJK3rBCpEJk0y+j0frB0s/bdcBuf8wHE/UuuN3KtsUpOdLgsZXpr7n0vnz6s066cUBm2lmI/NN5047WjHVcYeFtsniulfU0jcGQDIyeDKQBoELk6OlT70992e0MxI68NN6J06u1svw0fdzXOyIyrgeZpml2KrTisuLUYWmeby/265bWozi/x947MiADtRkwTpKJ2kz4ffBMDKUQeVLh+oLf/+ZOLX13P/vEG/n3fXzvRxGstl+KRb9UiCweZbjE3Ftk0U7tfMXf42jJNK6486bB/7G8eA3Aev8QVVynwQqRk194N192rEP8Xly39Hh6CpFvvvr3bMUldsjb33275kdnpmXV3j/5yKvZlRffm8XRfRv/6IC8vVjf2mnj904UIn9VOC1ro1PL1q7LlRfdm69rXKsyrvVYO81QCpFxjc+Uk+98bbsBbRXbXuQLm1ambXQd0eK0Hg/+WcOof43S+Krk9cKObb5CpEJk0y8jH5699+E53CMi4xoBaTAS9+uuuvegP8UdeccedPmAzLSzEBmZK153IK1rDLh22uqkARchl9Hey6g+0SftyEAaACpEylM78qSNcuao+I9X11/xwIDxS71cpHFH3NcrRC67wC/zcdRVl/ylpTZvuPLBfJ5ot95yPVfOjOp3/T69GTBOkp3pzU6Z5xtKIXLf3007q0JcqqZVt2IBrt4/VBdPg3rBGbdmcQr3ReZ8vwgUY4QYZ0yZ/Lemy/vRt3fNxxXxD1LrfX+fpj+xzyeNb+KsU7XbMpRC5KuF6wlGm1HkrG0vfi86jLvzmbrT1M5XPOtE/OPW6680d0jzR+HxlCOvzrZc77AsrsWYtrXefZqneN+JQuQGq++br0erxb3HHpqczxPr/lidM3MMpRAZZzNLBt9a7FdN+2Dxr/ysMm0cyVm08dh3TdkykMZXHavElbxhhUiFSF8yfZaBg3Y/Px9MbP+zoZ/eq/ZUGmlg0ur9cQd3vhAZX3Sxc6/2v9fSOu64xYlZnEO/bF+IttcgsEwZSANAhUi5L1PubWt7857GDXE/7s6nWxo3FOepV4gsvn7HjY+11OaD9z6fj91i/lde/GtL88lDe/PAk+doyoBxkjyPpjx3a1uGUogs/nP0YNdNLK7/Kkv9Jv/O/8MJNwz4vi8WIuM6gN9e9Ff59GmMsecOZw6Yr7iMZeaf9k9RaZ5W7+MyPcW24nEvFCLjkkFpG+JowHtvH3g0ae16x7Uj41qcab50H9fNDMMzjrs+O+eUm6per20jfu9EIXLlpXbMl/vH028ZYF5vPWoPGojTA9dO16lC5NLz/aKyvuecfNOAZdaug999/4zmDKTxVcnrhR3bfIXIPitCjeY3u21r7ctsuIXIKOClAVrcx+kqhvJTbzDU7iMii1mInXcbFv6bLK17HOXQ6k7FYnset5YzTpxGOgNpAKgQKYsjnUXL788Mxums0pgh7u++5clBd6y0co3I4n/433T1w4O2GfkpXpsp1iWOJpCr/syVftNvvZIB4yRZ7JUs9tN6DKUQufPWp+TjiHjc6nZ+7xvb5/Odc9LYAfNt9uOD89cX/eJm+eM4hXyxKPmXOxr/A9V3C8vYZdvThrQ/54oL/jxgnUa6EBkFxeUW2ia32H/X8wasY63/i0+/lRWLvnEkZOzXmvBg9fW9H31wUt5ujMHefmPgtRo7UYhc41vTjlo968SBlzeq3Z74/dWX3qta1/vuenaAQ6cKkSssum1l2RecefuAZdZbV8/5DhqtGUjjq45V4kresEKkQqQvmT7LwHBPzRpfFsUdc/FfV8P9AulkITKtW+xALJ4eJbYhBmExaE3TuDcYkoHRk4E0AFSIHD196v2pL7udgeKpzuJ6160svzhGqndEZHGn18Vn39FSm8Vrbcc6tbIepvF+kQEZaJYB4yT5aJYPr9XPx1AKkUfse0m+36TeUYSNjItjj2v/NHDsUSz6pTFHOtPV2DEP5cuM8cbUKf+oO2ZYb9W98uluHPNQ3WkarV+954vrNNg1Ijtxatbf/XJa0TeuERnXiqy3nsXn1l1lmkGcOve1SfX/yWukCpFbrHtY3keRpeK6N3r86P0v5/NENp576s0B83WqEBlH50Yhd/y9LwxYZqP19Xz9zxku/e2Sxlclrxd2bPMVIvusCOUDrb8/0NrRfwfs9sd8cLLd5sdN1yDhe4tP+y+9Vk8r1mzdu1GITMuP8+Yvt+DWucFJR1w1XQapPffeUzLQmxlIA0CFyN7sH+8b/dIPGVhtmd/l44XjDrmipfFC2ikY9/UKkT9b+5C8zd22O6OlNvfb+dx8nriOUz/YWUfvcRno7QwYJ/V2/3j/9Gb/DKUQeeGZt+ff3VH8aaVP44xNxXFEvUJSsegX06757d2yqa9NK7xtteEReRtHHfCnusv9zZYn5tO0Or5ptv7Fdep2IfKWax/Jt2W+WTfM7r974FGAteseZ+lKzissvE1dozTPSBUi9/rN2fk6brLmgU3XMa3rOSePzedZet6t6s7TqUJkWgf3vfnZpV+61y9pfNWxSlzJG1aIVIis++XmQ657H3JDtW7HEZHFNnb91WnDzkDsVEsDwTNbPO3EULe7OH38t1Za3q82O3bY619s2+Pezb6+KVffpAGgQmS5+t37XH+3MwNxurI0Xlh/tdYKgGn6uK9XiDz/jFvzNpf46hYtjUGK/0B1wmFXtjRPOx205X0lA6MvA8ZJo69PvU8736eTX3g3/w6P7/k4vWcj99rTZI4dM77htKmNYvEpTs2Zni/eF4t+S8+3VfbC01OrpntqwmvZQnNsUlnPBT6/Ufb4Q5OrXo+24kjLNF75/jd/O+D14vJaeVxcp24WIie/+NcsDNK2HLn/pS1ty5kn3JjPE0dTNtvGVgqRTzz8St5erEuz9tJrxdPojq1zqv74h/+0XXEfl0hK8za6X3fVvfN5dtnm1LrTK0R2/nOiUf94vhz2aXxV8nphxzZfIVIhsu6Xmw/Y3v2ALRYRt9v8+Onqv4f+8mI+wIlB0X0t/NdZs0wUL+R+2N4XT9c6pfbjj4P0uNF9nAotDeq23uToQadv1I7nezfn+kbfpAGgQqQs+DyQgenNwE3XPJyPF2Lc8Odbn2o6Zrj0nDurpq9XiIwdkwvOvnE+3RnHXd+0zWLhMtbh+YnVOxynd9vM530hA+XOgHFSufvf+3/6+3/h/y3yxXfy/X9ufvTdlhscnn/fr73ynk2/71985q1s4Tk3Km9E2wAAIABJREFUzadvVNArXiMyjoCr15dxJGTa37HeqnvXnaZ4zerh/jP4SBUi45SqaTt/uMIuWVzfu55H7XNxVqw032D7g8ZcOi6fNuapbSv9ntqL+4mPTWk4XZp+sELkO2/+s+pMXnvteGbTNm+/YULVeja6tnmnCpGvTvqv7MF7n2+6jmnb3U//5w+73rdL46uOVeJK3rBCpEKkL5o+y8BBu5+fD1DStQSm58ssTuuaBlvxn/rjmww64jqSV13yl4ZZOXiPC/O24jSt07M+Mc+UyX/L4sLr8Z+Ezdr46drTLvB+zIGXNZ22WTte6/1BgD4qbx+lAaBCZHkz4P2v79uRge9+fbt8jLLCIttmcaRBvXZjPJHGRek+/kO+3rTFHYSxQ3Ps1fWvzxSFz699afO83Ti9fr32PCfrMiADQ82AcZLMDDUzpn8/M6suvVP+vXx0g1OfJquHx71Y9c9He+5Qv5j0yot/zdZZedo1C+M6h6mN2vti0e/802+tO12cqrVY6Dr7pIEFyz+ccEO+HQvNvnHlKMnaZRV/v+Kie+suK6YprlOjAmpqq13XiLzqonvz9V9wto2zx8ZParh+adnpvviP6UvOs2X28nPv1J03+jeN6dJ9aqP2ftkFfplPO5hBzFvsn3pHRMY0F5017fS+sfwL/nBb3fWMyw8tv9A2+fLj9Ly165d+70QhsugUl3Fq5JnWwb3vn9GcgTS+Knm9sGObrxDZZ0Wo0fxmt22tfZkVC5ExCInTN7TyU/tfcjFYLg62YmAU1zqKQVD0RZw64rrLH8j22+W8LE49Fq83+q+sKGKmgV3cRyEx2okjCW6+5uGmRc5iv+++/Rl5O9/52nbZH0+/JYv/zCpOE4P/tKy4EHwrp7gozu9xaznjxGmkM5AGgAqRsjjSWbT8/s7g9Vc8kI8bYvyw9Hy/yGJMFNckip/4R6vN1joon6Z4hEGjQmRkYq3v7p7PE+3GP2VFQTLajPvD97m46vV2nDpNFvs7i/pP/7UzA8ZJ8tTOPJWprSP3uyT/fo5/JoprQcZZme665cnsyosHFuuKR9/F931cKzqmS+OI8067OVtpyR3zNmOauFZkI9Ni0a9RITLmHTvmobzNxf7jp1m9603GtQdjeelnyw2OyO686fHKsmM/yu03TsiOO/jyLPatxDQnHzmm7noV12mwIlw7CpGxLcXxVhwNGWfWGuwnTncaNnF2iSi+pu3+wfK7ZFFojX6MfVBnnXRjVZ/EfqM0baN+2XPHs/JpwvuKC/6cxT6z8LziwnsGuLVSiIxlFa/5GesQ+7xiP1vKz8lHXV1lEePUZoXAThQiF/nCNJ9Yx9OOuXbA9jZy87zvotGWgTS+6lglruQNK0QqRPqC6bMMFE/NmgZTrdxHQbH2C+LJR17N1l1l2n/uDdZODNpr20i//+SH++cDt9p2osCZpmt2H9c6KA6satup/T3+E65Ze14zKJKB/s1AGgAqRPZvH3r/6bteyUDxqIHasUT6PXZGXn7+n7Mdfn5CPp6pd2rWtE2xk2jL9Q7Lp03t1LvfaI39sxecktWYrc/+5khZd9+bn+XGSb3ZL94vvd8vLz/7dlYsTNV+b9c7y8GpR11TdWRk7Tzp97jeYZxis1kOikW/ZoXIaGPL9aeNM375kyMHtPvay+9lO299SktjkVjHWHa9dSuuUzcKkVFwTGZDuT/2oMvz9Y/T2g42bxyZGqcbXW/Vafu83n7jn3kbRYsJD05q2t5f7qguLrdaiIyzixX/4b7ZOv9guZ3zAwOK61Z8XNxfNtglB2697tF8m7612K/qbne0XVuIPP3Y6xpOW1wXj3v/804fDb2P0viq5PXCjm2+QqQ/CH3B9FkGikdENhvE1L5WrxCZvpQuOfuOrHitgtp547/+YxCTpq93H/+Vtv5q++QDnWIbG6y+b9N5i+3FYDr+K6x4ypRiW/F4re/9vuFp0IpteTz0L11mzHolA2kAqBApk72SSevR31mMHYvfmOvndccpMc555L6XKmOVQ/acdrr5ZoXIlIf4J6rN1z6kbrtxpEIUN9O07vs7Q/pP//VSBoyT5LGX8thv6xJjguKpMIv7G047uv7RYI/e/3IWZ2eKU4EWp4/HcURknN6y2ZFsyahY9BusEBmnk1/g8xvly7vhygfrjiniyMf4R6pFv7hZPm1xHWNbLzij/mlgY72K69SNQmScqr64fq0+rr0sT3isstRvBrQVhebY/xVFwNi+7X56bD5No0JkTBdnySgW+orrVXta1VYLkanf7xj7eBaXR6pXBF97pT2zc0+9uW7fpvnTfXH92lWILJ7FI7LSSo7T+rj3XTTaMpDGVx2rxJW8YYXIPitCjbY3uO3prS+t1yb9V6XgeNwhV2SH7nVR5TQeg13AvbYPn3z0tcqpSuLoyRMPv2rQC8DXzl/8/bkn36i0Fe1EcfKaS++re0qS4jwe91am9If+mN4MpAGgQqQMTW+GzCc79TIw7q5nskvPuTOL/6qP07GlU9LXm3Yoz8UYauyY8dnxh16Zxelg43ReQ5nftPIqAzIwlAwYJ8nLUPJi2vp5ue/uZysFoNj3EadYbfXsBTGWOOPY6yrX/GvXOKJdfXTPbRMr6xbbdMS+l1QuldOutnu1ndhnFf1x+jHXVk55Otz1vPf2idnZJ4+t7BO79Ny7sjiKdrhtFuePwnGcJjdOJ9srlxq67fpHsyjCK0LW/6wo9p/Ho9soja9KXi/s2OYrRCpEtvUL1Qfy6P5A1r/6VwZkoFsZSANAhUiZ61bmLEfWZEAGZEAG+iUDxkmy2i9ZtZ6yKgMyIAMy0C8ZSOOrjlXiSt6wQqRCpEKkDMiADMiADPRcBtIAUCHSHy398keL9ZRVGZABGZCBbmXAOEnWupU1y5E1GZABGZCBsmQgja9KXi/s2OYrRNr53HM7n8vy4WY7fZHLgAzIQOMMpAGgQmRjI/lhIwMyIAMyIAPlzIBxUjn73ftdv8uADMiADMhA5zKQxlcdq8SVvGGFSIVIhUgZkAEZkAEZ6LkMpAGgQmTnBtn+gGErAzIgAzIgA/2ZAeOk/uw37zf9JgMyIAMyIAO9m4E0vip5vbBjm68Qaedzz+189oHcux/I+kbfyIAMdCsDaQCoEClz3cqc5ciaDMiADMhAv2TAOElW+yWr1lNWZUAGZEAG+iUDaXzVsUpcyRtWiFSIVIiUARmQARmQgZ7LQBoAKkT6o6Vf/mixnrIqAzIgAzLQrQwYJ8lat7JmObImAzIgAzJQlgyk8VXJ64Ud23yFSDufe27nc1k+3GynL3IZkAEZaJyBNABUiGxsJD9sZEAGZEAGZKCcGTBOKme/e7/rdxmQARmQARnoXAbS+KpjlbiSN6wQqRCpECkDMiADMiADPZeBNABUiOzcINsfMGxlQAZkQAZkoD8zYJzUn/3m/abfZEAGZEAGZKB3M5DGVyWvF3Zs8xUi7XzuuZ3PPpB79wNZ3+gbGZCBbmUgDQAVImWuW5mzHFmTARmQARnolwwYJ8lqv2TVesqqDMiADMhAv2Qgja86VokrecMKkQqRCpEyIAMyIAMy0HMZSANAhUh/tPTLHy3WU1ZlQAZkQAa6lQHjJFnrVtYsR9ZkQAZkQAbKkoE0vip5vbBjm68Qaedzz+18LsuHm+30RS4DMiADjTOQBoAKkY2N5IeNDMiADMiADJQzA8ZJ5ex373f9LgMyIAMyIAOdy0AaX3WsElfyhhUiFSIVImVABmRABmSg5zKQBoAKkZ0bZPsDhq0MyIAMyIAM9GcGjJP6s9+83/SbDMiADMiADPRuBtL4quT1wo5tvkKknc89t/PZB3LvfiDrG30jAzLQrQykAaBCpMx1K3OWI2syIAMyIAP9kgHjJFntl6xaT1mVARmQARnolwyk8VXHKnElb1ghUiFSIVIGZEAGZEAGei4DaQCoEOmPln75o8V6yqoMyIAMyEC3MmCcJGvdyprlyJoMyIAMyEBZMpDGVyWvF3Zs8xUi7XzuuZ3PZflws52+yGVABmSgcQbSAFAhsrGR/LCRARmQARmQgXJmwDipnP3u/a7fZUAGZEAGZKBzGUjjq45V4kresEKkQqRCpAzIgAzIgAz0XAbSAFAhsnODbH/AsJUBGZABGZCB/syAcVJ/9pv3m36TARmQARmQgd7NQBpflbxe2LHNV4i087nndj77QO7dD2R9o29kQAa6lYE0AFSIlLluZc5yZE0GZEAGZKBfMmCcJKv9klXrKasyIAMyIAP9koE0vupYJa7kDStEKkQqRMqADMiADMhAz2UgDQAVIv3R0i9/tFhPWZUBGZABGehWBoyTZK1bWbMcWZMBGZABGShLBtL4quT1wo5tvkKknc89t/O5LB9uttMXuQzIgAw0zkAaACpENjaSHzYyIAMyIAMyUM4MGCeVs9+93/W7DMiADMiADHQuA2l81bFKXMkbVohUiFSIlAEZkAEZkIGey0AaACpEdm6Q7Q8YtjIgAzIgAzLQnxkwTurPfvN+028yIAMyIAMy0LsZSOOrktcLO7b5CpF2PvfczmcfyL37gaxv9I0MyEC3MpAGgAqRMtetzFmOrMmADMiADPRLBoyTZLVfsmo9ZVUGZEAGZKBfMpDGVx2rxJW8YYVIhUiFSBmQARmQARnouQykAaBCpD9a+uWPFuspqzIgAzIgA93KgHGSrHUra5YjazIgAzIgA2XJQBpflbxe2LHNV4i087nndj6X5cPNdvoilwEZkIHGGUgDQIXIxkbyw0YGZEAGZEAGypkB46Ry9rv3u36XARmQARmQgc5lII2vOlaJK3nDCpEKkQqRMiADMiADMtBzGUgDQIXIzg2y/QHDVgZkQAZkQAb6MwPGSf3Zb95v+k0GZEAGZEAGejcDaXxV8nphxzZfIdLO557b+ewDuXc/kPWNvpEBGehWBtIAUCFS5rqVOcuRNRmQARmQgX7JgHGSrPZLVq2nrMqADMiADPRLBtL4qmOVuJI3rBCpEKkQKQMyIAMyIAM9l4E0AFSI9EdLv/zRYj1lVQZkQAZkoFsZME6StW5lzXJkTQZkQAZkoCwZSOOrktcLO7b5CpF2PvfczueyfLjZTl/kMiADMtA4A2kAqBDZ2Eh+2MiADMiADMhAOTNgnFTOfvd+1+8yIAMyIAMy0LkMpPFVxypxJW9YIVIhUiFSBmRABmRABnouA2kAqBDZuUG2P2DYyoAMyIAMyEB/ZsA4qT/7zftNv8mADMiADMhA72Ygja9KXi/s2ObPMPHBLAvkd97o3RB4g+obGZABGZABGShXBtIAMO71PQMZkAEZkAEZkAEZmJYB46RpFnLBQgZkQAZkQAZkYLgZePuN92tkUStz64zADC8++T7ylJcEdriBNb8MyYAMyIAMyEB7MmAHW3sc5ZGjDMiADMiADIy+DBgnjb4+9T7VpzIgAzIgAzIwchl4Y/L7NbKolbl1RmCGd958H/mpB7Ls7Skj19neaOxlQAZkQAZkQAZSBuxgk4WUBfeyIAMyIAMyIAPVGTBOqvaQDx4yIAMyIAMyIAPDycBzE96vkUUbbp0RmCGaTUdFRjFyystO0zqc0JrXh54MyIAMyIAMDD8DdrAN31AOGcqADMiADMjA6MyAcdLo7FfvV/0qAzIgAzIgA93LQFyqMI6ETEXIl57qTAFOq+8LVAqR//h7lr3wxPtV3+KA1mMmMiADMiADMiADMiADMiADMiADMiADMiADMiADMiADMiADMiADozEDURuLGplb5wQqhcjU/FtTsiwqvxPHe0ONxjeUbZJrGZABGZABGZABGZABGZABGZABGZABGZABGZABGZABGZCBMmcgamAvTcyyqIm5dV6gqhDZ+cVZAgECBAgQIECAAAECBAgQIECAAAECBAgQIECAAAECZRBQiCxDL9tGAgQIECBAgAABAgQIECBAgAABAgQIECBAgAABAl0WUIjsMrjFESBAgAABAgQIECBAgAABAgQIECBAgAABAgQIECiDgEJkGXrZNhIgQIAAAQIECBAgQIAAAQIECBAgQIAAAQIECBDosoBCZJfBLY4AAQIECBAgQIAAAQIECBAgQIAAAQIECBAgQIBAGQQUIsvQy7aRAAECBAgQIECAAAECBAgQIECAAAECBAgQIECAQJcFFCK7DG5xBAgQIECAAAECBAgQIECAAAECBAgQIECAAAECBMogoBBZhl62jQQIECBAgAABAgQIECBAgAABAgQIECBAgAABAgS6LKAQ2WVwiyNAgAABAgQIECBAgAABAgQIECBAgAABAgQIECBQBgGFyDL0sm0kQIAAAQIECBAgQIAAAQIECBAgQIAAAQIECBAg0GUBhcgug1scAQIECBAgQIAAAQIECBAgQIAAAQIECBAgQIAAgTIIKESWoZdtIwECBAgQIECAAAECBAgQIECAAAECBAgQIECAAIEuCyhEdhnc4ggQIECAAAECBAgQIECAAAECBAgQIECAAAECBAiUQUAhsgy9bBsJECBAgAABAgQIECBAgAABAgQIECBAgAABAgQIdFlAIbLL4BZHgAABAgQIECBAgAABAgQIECBAgAABAgQIECBAoAwCCpFl6GXbSIAAAQIECBAgQIAAAQIECBAgQIAAAQIECBAgQKDLAgqRXQa3OAIECBAgQIAAAQIECBAgQIAAAQIECBAgQIAAAQJlEFCILEMv20YCBAgQIECAAAECBAgQIECAAAECBAgQIECAAAECXRZQiOwyuMURIECAAAECBAgQIECAAAECBAgQIECAAAECBAgQKIOAQmQZetk2EiBAgAABAgQIECBAgAABAgQIECBAgAABAgQIEOiygEJkl8EtjgABAgQIECBAgAABAgQIECBAgAABAgQIECBAgEAZBBQiy9DLtpEAAQIECBAgQIAAAQIECBAgQIAAAQIECBAgQIBAlwUUIrsMbnEECBAgQIAAAQIECBAgQIAAAQIECBAgQIAAAQIEyiCgEFmGXraNBAgQIECAAAECBAgQIECAAAECBAgQIECAAAECBLosoBDZZXCLI0CAAAECBAgQIECAAAECBAgQIECAAAECBAgQIFAGAYXIMvSybSRAgAABAgQIECBAgAABAgQIECBAgAABAgQIECDQZQGFyC6DWxwBAgQIECBAgAABAgQIECBAgAABAgQIECBAgACBMggoRJahl20jAQIECBAgQIAAAQIECBAgQIAAAQIECBAgQIAAgS4LKER2GdziCBAgQIAAAQIECBAgQIAAAQIECBAgQIAAAQIECJRBQCGyDL1sGwkQIECAAAECBAgQIECAAAECBAgQIECAAAECBAh0WUAhssvgFkeAAAECBAgQIECAAAECBAgQIECAAAECBAgQIECgDAIKkWXoZdtIgAABAgQIECBAgAABAgQIECBAgAABAgQIECBAoMsCCpFdBrc4AgQIECBAgAABAgQIECBAgAABAgQIECBAgAABAmUQUIgsQy/bRgIECBAgQIAAAQIECBAgQIAAAQIECBAgQIAAAQJdFlCI7DK4xREgQIAAAQIECBAgQIAAAQIECBAgQIAAAQIECBAog4BCZBl62TYSIECAAAECBAgQIECAAAECBAgQIECAAAECBAgQ6LKAQmSXwS2OAAECBAgQIECAAAECBAgQIECAAAECBAgQIECAQBkEFCLL0Mu2kQABAgQIECBAgAABAgQIECBAgAABAgQIECBAgECXBRQiuwxucQQIECBAgAABAgQIECBAgAABAgQIECBAgAABAgTKIKAQWYZeto0ECBAgQIAAAQIECBAgQIAAAQIECBAgQIAAAQIEuiygENllcIsjQIAAAQIECBAgQIAAAQIECBAgQIAAAQIECBAgUAYBhcgy9LJtJECAAAECBAgQIECAAAECBAgQIECAAAECBAgQINBlAYXILoNbHAECBAgQIECAAAECBAgQIECAAAECBAgQIECAAIEyCChElqGXbSMBAgQIECBAgAABAgQIECBAgAABAgQIECBAgACBLgsoRHYZ3OIIECBAgAABAgQIECBAgAABAgQIECBAgAABAgQIlEFAIbIMvWwbCRAgQIAAAQIECBAgQIAAAQIECBAgQIAAAQIECHRZQCGyy+AWR4AAAQIECBAgQIAAAQIECBAgQIAAAQIECBAgQKAMAgqRZehl20iAAAECBAgQIECAAAECBAgQIECAAAECBAgQIECgywIKkV0GtzgCBAgQIECAAAECBAgQIECAAAECBAgQIECAAAECZRBQiCxDL9tGAgQIECBAgAABAgQIECBAgAABAgQIECBAgAABAl0WUIjsMrjFESBAgAABAgQIECBAgAABAgQIECBAgAABAgQIECiDgEJkGXrZNhIgQIAAAQIECBAgQIAAAQIECBAgQIAAAQIECBDosoBCZJfBLY4AAQIECBAgQIAAAQIECBAgQIAAAQIECBAgQIBAGQQUIsvQy7aRAAECBAgQIECAAAECBAgQIECAAAECBAgQIECAQJcFFCK7DG5xBAgQIECAAAECBAgMTeCKK67IlltuucrP+PHj6858//33Z7feemvd1zxJYLQJyPto61HbQ4AAAQIECBAgQGD0CihEjt6+tWUECBAgQIAAAQIE2ibw3nvvZdddd112zDHHZAcffHB22WWXZVOmTGlb+80aOvHEE7MZZpih8nPbbbcNmPTCCy/MX99tt90GvO4JAqNJoJj3XXfddTRtmm0hQIAAAQIECBAgQGAUCihEjsJOtUkECBAgQIAAAQIE2iXw4osvZhtssEE200wz5cW+VBSM+zhSccyYMe1aXN12BitEbrrppvm6LbjggnXb8CSB0SIg76OlJ20HAQIECBAgQIAAgXIIKESWo59tJQECBAgQIECAAIEhCzz33HPZLLPMkhf5igXI2sfbbrvtkNtvdYbBCpEXXXRRvo777LNP3WZ33333yjTLL7983dc9OfoEXn755TwXjz32WM9v4H333Zev75tvvtlwfVvJe8OZvUCAAAECBAgQIECAAIEuCyhEdhnc4ggQIECAAAECBAj0i8ASSyyRF0bWWGONypGPL730UhZFkhtuuCHbf//9s7nmmqsyzUc/+tEsXuvEbbBCZCwz1ikKp41uv/jFLyrrqRDZSGj0Pf/QQw/l+e2HQuT111+fr2+zQmT01GB5H329aYsIECBAgAABAgQIEOhXAYXIfu05602AAAECBAgQIECggwJxLcZ01OOaa67ZcEn//Oc/s3XXXTe78cYbG04z3BdaKUQOtoxYx9gehcjBpEbP67fcckue4X4oRJ5//vn5+g5WiBw9vWRLCBAgQIAAAQIECBAY7QIKkaO9h20fAQIECBAgQIAAgekQOPbYY/OiyBVXXDEdLbRvlnYUIr/3ve8pRLavS/qipUsuuSTPcD8UIo877rh8fRUi+yJiVpIAAQIECBAgQIAAgRYEFCJbQDIJAQIECBAgQIAAgbIJHHjggXlRZHqPdpwyZUr2+9//vvKT/CZMmJDFaVK/8pWvZDPPPHP2jW98I9tqq62yJ554Ik0y4H6wQuSzzz6bL2fcuHH5/C+88EL+/GyzzVbZni984Qv5c7FuBxxwQD59qw8mT56c7bbbbtkiiyySffjDH87+7d/+LVtqqaWyY445Jnv33XebNhPbEsv9y1/+Upnuvffey6IAteyyy2Yf//jHK+sYp8S9++67m7bT6MVDDz200n44xy36YO+9986+9rWvZR/60IeyBRZYIFtvvfWyOA1oo9sDDzyQGzXrl8suuyyfrl5bf/jDHyqv33777fnLp5xySvatb30rv/ZoGN588835680exLbE6YAjM5/85Cezj33sY9lyyy2X/eY3v8kmTpyYz3r88cdXlvvDH/4wz/Avf/nLfF3DP07bmm7t2t7UXrS9yy67VDIR2YgjceM+lvvWW2+lyfL7gw8+uPLad77znXx9f/vb31at7zPPPJNP3yjv+QSFB5GDn/70p9lXv/rVSv9//vOfz1ZcccUsrjM52C3WN34i73GbNGlStueee2aLLbZYpa3Yrh//+MfZ888/P1hTXidAgAABAgQIECBAoMQCCpEl7nybToAAAQIECBAgQKCRwLnnnpsXRX72s581mqzp81HESqd3HT9+fBbFlfR77f1HPvKRrFiwKjY8WCGyeArOk08+OZ/1zjvvbLi8tPwo/g3ldt1111WKj2n+2vvZZ589e/jhhxs2ueiii1bWKQpqUTSdc845G67jtdde27CdRi987nOfq7R3wgknZGeccUalAFa7jun3ww8/vG4zMV+a5sorr6w7TTy56aab5tP9/e9/HzBdFByjnZ122imLgli6nmhqu3g/WGHs6quvzuI6pMV5io8/+MEP5sXbBRdcsOF0aZ7zzjsvX992bW/kLQpzaRn17qMAnwp7aQU+85nPNJ0n2hk7dmyavFK4TW0X855P8L8Posj+gQ98oGHbSy+9dPb666/Xzpb/npZx0003ZRdeeGFD/yiyPv300/l8HhAgQIAAAQIECBAgQKAooBBZ1PCYAAECBAgQIECAAIGKwDvvvFNVxNpwww2zN954Y0g6xUJkOjIsCjFRmLr88suzKC7FkYCp4DHLLLPULYxMbyEyjtTafffdKz9x9GUsJ46ITM/FfRQEW71dfPHF+bpGW7vuumulQBRHjK6//vr5a3GkXqNTgcbRZDHvyiuvnPvGEWqnnnpqpdgTzskjClRDvcURbzF/8o4jB7fccsssCstRzNpss83y9mO6eke7tqswlwqRK6ywQjbrrLNWlhuPo0galptvvnm+LlFkbJSvc845J58u1jmu9xlHVsb2RCEujnadccYZszvuuKPCFUeYRt8WsxVHRBb7vXhEZLu2N46KjfWbaaaZsjXWWCPbb7/9Kjk/5JBDKkdxxmvxE31QvB100EGVdUtF6pgm3iPF9S0W+uII0tQl8kdoAAAgAElEQVRWo0Lk7373u3yayEK8h8JrzJgxlSM10/zzzDNPFu/1erc0TRxBmx5vvPHGlZyefvrpVb5x6mM3AgQIECBAgAABAgQI1BNQiKyn4jkCBAgQIECAAAECBLI4Gi4VIOI+CmM77rhj5ei2VniKhciYv9GRlTvvvHO+nDjNZu1teguRxXY+9alPVZax/PLLF59u+fFTTz2VHwkZR1HG6Txrb3GUXfKad955szjtau0tFSJjuii+xXUMa2/hlNq55ppral9u+nsqRMb8Sy65ZPbSSy8NmP6qq67K24/TnNbe2lWYS4XIWJcozp155pm1i6qcVjVt6x//+McBr99///35usZRs3fdddeAaaZOnVr39K5RKE5tNyoMR2Pt2t4o6kahrtH1HaPol9an3pGIcQrV9HqjNmJ9BytEFq+NGct89dVXB5htv/32+bKi0FjvltYl7r/4xS9m0Re1t2LxtN421U7vdwIECBAgQIAAAQIEyiegEFm+PrfFBAgQIECAAAECBFoWiELYl7/85bxokYoTUWSKo9qa3YqFyCjQNLulI+bqnSq1FwqRW2yxRW4QR/Q1uhWP8otrJNbeUiEyjposHpVXnO7ee+/NlxXX6BvKLRUiGxVCU1vFU4jWFpjaVZhLhci4NuU999yTFl11/+STT+bbuu2221a9Fr8U1zOO5hvKrduFyMHWLa5dmd4/9U55265C5MILL1xZzr/8y780PU3w/PPPn69P8RqbaTvSus4999zZK6+8kp6uuo+jT9N0cYSzGwECBAgQIECAAAECBGoFFCJrRfxOgAABAgQIECBAgMAAgSiqxWlNU9Eh3ceRUnENuXq3xx9/PJ9+7733rjdJ/twOO+yQT/vggw/mz8eDXihERoE0tjmOrGx2KxZfv/3tbw+YdJFFFqm0M9988w14LT0xZcqU3KLRUaRp2tr7VNCtt+zitMWjXY888sjiS207QjBOwxpmURxtdPvnP/+ZRcEspouiY/EWRwWmnC2xxBLFl1p63GuFyLgGatqeo48+esA2tKMQGdfiTMtYbbXVBiyj+ETxlLe77LJL8aXsb3/7W95OXAu00a14dO1pp53WaDLPEyBAgAABAgQIECBQYgGFyBJ3vk0nQIAAAQIECBAgMFSBOFqu3hGSUSysvQ2lEFk8sur888+vamqkC5FxtFgq7gx2ZGeseFwHM6aPa/PV3lopRMY8aXlx7cmh3FotRD766KP5MuIaksVbu46IbKUQGctN17NcddVVi6uR3X333fk67rHHHlWvtfJLLxQi4zSq++67b+W6kMsss0y+PfUK8+0oRBaLi42uH5ns3nrrrewDH/hAZZ1q7VstRBaP3q1XXE3Lck+AAAECBAgQIECAQHkFFCLL2/e2nAABAgQIECBAgMB0C5xyyilZXF8wFczivvb6fUMpRMZpXlNbxx57bNV6jXQhsngk23777Ve1bvV+iSPRYlviSL///u//rpqk1ULk//t//6/SxjrrrFM1/2C/tFqIjOv5Je+11lqrqtluFyLT9TtXWmmlqvUoZmKwolrVjP/7y0gVIs8+++xs9dVXr1wXMxnH9UDjKNj0+5577jlgldtRiDzkkEPyZUQRdLBbOpVvXOuxeGu1EDlu3Lh8eUcccUSxCY8JECBAgAABAgQIECBQEVCIFAQCBAgQIECAAAECBKZbYLPNNssLEeuuu25VO0MpRF522WV5O3F0ZPE20oXI66+/Pl+3ww8/vLhqdR9vsMEG+fRvvPFG1TS9UoiMo+FSUaz2lKi9Uog866yz8nU899xzqxxb+aXbhcj77rsvm2OOOfJ1/tGPfpTFqUsnTZpUWd1HHnkkf63etT/bUYiMIy1Tv9b+Y0A9s3T07lxzzVX1skJkFYdfCBAgQIAAAQIECBAYhoBC5DDwzEqAAAECBAgQIECg7AJR0IqjvaL4EdeQLN6GUogsnpo1ipLF20gXIuOalam4U6+AVFzXeLzyyivn09e+1iuFyGJR7Ne//nXVavZKIfLaa6/NHY866qiqdWzll24WIqdOnZqlo1GjGBmnLK29Fc3r5agdhciTTjopN7v66qtrV2HA7+m9u9xyy1W9phBZxeEXAgQIECBAgAABAgSGIaAQOQw8sxIgQIAAAQIECBAgkGVf//rXK8WPKGoUb0MpRMa1F1Ox76GHHio2k410IfK1117L1+0///M/q9at3i/pdJdxtFntrVcKkcViY+21/eLUoqkvLrzwwtpNyH/fdNNN8+n+/ve/58+nB61eI7LRqVkjB2k9Nt9889Rsy/etFiLbsb0HHnhgvq5x/c16t24UIuMIzGQWp2ltdnv66afzaeMo3uJNIbKo4TEBAgQIECBAgAABAsMRUIgcjp55CRAgQIAAAQIECIxSgSi+xfXfWrl97GMfqxQ05plnnqrJh1KInGWWWSptfOlLX6pqI35pRyFyzjnnrLS/9NJLD2i/lScWX3zxyvwzzzxz9vbbbzecpXg9ye22227AdL1SiIxrGKaC1Ysvvli1npdeemn+2gknnFD1WvGX7373u/l0xefT4+EWIqOdVNT95Cc/mf31r39NTbd0H9fzTNs4fvz4hvO0Y3vXXnvtyrJmm222hssZrBC57bbb5uv76quvNmwnrv2Ytqv22pnvvfde9uEPf7jyemS22W2vvfbK27nggguqJlWIrOLwCwECBAgQIECAAAECwxBQiBwGnlkJECBAgAABAgQIjEaBd999t3KU40wzzZQde+yxTTexWOzZYYcdqqZ94okn8kJH7fUjixNus802+XQHHXRQ8aXK4yi2pMJLFPpqb7fcckv+em1hJk0bBchoI06fOT234jqsueaadZuIAuW8886br0u9I+M6XYhMhbu55547e/PNN+uu55/+9Kd8HVddddUB0zzwwAP566usssqA1+OJffbZJ58mXOvd2lGILB7VGMW+RrfXX399wEtnnnlmvo61p/stTtyO7Y3rbIbDv/7rvxabrnp8wAEH5Ouz5557Vr0Wv0T2U87vvvvuAa+nJ5oVImOa4ileY5n1bo899lgWRfVY3mc+85kBkyhEDiDxBAECBAgQIECAAAEC0ylQ/y/G6WzMbAQIECBAgAABAgQI9L/APffck6WjHKNQ8eUvfznbY489sigCvvPOO9nkyZOzKP7FaUpT4SROy/r8889XbXyxEBnTxRFaY8aMyaeZNGlSVjwKLIpn9W7FI9aiiFZ7a6UQWSx2nnbaaXkTjYp1+QSFByuttFK+vWuttVYWp7ZMtz//+c/ZYostlr8eXvVu3SpEhnccnRfbmrYx+u7444/PosAcr88444zZU089VW81s09/+tP5tkSBOU33wgsvZHEaz5h//vnnz6ep10g7CpFxFGSxuLvaaqtlxaMbX3nllezggw/OPvKRj2Q33HBD1WpMmDAhX79Yl9j+dKstXA53e2MdwiR+4kjD4i2KfqlQmaapV4gcO3Zs3saPfvSjYhNZXIs13QYrRL7xxhuV67WmZcX1KIvbG0XZdD3LmKbetSQVIpO2ewIECBAgQIAAAQIEhiugEDlcQfMTIECAAAECBAgQGIUCcTRfsbCWihr17qOwVSwwJo5iIXLBBRfMiywxffH3aDNOzXr//fenWavui9eyiyP+ouhTvLVSiCwWpWJ50U4cCRaPoyDayi0KeksuuWS+HTFvFE/TNQ7j9/jZbLPNGjbXrULkF7/4xfwUnbFOCy+8cNV6x3N/+MMfGq7nqaeeOmD6tH1xH9dsvOKKK/JpOnGNyLRyUQSNU/YWlx/mxUJovLbOOuukWfL7ZZZZJp/vQx/6UBanD45pawuBw93eqVOnZv/+7/+eL2u++ebLlltuuSwdiRvLjKL75z73ubrLTys811xz5W3EEYvp9yggp9tghciYLt6/UYgumi200EL5UZDp+ZNOOik1W3WvEFnF4RcCBAgQIECAAAECBIYhoBA5DDyzEiBAgAABAgQIEBjtAlGsiqPQPv7xj1cVNaKQEcWWnXbaKWt0PbtiIfLwww/Prr/++uyzn/3sgHaWXXbZLI4aa3ZL1+CL5cb0xVsrhciYfpdddhmw7GjvxhtvLDY36OMdd9yxqsiXijqxbUcddVTT+TtdiEyFrh/84AfZxIkTBxROY12/8IUvZFdeeWXT9YwXi6fdTdsYhdh0VGocBZqe72QhMtYljvLbaKON8uWl5cZ9HGl7+umn192eOO1qMinOU+80r8Pd3of+f3v34SZLVSd8nP/i3X3Xdd11kwEDRhQUXARREfY1AiIiCIIEkSwIkoMkiRKUJEEkqOAlCFxBkpKEC0i85HvJ0bQuWu/z6+upqZnume6ZO9WVPvM889RMd9Wpc77ne36nun5dVXfemRWfm5n2F8nIuMo4fsLdeD2uUhz0E2MkPS81bR/LSGKmn1ESkbFuPOc1krPFctLfkZC9/PLLU5F9S4nIPiReQAABBBBAAAEEEEAAgTkSkIicIzibIYAAAggggAACCCDQNQK33XZbdswxx2TnnHNOFrfEHPZz33335UmQ4rPqrr/++uzwww/P4mqsKHPUn/PPPz874YQTshtvvHHUTfrWi9tzxq0o4xmHkTRcunRp3zqjvBBXwMUtLuO5flHOTEmdUcqbr3XSLTfjNrLpJxJkwe2oo47qJYPT66MsIwF40UUXZZFIjsRm1T9xW+Dzzjuvd1XsiSee2Lvyb5Q63Xrrrb32x5WQN9xww7SbzEd74wreY489NovnisaVuHP5iWdExhgJT6Puy/MTt0w+++yzs4MOOqg35mL8+UEAAQQQQAABBBBAAAEExkVAInJcpO0HAQQQQAABBBBAAIGOESheEXnAAQd0rPXVNDduORtXva211lrVVMBeEUAAAQQQQAABBBBAAAEEECgQkIgswPAnAggggAACCCCAAAIIzB+B4hWR++233/wVrKRpCaQrItdYY41p1/EGAggggAACCCCAAAIIIIAAAuMiIBE5LtL2gwACCCCAAAIIIIBAxwhIRI6/wyUix8/cHhFAAAEEEEAAAQQQQAABBKYnIBE5PRvvIIAAAggggAACCCCAwHIQkIhcDnhz3FQico7gbIYAAggggAACCCCAAAIIIFAKAYnIUrAqFAEEEEAAAQQQQAABBCQix++AROT4mdsjAggggAACCCCAAAIIIIDA9AQkIqdn4x0EEEAAAQQQQAABBBBYDgLPPfdcttdee/V+r7nmmuUoyaajEjjssMN6vE8//fRRN7EeAggggAACCCCAAAIIIIAAAqURkIgsDa2CEUAAAQQQQAABBBBAAAEEEEAAAQQQQAABBBBAAAEEEOguAYnI7va9liOAAAIIIIAAAggggAACCCCAAAIIIIAAAggggAACCCBQGgGJyNLQKhgBBBBAAAEEEEAAAQQQQAABBBBAAAEEEEAAAQQQQACB7hKQiOxu32s5AggggAACCCCAAAIIIIAAAggggAACCCCAAAIIIIAAAqURkIgsDa2CEUAAAQQQQAABBBBAAAEEEEAAAQQQQAABBBBAAAEEEOguAYnI7va9liOAAAIIIIAAAggggAACCCCAAAIIIIAAAggggAACCCBQGgGJyNLQKhgBBBBAAAEEEEAAAQQQQAABBBBAAAEEEEAAAQQQQACB7hKQiOxu32s5AggggAACCCCAAAIIIIAAAggggAACCCCAAAIIIIAAAqURkIgsDa2CEUAAAQQQQAABBBBAAAEEEEAAAQQQQAABBBBAAAEEEOguAYnI7va9liOAAAIIIIAAAggggAACCCCAAAIIIIAAAggggAACCCBQGgGJyNLQKhgBBBBAAAEEEEAAAQQQQAABBBBAAAEEEEAAAQQQQACB7hKQiOxu32s5AggggAACCCCAAAIIIIAAAggggAACCCCAAAIIIIAAAqURkIgsDa2CEUAAAQQQQAABBBBAAAEEEEAAAQQQQAABBBBAAAEEEOguAYnI7va9liOAAAIIIIAAAggggAACCCCAAAIIIIAAAggggAACCCBQGgGJyNLQKhgBBBBAAAEEEEAAAQQQQAABBBBAAAEEEEAAAQQQQACB7hKQiOxu32s5AggggAACCCCAAAIIIIAAAggggAACCCCAAAIIIIAAAqURkIgsDa2CEUAAAQQQQAABBBBAAAEEEEAAAQQQQAABBBBAAAEEEOguAYnI7va9liOAAAIIIIAAAggggAACCCCAAAIIIIAAAggggAACCCBQGgGJyNLQKhgBBBBAAAEEEEAAAQQQQAABBBBAAAEEEEAAAQQQQACB7hKQiOxu32s5AggggAACCCCAAAIIIIAAAggggAACCCCAAAIIIIAAAqURkIgsDa2CEUAAAQQQQAABBBBAAAEEEEAAAQQQQAABBBBAAAEEEOguAYnI7va9liOAAAIIIIAAAggggAACCCCAAAIIIIAAAggggAACCCBQGgGJyNLQKhgBBBBAAAEEEEAAAQQQQAABBBBAAAEEEEAAAQQQQACB7hKQiOxu32s5AggggAACCCCAAAIIIIAAAggggAACCCCAAAIIIIAAAqURmJSIfPm5LFuyOMsWL8qy+2/1iwEHOMABDnCAAxzgAAc4wAEOcIADHOAABzjAAQ5wgAMc4EB7HIgcWOTCIifmp3wCvUTkq/+bZY/f1x6JBAR9yQEOcIADHOAABzjAAQ5wgAMc4AAHOMABDnCAAxzgAAc4MJMDj9+fZZEj81MegV4iMiUhH7sny158Kst+90KW/f4lvxhwgAMcaLIDxQm2ye1Qd+OQAxxougPiMYeb7rD6c7jpDojDHG66w+rPYQ601wFzVHv71ritd99GDixyYY/esyxJG8lIP+URWOGlZ5eBjiSkwYEBBzjAgfY44GC2PX1pXOpLDjTbAfG42f1n/Ok/DjTfAXG4+X1oHOpDDnCgrQ6Yo7jdVreb1K6UjHzJbVpLy0Su8MQDyxKRLzxl0DdpcKgrXznAgWEOOJjlyDBHvM8RDozHAfF4PJz5jDMHODCdA+IwN6Zzw+vc4AAHqnbAHMXBqh20/yyL3FiMxSUPlpaH63zBKyy+Yxnk379o0Bt0HOAAB9rkgINZPrfJZ23hc5MdEI/522R/1Z2/bXBAHOZxGzzWBh5zoJ0OmKPa2a/Ga7P69ZUXluXIFi/qfL6wNAArpGBncDRrcOgv/cUBDgxzIMX3WA5b1/sYcYADHCjPAfG4PLa8xZYDHBjFAXGYJ6N4Yh2ecIADVThgjuJdFd7ZZ793aSyWlonreMESkS/1S2cgYsIBDrTBgTSBxrIN7dEG/cgBDjTVAfGYu011V7252xYHxGEut8Vl7eAyB9rngDmqfX1qnDazT9NY7Hi+sLTmS0RKREpQcIADLXUgTaCxdBCEAQc4wIHqHBCPq2PPe+w5wIFwQBzmgVjAAQ5woK4OmKO4WVc3u1avNBZLy8R1vGCJyJYmILoWKLTXpM2BfgfSBBpLfDDgAAc4UJ0D4nF17HmPPQc4EA6IwzwQCzjAAQ7U1QFzFDfr6mbX6pXGYsfzhaU1XyJSIlKCggMcaKkDaQKNZdcOHrRXn3OAA3VyQDzmY518VBc+dtEBcZj3XfRem3nPgWY4YI5qRj8ZT+3vpzQWS8vEdbxgiciWJiAEx/YHR32sj4c5kCbQWA5b1/sYcYADHCjPAfG4PLa8xZYDHBjFAXGYJ6N4Yh2ecIADVThgjuJdFd7ZZ793aSx2PF9YWvMlIiUiJSg4wIGWOpAm0Fg6wMCAAxzgQHUOiMfVsec99hzgQDggDvNALOAABzhQVwfMUdysq5tdq1cai6Vl4jpesERkSxMQXQsU2mvS5kC/A2kCjSU+GHCAAxyozgHxuDr2vMeeAxwIB8RhHogFHOAAB+rqgDmKm3V1s2v1SmOx4/nC0povESkRKUHBAQ601IE0gcayawcP2qvPOcCBOjkgHvOxTj6qCx+76IA4zPsueq/NvOdAMxwwRzWjn4yn9vdTGoulZeI6XrBEZEsTEIJj+4OjPtbHwxxIE2gsh63rfYw4wAEOlOeAeFweW95iywEOjOKAOMyTUTyxDk84wIEqHDBH8a4K7+yz37s0FjueLyyt+RKREpESFBzgQEsdSBNoLB1gYMABDnCgOgfE4+rY8x57DnAgHBCHeSAWcIADHKirA+YobtbVza7VK43F0jJxHS9YIrKlCYiuBQrtNWlzoN+BNIHGEh8MOMABDlTngHhcHXveY88BDoQD4jAPxAIOcIADdXXAHMXNurrZtXqlsdjxfGFpzZeIlIiUoOAAB1rqQJpAY9m1gwft1ecc4ECdHBCP+VgnH9WFj110QBzmfRe912bec6AZDpijmtFPxlP7+ymNxdIycR0vWCKypQkIwbH9wVEf6+NhDqQJNJbD1vU+RhzgAAfKc0A8Lo8tb7HlAAdGcUAc5skonliHJxzgQBUOmKN4V4V39tnvXRqLHc8XltZ8iUiJSAkKDnCgpQ6kCTSWDjAw4AAHOFCdA+Jxdex5jz0HOBAOiMM8EAs4wAEO1NUBcxQ36+pm1+qVxmJpmbiOFywR2dIERNcChfaatDnQ70CaQGOJDwYc4AAHqnNAPK6OPe+x5wAHwgFxmAdiAQc4wIG6OmCO4mZd3exavdJY7Hi+sLTmS0RKREpQcIADLXUgTaCx7NrBg/bqcw5woE4OiMd8rJOP6sLHLjogDvO+i95rM+850AwHzFHN6Cfjqf39lMZiaZm4jhcsEdnSBITg2P7gqI/18TAH0gQay2Hreh8jDnCAA+U5IB6Xx5a32HKAA6M4IA7zZBRPrMMTDnCgCgfMUbyrwjv77PcujcWO5wtLa75EpESkBAUHONBSB9IEGksHGBhwgAMcqM4B8bg69rzHngMcCAfEYR6IBRzgAAfq6oA5ipt1dbNr9UpjsbRMXMcLlohsaQKia4FCe03aHOh3IE2gscQHAw5wgAPVOSAeV8ee99hzgAPhgDjMA7GAAxzgQF0dMEdxs65udq1eaSx2PF9YWvMlIiUiJSg4wIGWOpAm0Fh27eBBe/U5BzhQJwfEYz7WyUd14WMXHRCHed9F77WZ9xxohgPmqGb0k/HU/n5KY7G0TFzHC5aIbGkCQnBsf3DUx/p4mANpAo3lsHW9jxEHOMCB8hwQj8tjy1tsOcCBURwQh3kyiifW4QkHOFCFA+Yo3lXhnX32e5fGYsfzhaU1XyJSIlKCggMcaKkDaQKNpQMMDDjAAQ5U54B4XB173mPPAQ6EA+IwD8QCDnCAA3V1wBzFzbq62bV6pbFYWiau4wVLRLY0AdG1QKG9Jm0O9DuQJtBY4oMBBzjAgeocEI+rY8977DnAgXBAHOaBWMABDnCgrg6Yo7hZVze7Vq80FjueLyyt+RKREpESFBzgQEsdSBNoLLt28KC9+pwDHKiTA+IxH+vko7rwsYsOiMO876L32sx7DjTDAXNUM/rJeGp/P6WxWFomruMFS0S2NAEhOLY/OOpjfTzMgTSBxnLYut7HiAMc4EB5DojH5bHlLbYc4MAoDojDPBnFE+vwhAMcqMIBcxTvqvDOPvu9S2Ox4/nC0povESkRKUHBAQ601IE0gcbSAQYGHOAAB6pzQDyujj3vsecAB8IBcZgHYgEHOMCBujpgjuJmXd3sWr3SWCwtE9fxgiUiW5qA6Fqg0F6TNgf6HUgTaCzxwYADHOBAdQ6Ix9Wx5z32HOBAOCAO80As4AAHOFBXB8xR3Kyrm12rVxqLHc8XltZ8iUiJSAkKDnCgpQ6kCTSWXTt40F59zgEO1MkB8ZiPdfJRXfjYRQfEYd530Xtt5j0HmuGAOaoZ/WQ8tb+f0lgsLRPX8YIlIluagBAc2x8c9bE+HuZAmkBjOWxd72PEAQ5woDwHxOPy2PIWWw5wYBQHxGGejOKJdXjCAQ5U4YA5indVeGef/d6lsdjxfGFpzZeIlIiUoOAAB1rqQJpAY+kAA4M6OvDy83/JLv/pb7JTjr08e3TxSzxtaSyqo3vjrpN4LAaP27m57O/FZ1/N3vB/Pp//3rPoSXFZXG6NA+KwODyXuDjTNl/8fwfl8fLc069tzVgZ1Obbb3q01e274+bHsmef/FOr2zioX71Wn7hojqpPXxgX3e6LNBZLy8R1vGCJSB8uHWxxgAMtdSBNoLF0MIVBHR04YPez8hM47/33LbInHn6Fqy2NR3X0b5x1Eo/F4HH6Ntd9SUTydK7uNGE7cZjf8+3plz51SH4ce94Z17XyGHbJw69k//WO7XvtXOl1m2YLL1nUqnZG8vFjq+zaa9/bXrtJdtG5v25V++bbeeWVF0fNUeWxHZe3zz35P9nh+56f/8b/49q3/cyfP2ksdjxfWFrzJSKd8Gt8YLzqkjvzDwCrrrh149tjApm/CaTrLNMEGsuus9D+ejrwyTW+mcfvuArnjBOu4qrjklY6IB7XMwaZGyb3i0TkZB78aBcPcbhd/VmH8dmFKyLPOeXqScfqW230nVYdpy248JZJ7fv8J/ZvVfvqME7UYbTYa44ajVOdfXrysd9PiidPPf4H8aSB5zbSWCwtE9fxgiUiGzgo6hx4q6jb1ZfdlQf7D6y4TW0C/QYf3y+L32MO/klt6lRF/9hndQdUaQKNpX7AoI4OHLznD/P4HYnIQ/c+j6uOS1rpgHgsBtcxBk+tk0QkT6c60ab/xeH2+X3ikQuyDdfZv/f7/FN/HvvxQxcSkdde8dtJx+oH7n722DnPNg4dsd8FPSc2/u+DhtY1bslavCX5rlufPHSb2dbH+u2LPWX0qTmq+Z7EFZDFeFLFvFSGm10rM43FjucLS2u+RKQTfo0/0KrjFZFxe8E0Ae3w5eMaz7hrE09b2psm0Fi2pU3a0a6+fOWFv2ZXLliUfWbNvXox87B9JCI53i7HU3+Kx+3s19S/bVlKRPK0LS4Paoc43D6/t/3i0fln7meW/HHsn3e6kIiMsZQSe9t+6ZisCs6Dxlu/FWkAACAASURBVPNMr31xvQN7Xqz4DxuP5MRJ31mW0N7y80dmj3tm/UjMZuLvvbnFWnPU3LjVybeXn/9LPifF+eA61U1dRvcrjcXSMnEdL1giUiKy8cGxjonIu3+zNJ+AJCJHD/gmx/lllSbQWGKLQZ0d+Nqmx/Zi5lknLeSq45JWOiAei8F1jsGpbhKRPE0utHEpDrfP743XOyD/zF1FgqwricimxYP1Vt+958WoicimtU992xfLok/NUe3o1zf9/Ua9+BNLY7WZfZrGYsfzhaU1XyLSCb/GB8c6JiJv+MV9+YciichmTj5tOGhIE2gs29AebWhnP7703KvZKm/euhcz77ptCVcdl7TSAfG4nfGrbfOSRCRP2+Z0sT3icPv8Xne1b+SfuSUi29e/xfE7m79Xf/t2PS8kIjkxG2+qXtcc1Q5f3/66L/Xiz0r/vGkrP9NWPU7Gsf80FkvLxHW8YIlIJ/waHxzrmIi89MJb8w9FEpHtOKAYx4Q33/tIE2gs57ts5WE6Xw4cffBPevFy161P4qljktY6IB6LmfMVM8suJz1aIJb3LHqytWOybI7Kr9+YF4fr1yfLO05We9u2+Wduicj29e9c/YgEQMxhEpGcmKtDVWxnjmqHr+/5t8178ee9/76FY+iGnttIY7Hj+cLSmi8R2dCBUcXEWNd9XnP53fkHkA+suM28BfuLzv117yHnq7556+ytr90k++j7d8623OCILJ4hMIjFk4/9Prv4vJuy00+4Mtum8LyKT3zgG9nh+54/6XfBhbcMLGNQuV5rxwFJFf2YJtBYVrF/+8R9mAPHf/uiXvxeZ9Vdp33mzG2/eiQ76qAfZ2uvvFN+UiFuufStHU/L4urzYfvwPg/r4IB4zMM6eLj00d9l++16ZvaxVXbNVvrnzbL3vXGrbNNPH5LFMW+q30qvW3YCN07i3nfX0/nr6f1By5/+8FfZRusekK321mVJgTge/9za+2TnnXHdSNsPKtNrxsx8OyAOt8Op66+6N/vRab/MTjjiZ73P6OnLE4fsdW7vWYbxPMP0O5NDi25+PItnHq713h2zt//Tl7L3/PsWWXxu33+3s7Klj7wyUuyaza1ZTz7qkrxel//kthnL//FZN+TnId722k16MTueX/j9oy+bcbtob8TdaH/sr9j+m65dnG27ydHZf71j+/zcyVfWPzyL14vrDfr7uG9flNf9sQHPULx+4X35+4n9sOWShwczvvaK32aH7n1e9oV1D8g+tNLXen285rt3yLba8Ijs1GMvn7aucU7oh6dekx1/6LLPFsmLqfU45uCf9JURXNN6D9z9TN/7g5gsvGRRttlnD83W+BvPVd701ewza30r+95Rl2bPP/Xnkco4/rCLe/uN/i7uI84VbfLJg7M4D5XasdvWJ2cP/PbZSesVt/F38+ObOar5fRjjMN3padUVtzZeG5pvSWOxtExcxwuWiGzowHCgMTFJXX3ZXfkB2nwkIh998MXeQWQ66Bu0jA8sTzz08qSJpZgQHbRN8bVdtjpx0rb6c6I/sZg/FmkCjSWuGNTNgfQs3c9+ZO/s4fueH+joOd+/Onvj3y17zkIxhhb/jpMA9y56auD2dWuz+nR3HIrH3e37uoz7uFvHO1//5fyYuRhH4+8NPrZvdvdtS7L3v3GrfJ1hicj773o6W/eDE7dGnFpm/P/hd+2QxQn/unBQj+6ORXG4HX3/kffumMeoQTGn+NoLTw9OCO285YkzlhHJv7NOHv7c8lETkccdMpEciy9sPP7QSwNj4kP3PZ+tt/oeM9YtvkgSXyqZLpZFAisxiHWeXfrHLM49pNcGLS8bkhh95+s3y7ePLwhO3Xf6YuGgsqd77c5bn5hUTiTfPr7Krvl+ptvu85/Yf9J2qS7FuWu6beP1uG1i2iYtUzIx3r/6srv73k/rxTLYb7jO/jPWM5KS1111z4zlRFnv/c+v9MqJ+Tf+jyRo/D1d/eNKz3vdqWAo12J/Nelvc1Q75qgPveNrvTH8X+/cvrWuNmlczaWuaSx2PF9YWvMlIiUiGx8c5zMRGSdg0re54wAwroTca8fTelczHrjHOdlH/nZFTrwXJ8+LQU0ish0HDsU+bfrfaQKNZdPbov7t7MP4sP/y838Z6Ge8V/wgHs97iVtdH7bPedm+O5+RpduexDr//aE9BpbBm3Z608R+FY+5WKW3cfVQMZ7G35GU/Ozae2efWXOvvvfSujMlIn/9ywez9/zHspOoaf1PfXjPbIOP79c7Rk6vxfId/7LZSCdlq2Rk3+0fo+JwO/p4eRKRcfvW+AxfjE9xhWAkluL33X+7pV56/9t7nTvj8eUoiciFl9yZf6kuEpyLbhn8xYw7bn5s0hdB4ur0fXY6Y9l5iN3PzuKqwFSvuAJ9uphVTETec/vSSecvIu5HzE8JsFTeu/518xmTm0MTkYddnNctlTnTcuU3bJk9/cQf8jaccszlA7df+307Zx97/y5970UieWr7x5GIvOeOJ3tXaRbbts6qu/XcGZRAjLsFTK1n8f/UD/El96lz6gffsk1vPl39bcued5n2+ck1vjljmcXy/d2smGeOalZ/TTe+0hwVd3Oabh2v17uv01gsLRPX8YIlIiUiGx8c5ysRGbdWLd6qJG4JEt8gnDpJfP3Lx+UHw3G7wKnvx//xoSUdLO6w+XcHrjNoO6/Ve0JqWv+kCTSWTau7+uqzL653YB5H993lB30JyziZdOT+F2RxcuS3ty/luOOZWjsgHotpVc1rd97yRB5L49h0/Y/um9149f2Txstdtz6RDbpCKK54HFTvuD1cMQkZt6O75fqHJq0b+41b66Xj4UhG3nunq9cH8fTaeOKDODwezuPyOe6mkeJLLEd5RmTcRSNtEzHsnFOunhS3oow4B5DWieVp371i0jrF9g1LREbMK16JvuCCwY9niVvBRuIp7TduL/rMk3/q2+9WG30nX+fkoy/tez/q9qVPHZKvk+J0XGX5i8vumrT+94+dnPyLqxqLbSv+PSwRWVx30N8xx6z4mo3zel1x8e2T9hUJvtT2fXb+QTb1qss4J3PikQvydWLdqXNO2u/tNz2WrzfqMyJHuSIyEqfFZHB8QT1uz5r2G8vF9z6XffULE30U9Yzb1hbXKf6dEpGxXrotetwud+pdBOK2rIlPLOP8V7Ecf7cjtpmj2tGP63xgt954XXe1bxinDT0/kcZix/OFpTVfIrKhA8PBxsQkNV+JyOJzHYd9+zG+nRcHgfGtyUF9IRE50T+D+HhtPHzSBBpLzDFokgNxleSb/n7ilqzPLu0/GZPas/TR3/PbsUztHRCPxeAUs8a9/HThisdIQs60/wvPvH7Syc7progslhlXcgz64l7az3qr7Z6XGc9fS69bGhPjdkAcbpdzs01EnvSdyYmsa6+c/taZ8UW3YuJnamIouTtTIjKSmunKmCgrnkGYtpu6/PLnJhKkxx7y02nXi2cPxu2uo7xIYk0tJ/4vJiJjvTjH8eyApGasu92mx+btnO6Wp7He8iQiX3ru1SydmI/67DzNI2oi0RhXcA5qU3pts898O6/vdOdrykpEfq3AKthH0jHVa+qy2J/xnMfpkuTFRGSwiST41LLS/zHXxjrxG88xTa9btieumaPa0Zdx1XKM0zhWNj6b2adpLJaWiet4wRKRTt41PjjORyLy8cUv5Qd2cVXksAnjByddla8fz9yZur5EZDMnnKn92PT/0wQay6a3Rf271YfxTJ/0Yfstr9k4e+WFv3LY8UqjHRCPuxXD6jJnxRUjKZbG8vabHh06jorrD0pExpUqxXVuvOaBGcuMxx4U17/8p7+Zcf26sFOP9o1ZcbhdfTrbRGTxarYDdz97aBwqfokinrE4KCZMl4j83Yt/zTb99MSViVusf9jA7aPMSGilGBnPSBy0n+JrcSVkWj8eDVN8L/4uJiK/tdPpfe8X14/zGKms971xq2nXXZ5EZPEK01Xe/NUZv7hSrNugv889deI241Mfk5PWLyMRGc+FTJxi+eOzbpiWVdRjycOvZHG727TNacf9fOD6xUTkj06/duA6qV2H73t+Xl64lV63bE9cM0e1oy/X/+g+vbG64Tr7GacNPX+RxmLH84WlNV8isqEDwwHHxCR11SV35gdlq6649ZyC/clHTRzQx0HeML53FG75cei3ftS3/qRE5JeP63t/WPnen+hfLObOIk2gscQRg6Y5EPE8fYDff7czszip07Q2qK9xlxwQj7mQXBjn8oDdz8rj6Ebr7j80hr747Kv5+hF/71n0ZN82EY9TbI6TLaO0p3hCfseveGTBKMysM/8xQxyef6ZVejqbROSvrnkgj1tv/LuNsscfemlo7Dr7e1fn28TtVQc903y6RGQ8zzzFyXU/+I3suaf+Z9r9HXPwT/J1TzhiwbTrJdbxLMFU9qCrJ4t1OuOEq2YsL24dm8qKZdrH1OVcE5E3X7c4fz5mlD8ocTp1XzP9X+zHeCbkoHXLSESeetzPc07x+WSUzyR7fv3UfJsNPz74bgTvLTxn+eZrFw9sT2rjj8++MS8vbrWbXrdsT1wzR7WjL9PjZSIWG5/N7NM0FkvLxHW8YIlIicjGB8f5SERu+8Wj8wO7KG/YhPHM0j/l62+3ydF960tENnPCGdbvTXs/TaCxbFrd1VefxZc8iidHPrPmXtmwK294w5u6OiAec7MKN+MEeIqj0z1PbGq90vqxHHRFZDwPMq1z9ME/Gen44uSjLsm3WeOdXx9pm6n18r8xtLwOiMPtcmg2icji8wVHfW7X4nsmrlSMmHfrlOfgho/FpN+5f7uiLa76TjFy5f/cMnvk/hdmjHnF51ZGknGY548V7uS0y1f7r9Qs1mlYIjKeTZnqGsvpbiE6l0Tki8/8bxbxPpW/95CrM6drdzyr+GcX3JxFcnfj/z4oL++tr91kIKsyEpHbF27LuuvWJw3c79T6/+z8m/O6xvMxX3nhL33bzSYRufDSiS/fx9W9U/fn/+bHN3NU8/swxmGK6TNdCW+81ruv01jseL6wtOZLREpENv4gZj5uzfq5tZddPh8HynFP7w0+vt/Q33RQvfF6B/YxnJSI3Nw3v0201Uy0aQKNpT7AoGkOxHMhI/mYYm1arvXuHbID9zg7e+CuZ3jtGKYxDojHYnAVMbh427crLr59pPGSYm0sByUiP/iWbfK4vODCW0Yq88qf3ZFvE+VWwcI+jUFxuF0OzCYRud+uE1dy7zCLz+ZxJWSKiT/94a/6Ytcmnzw4f/+8M67L4lbUK71u0/y1iJczXQ0Zcal4C9i43eiG6+w/4+8GH9s3L3+rDY/oq9NsEpFPP/HHvKxo55OPDX7u+lwSkfvu8oO87EhIPv/09FeFFuNzJB7jizNbbnBE9p7CFYOpH4rL4nbp7zISkXFuKO131C/1TL3adNB8OptE5NWX3Z3X4cO+0NPnfer/Ji/NUe2Yo7ba6MjeWN1m46Na6WmTx9iodU9jsbRMXMcLloh0Eq/xwXE+EpFrvGP7/MAuHWSOuhx0yb1EZDsOIkadqOq6XppAY1nXOqqXvpnJgfg29VknLex9QWRqTI5nRx6y17lZPE9ypjK8x7E6OCAe87AKD4tx89YbHhopVha3GXTitPj+9VfdO1KZd9z82KTj7Kef+MNI21XBzD7bO1bF4Xb17WwSkV8rXNG2z05njBx/PrLyTnnsOvPkhX3bFROR8RzAQecUhu0vbjFajKuz+TuSdVNjVh0SkdcvvC9vU9wKN27ROrWeU/+PeWHHLb6bb5c4fPT9O2f77PyD7LTjr8h+cNJVk96fWkb8X0Yicq337pjvd9izHFOdnnly4g5a0ZZBc7BEZLtiUur7uS7NUe3wIc03O2x+/NC4N1dXbFeuK2ksdjxfWFrzJSIlIhsfHOcjEbnOqrvlB5e7bX1yFs+JHPU37tc/dSKQiCx3YpjK2/+DeacJNJYYYdB0B65asCj7+Cq75LE6naBYe+WdskcfmPm2V01vu/o3f/yKx83vw6aNw7gNXIqTsYxnaw1rwyjPiHz3v22el/uLS+8aWmbsM25pWKxLPOJgWF28b8zMtwPicLucmk0ictdtTs5j0J7bnzJy/Ikrz1LsOuf7V/dtV0xEvuNfNsvXPeWYyyclJW8ZcFvX5Pea75lIcn1z+1NGPgcR5youPu+mvjpVnYh8dukfs9Xetl3OIr40mNo63fKJh17OIuGYWMeVkEfuf0F2zx2Tn1N8121L8nVi3UHllZGIXG/13fP9nnXyLwbud2pd4urS1J5Y/ubXj/ZtJxHZrpg01YHZ/m+OaocPO215Qm/sx7wzWwesXw8H0lgsLRPX8YIlIiUiGx8c5+MZkcUPEZf9+LblZjIpEfnl45a7PBNSPSakpvVDmkBj2bS6q68+G+TA7178axa3F9x5qxMnfbj/1If35LjjmVo7IB6LaYNiWtmvFW8ROOrxbfHE6aArIj/2/okvhFxw5vUjjbvYdyo36lR2u5VvvA1yQBxulxezSUQesd8FeQza8vNHjhyDijH05xf13966mPRLMe4bfzv5vPCSiWf6Rdx86blXB+53w3UmbvsZ5zUGuTub14p1GvaMyDJuzVpM+q7zgd2mbXexTet/dOJ2s9tvdlz27JODv6xSVSJy888dlvsz6rOR77zliXybcGPJw6/09a1EZLtiUtHpufxtjmqHD5deeGvvCyWX/2T5zyvPxSPbLL9HaSx2PF9YWvMlIp246zsgalrg+sVld+UHeR9YcZs5tSe+fZg+PMS375aXwaREpEvyl5vn8vZHV7dPE2gsu8pAu9vb99dddW/21tduksfuKxcs4rljmto6IB63NxbVeZ75xAe+kcfI4w+7eKTxkY6HYzkoEblF4YTsnjucNlKZB+5+dl6PeP5ZnZmpW3vHqjjcrr6dTSLyR6f9Mo9Bq7zpqyPFoLidaDEePrb4pb7tikm/WPdzH90ne/n5v+TrbbnhEXkZ0yWwdt164mrN4w+9KN92rrGoWKdxJyLjy4KJ2Yqv2Ti769Ynhrbn1798MN8mniU5U7urSkTuvdMZeR03++yhM9Yx1f/0E67Mt1n9bdsN3EYisl0xKfX9XJfmKD7M1R3bza87aSyWlonreMESkU7aDTwoalIgm49bsxaTmfEsiOVt/1EH/Tg/8Nx2k6OXu7zlrY/t53diagrPNIHGsil1Vk99NRsH9tju+3msPf7Q0U6yz6Z86/JxvhwQj7k0Xy7Nppw9vjbxRbvPf2K0BGA6iRzLQYnIcwsn9Fd+w5YjHV+s9tZt81h9whE/G2mb2bTTusbXKA6Iw+3yZOmjv8vjSsSrpY/0X3GWvJi6bpw/SO9Ntywmnz695l4D1y8m/SLOLZlShwfveTZ7y2u+2KtnLO+786m+cuKqmRR343Ex09Vn1NeLdRpnIjIYr/yfW+ZtOfaQn47UltO+e0W+zW5DbmU4SiLy3kVP5uUF11G4FZ/tefVld/dtc+0Vv51U5kyupf0Vr/KML72n14tLich2xaRi387lb3MUH+bijW3m35s0FjueLyyt+RKREpEDD4qaFMzmIxEZ7Y2rKdOHgO8ddelycfnhqdfkZcVBaJN4quv8T2RVMU0TaCyrqoP9Yj9XB+LZKsO2jefOpLh9zME/Gbr+sPK8z9eyHBCPuVWWWzOVW/yiXcTKuPJkpvV/fNYNeUyN9QclIp9Z8sdJV6OfdvwVM5ZZTFxGmYOuKpqpTt4zdubLAXG4fS69/Z++lMesO25+bMZY9JUNDs/XjSsXZ/LqiYdfzt76jxN33Yir2watX3y8yzmn9D9DMrb5zgEX5vvd8OP7DSyn+OzdM068auA6g/Y/6LWqEpHbbXJ03s7//tAeWTyneFD9pr524pEL8u22/dIxM27zswtuzteN+WRqWfH/80/9edI6j9w//DnywxKR8WiI4hdq9t/tzIH7TvX51S8fmFSHW254aOD6EpHti0nJgbkszVHt8CGuio9no093O+65uGGb8bqRxmJpmbiOFywRKRE58KCoSYHumsvvzg/05npr1mjv1BMlP/3hr2Zks+DCW3oHuoNYzeVbc4PK8dp4J5y28U4TaCzb1jbtaXefPvjbZ7P3/Nvm2akznOB+4ek/Z2u9Z8c8/sfzGHjRbi+a3L/iMTer8nfNd++Qx8kPrfS1LK7QGVSXuHolTuwWf++/6+mB68YtBtN6kQhYeOng55pF4vNd/7p5vu7Be/5wYHmD6uM1Y2a+HRCH2+fUR9+/cx5fjvv2zLc1/c2vH8nXjfi1z05nDIxHTz/xh+wza+6VrxvPd5zOxWLS79zTrx243gvP/DkrJrrOPGlh33qnHffzfH8RU4c9W+zi82/uKyPVsVincV0RueD8iQRhJHDjqsRUn2HLeNZwmk/e98atsriyctA2Rx04kdBN6w9aL15b5c1b52X+4KThid1i/wy6IjLKPP8H1+Vlxv7PO+O6gfW85/alWdyKNdVxu02PHbhelCkR2b6YNJ2To7xujmq+D1ctWJS98/Wb9cZ/fMHklz//7bTjfxQnrFONE2ksdjxfWFrzJSIlIhsfGIuJyDjg2+Dj+430+41tvtfX9q+sP/FNySgrHkweScWYAOKh6ddfdW8Wz9hJH3pmugJn1cIBcFwVeesND/UeUh71ve6qe/r2bZKpZpJpM/c0gcayze3Utnb1b3zreKN1988/wH9u7b2zBRfckr347Ku5x3FFTfGb7WuvvFP2ygt/zd/nRLucaEN/isecrMrj4jO74tg2TtDGFTdxPBq/8cW6zT7z7TzmFq/MmS4RGW0pnqiPcg/d+7xeQjLKjMRkPHM9Xk+/83HLwaoY2m87xq843I5+LI7HYpxZ6XWbZnFV91OP/z678ZoHskHJurg1dIpJsYzP+nGVXYqHcVej9Dk/rXfbrx6Z9viymPSbLhEZ9V14yZ35ft/5+i9njz74Yl+ZG693YL5O7Dse73Lj1ff31nvmyT/1zklEsvXD71r25ZLp7uBUrNM4EpGPPvBCVpw3PrnGN7Mj9rtg6O/1C+/rtS2O6d9WeOb7eqvv0eu76Md773wqi6tR49E5qT+in9PfRReKfxdvqxt1iz6OBPMNv7gvu/i8m/rYj5KIjPK/+oXv5PuOOuy7y5lZzLHhT9yl66TvLJjEIr4kP11iNcqTiGxfTCp6ONu/zVHN96H4XOBeHP+ix3TNdhzUYf00FkvLxHW8YIlIici+A7E6DPzZ1KF4a9Z0UDrKMm4ZMnU/kWyMe/iPsn2s89m19+4rI5UZD5ufrpz5eA5l2o9l8w9YyurDNIHGsqx9KBfbMhyIKyHf/rqJ221NF0vj9RX/YeNsppNEZdRPmbyfrQPiMWdm68x8rh8ncmeKo/FeXIVz0bm/znb6ygn5uoNuzZrqFSdXt9rwiHzdmcqPE+OPL37JsYjPnZU6IA63Lw5HQq94e9apcWjQsyAjgfeWf1z23Map6xf/j1txXnflzF8eLib9ZkpERtzcYv3D8ni5zcZH9Y2FZ5f+MdtlqxPzdYp1GfR3fIEkxePislincSQiI+k4qH7DXvvu4RPPCz7r5IVDy1j7fTtni25+LFv/o/vk6xbbXfz7njsmPydyal2mfm4YNREZt33dc4fT8v1PLbf4/3qr7d5LpBbrNfVvicj2xaSpfTyb/81RzfdhaiIyvrwwGwesWw8H0ljseL6wtOZLRPpA2PjAGN9AKx70jfr3oERkCvzx7cNdv3pS9o5/WXZZ/dQy44NJHDCn9adbTnegutI/b9b7tuZ023m9HhNQ0/shTaCxbHpb1L97fRjfsI5nQK7+9onbGxVj8Zv+fqNss88emt1+08zPBOJO99ypY5+Lxzys2su4SvE9//GVgcfMcXXj3bct6R0rHLbPefk6MyUiU3viFoJxVVExPqe/v/SpQ3rJzbSupXFQpQPicDv9W3jJouyDb9lmYAw65ZjLB34GingXV82t/IYt+7aLhFfcqnqUZ5UXk37DEpFxW+y3vGYiAXrlz+4YWLdrr7wn23GL72ZxviDF0uIybvsZtzOdbiwV6zSORGTccrtYv1H/Pv7Qiye1IXhMvRo1yorzMQfucU6+7vabHpvvbzoG8Xpc+fj+N26Vr1us19Tbqo6aiEz7i7tkff3Lxw1Mgn9u7X2y6Z4XmrZPS4nIdsak1L+zXZqjmu/DlQsWZW/+v1/oxZ34svQ1l7s162zHQR3WT2OxtExcxwuWiJSIzA/q6jDg61iHm65dnJ167OXZ4fue37vNVHzYmU0947YisU3c0jWebTDom5mzKc+6zT9AGVcfpgk0luPap/1gXYYDd9z8eHbh2Tdmxx1yUXbqcT/P4mTFU4//gdeOYRrjgHgsNpYRG+dS5q03Pty7fWHc4i9Oxsat7+ZSztRt4q4icbwbV7nEreriNnhT1/G/cVClA+Jwu/2Lq9zO/v7Vvc/scYvVUa/CjsenxGf9iIejfPlinA7HeYh4fmSch/jOAd04jxDP8ow2x2984Xx5eQfDM09e2GP447NvzJY+8spyl1msUzxy5+SjLundTnbJw/NbdnE//m53/Ir+NUe1o4/v/s3S7MQjF2SxNG6b2adpLHY8X1ha8yUincQTHDnAgZY6kCbQWDoIwoADHOBAdQ6Ix9Wx5z32HOBAOCAO80As4AAHOFBXB8xR3Kyrm12rVxqLpWXiOl6wRGRLExBdCxTaa9LmQL8DaQKNJT4YcIADHKjOAfG4Ova8x54DHAgHxGEeiAUc4AAH6uqAOYqbdXWza/VKY7Hj+cLSmi8RKREpQcEBDrTUgTSBxrJrBw/aq885wIE6OSAe87FOPqoLH7vogDjM+y56r82850AzHDBHNaOfjKf291Mai6Vl4jpesERkSxMQgmP7g6M+1sfDHEgTaCyHret9jDjAAQ6U54B4XB5b3mLLAQ6M4oA4zJNRPLEOTzjAgSocMEfxrgrv7LPfUsxx8QAADPJJREFUuzQWO54vLK35EpESkRIUHOBASx1IE2gsHWBgwAEOcKA6B8Tj6tjzHnsOcCAcEId5IBZwgAMcqKsD5ihu1tXNrtUrjcXSMnEdL1gisqUJiK4FCu01aXOg34E0gcYSHww4wAEOVOeAeFwde95jzwEOhAPiMA/EAg5wgAN1dcAcxc26utm1eqWx2PF8YWnNl4iUiJSg4AAHWupAmkBj2bWDB+3V5xzgQJ0cEI/5WCcf1YWPXXRAHOZ9F73XZt5zoBkOmKOa0U/GU/v7KY3F0jJxHS9YIrKlCQjBsf3BUR/r42EOpAk0lsPW9T5GHOAAB8pzQDwujy1vseUAB0ZxQBzmySieWIcnHOBAFQ6Yo3hXhXf22e9dGosdzxeW1nyJSIlICQoOcKClDqQJNJYOMDDgAAc4UJ0D4nF17HmPPQc4EA6IwzwQCzjAAQ7U1QFzFDfr6mbX6pXGYmmZuI4XLBHZ0gRE1wKF9pq0OdDvQJpAY4kPBhzgAAeqc0A8ro4977HnAAfCAXGYB2IBBzjAgbo6YI7iZl3d7Fq90ljseL6wtOZLREpESlBwgAMtdSBNoLHs2sGD9upzDnCgTg6Ix3ysk4/qwscuOiAO876L3msz7znQDAfMUc3oJ+Op/f2UxmJpmbiOFywR2dIEhODY/uCoj/XxMAfSBBrLYet6HyMOcIAD5TkgHpfHlrfYcoADozggDvNkFE+swxMOcKAKB8xRvKvCO/vs9y6NxY7nC0trvkSkRKQEBQc40FIH0gQaSwcYGHCAAxyozgHxuDr2vMeeAxwIB8RhHogFHOAAB+rqgDmKm3V1s2v1SmOxtExcxwuWiGxpAqJrgUJ7Tdoc6HcgTaCxxAcDDnCAA9U5IB5Xx5732HOAA+GAOMwDsYADHOBAXR0wR3Gzrm52rV5pLHY8X1ha8yUiJSIlKDjAgZY6kCbQWHbt4EF79TkHOFAnB8RjPtbJR3XhYxcdEId530XvtZn3HGiGA+aoZvST8dT+fkpjsbRMXMcLlohsaQJCcGx/cNTH+niYA2kCjeWwdb2PEQc4wIHyHBCPy2PLW2w5wIFRHBCHeTKKJ9bhCQc4UIUD5ijeVeGdffZ7l8Zix/OFpTVfIlIiUoKCAxxoqQNpAo2lAwwMOMABDlTngHhcHXveY88BDoQD4jAPxAIOcIADdXXAHMXNurrZtXqlsVhaJq7jBUtEtjQB0bVAob0mbQ70O5Am0FjigwEHOMCB6hwQj6tjz3vsOcCBcEAc5oFYwAEOcKCuDpijuFlXN7tWrzQWO54vLK35EpESkRIUHOBASx1IE2gsu3bwoL36nAMcqJMD4jEf6+SjuvCxiw6Iw7zvovfazHsONMMBc1Qz+sl4an8/pbFYWiau4wVLRLY0ASE4tj846mN9PMyBNIHGcti63seIAxzgQHkOiMflseUtthzgwCgOiMM8GcUT6/CEAxyowgFzFO+q8M4++71LY7Hj+cLSmi8RKREpQcEBDrTUgTSBxtIBBgYc4AAHqnNAPK6OPe+x5wAHwgFxmAdiAQc4wIG6OmCO4mZd3exavdJYLC0T1/GCJSJbmoDoWqDQXpM2B/odSBNoLPHBgAMc4EB1DojH1bHnPfYc4EA4IA7zQCzgAAc4UFcHzFHcrKubXatXGosdzxeW1nyJSIlICQoOcKClDqQJNJZdO3jQXn3OAQ7UyQHxmI918lFd+NhFB8Rh3nfRe23mPQea4YA5qhn9ZDy1v5/SWCwtE9fxgiUiW5qAEBzbHxz1sT4e5kCaQGM5bF3vY8QBDnCgPAfE4/LY8hZbDnBgFAfEYZ6M4ol1eMIBDlThgDmKd1V4Z5/93qWx2PF8YWnNl4iUiJSg4AAHWupAmkBj6QADAw5wgAPVOSAeV8ee99hzgAPhgDjMA7GAAxzgQF0dMEdxs65udq1eaSyWlonreMESkS1NQHQtUGivSZsD/Q6kCTSW+GDAAQ5woDoHxOPq2PMeew5wIBwQh3kgFnCAAxyoqwPmKG7W1c2u1SuNxY7nC0trvkSkRKQEBQc40FIH0gQay64dPGivPucAB+rkgHjMxzr5qC587KID4jDvu+i9NvOeA81wwBzVjH4yntrfT2kslpaJ63jBEpEtTUAIju0PjvpYHw9zIE2gsRy2rvcx4gAHOFCeA+JxeWx5iy0HODCKA+IwT0bxxDo84QAHqnDAHMW7Kryzz37v0ljseL6wtOavsPiOZbcp+d0L/fAJiQkHOMCB5jqQJtBY6kcMOMABDlTngHhcHXveY88BDoQD4jAPxAIOcIADdXXAHMXNurrZpXq98sKy48XIlfkph8AKTzywDPJzSwz6Lg0ubeU7B9rvgIPZ9vexcayPOdAMB8TjZvST8aSfONBeB8Th9vatcatvOcCBpjtgjuJw0x1uQ/1feGpZjixyZX7KIbDC715cBvnB27PslecM/DYMHG3gMQc4EA44mOWBWMABDtTDAfG4Hv1gPOgHDnTXAXG4u31v3Ot7DnCg7g6Yozhad0e7UL9H71l2HjXa6qccAitEsemqyEhGPrc0y9ymVQDsQoDRRp633QEHsxxvu+Pax/GmOCAec7UprqonV9vqgDjM7ba6rV3c5kDzHTBHNb8PjcNm9mHkwOJKyJSEXPJgOQk4pS4j0EtEvvq/Wfb4/ZOvnikGQX9jwwEOcIADHOAABzjAAQ5wgAMc4AAHOMABDnCAAxzgAAc40CYHIjcWOTI/5RHoJSJT8S8/l2WR+V28yEBq00DSFj5zgAMc4AAHOMABDnCAAxzgAAc4wAEOcIADHOAABzjAgWU5sCWLsyxyYn7KJzApEVn+7uwBAQQQQAABBBBAAAEEEEAAAQQQQAABBBBAAAEEEEAAAQS6QEAisgu9rI0IIIAAAggggAACCCCAAAIIIIAAAggggAACCCCAAAIIjJmAROSYgdsdAggggAACCCCAAAIIIIAAAggggAACCCCAAAIIIIAAAl0gIBHZhV7WRgQQQAABBBBAAAEEEEAAAQQQQAABBBBAAAEEEEAAAQTGTEAicszA7Q4BBBBAAAEEEEAAAQQQQAABBBBAAAEEEEAAAQQQQACBLhCQiOxCL2sjAggggAACCCCAAAIIIIAAAggggAACCCCAAAIIIIAAAmMmIBE5ZuB2hwACCCCAAAIIIIAAAggggAACCCCAAAIIIIAAAggggEAXCEhEdqGXtREBBBBAAAEEEEAAAQQQQAABBBBAAAEEEEAAAQQQQACBMROQiBwzcLtDAAEEEEAAAQQQQAABBBBAAAEEEEAAAQQQQAABBBBAoAsEJCK70MvaiAACCCCAAAIIIIAAAggggAACCCCAAAIIIIAAAggggMCYCUhEjhm43SGAAAIIIIAAAggggAACCCCAAAIIIIAAAggggAACCCDQBQISkV3oZW1EAAEEEEAAAQQQQAABBBBAAAEEEEAAAQQQQAABBBBAYMwEJCLHDNzuEEAAAQQQQAABBBBAAAEEEEAAAQQQQAABBBBAAAEEEOgCAYnILvSyNiKAAAIIIIAAAggggAACCCCAAAIIIIAAAggggAACCCAwZgISkWMGbncIIIAAAggggAACCCCAAAIIIIAAAggggAACCCCAAAIIdIGARGQXelkbEUAAAQQQQAABBBBAAAEEEEAAAQQQQAABBBBAAAEEEBgzAYnIMQO3OwQQQAABBBBAAAEEEEAAAQQQQAABBBBAAAEEEEAAAQS6QEAisgu9rI0IIIAAAggggAACCCCAAAIIIIAAAggggAACCCCAAAIIjJmAROSYgdsdAggggAACCCCAAAIIIIAAAggggAACCCCAAAIIIIAAAl0gIBHZhV7WRgQQQAABBBBAAAEEEEAAAQQQQAABBBBAAAEEEEAAAQTGTEAicszA7Q4BBBBAAAEEEEAAAQQQQAABBBBAAAEEEEAAAQQQQACBLhCQiOxCL2sjAggggAACCCCAAAIIIIAAAggggAACCCCAAAIIIIAAAmMmIBE5ZuB2hwACCCCAAAIIIIAAAggggAACCCCAAAIIIIAAAggggEAXCEhEdqGXtREBBBBAAAEEEEAAAQQQQAABBBBAAAEEEEAAAQQQQACBMROQiBwzcLtDAAEEEEAAAQQQQAABBBBAAAEEEEAAAQQQQAABBBBAoAsEJCK70MvaiAACCCCAAAIIIIAAAggggAACCCCAAAIIIIAAAggggMCYCUhEjhm43SGAAAIIIIAAAggggAACCCCAAAIIIIAAAggggAACCCDQBQISkV3oZW1EAAEEEEAAAQQQQAABBBBAAAEEEEAAAQQQQAABBBBAYMwEJCLHDNzuEEAAAQQQQAABBBBAAAEEEEAAAQQQQAABBBBAAAEEEOgCAYnILvSyNiKAAAIIIIAAAggggAACCCCAAAIIIIAAAggggAACCCAwZgL/H00mgRVl2B8CAAAAAElFTkSuQmCC)\n",
        "\n",
        "ada 2 pendekatan bisa dengan berdasrkan spasi, bisa juga berdasarkan simbol/tanda baca.\n"
      ],
      "metadata": {
        "id": "KW9jhxKmnpZW"
      }
    },
    {
      "cell_type": "code",
      "source": [
        "#conton berdasarkan spasi\n",
        "tokenized_text = \"Jim Henson was a puppeteer\".split()\n",
        "print(tokenized_text)"
      ],
      "metadata": {
        "colab": {
          "base_uri": "https://localhost:8080/"
        },
        "id": "cUH9-rWVoIQV",
        "outputId": "9064feee-5717-4de5-f9ed-82125ed573fd"
      },
      "execution_count": 32,
      "outputs": [
        {
          "output_type": "stream",
          "name": "stdout",
          "text": [
            "['Jim', 'Henson', 'was', 'a', 'puppeteer']\n"
          ]
        }
      ]
    },
    {
      "cell_type": "markdown",
      "source": [
        "Jika tokenisasi berdasarkan kata, akan diperlukan ID token dalam jumlah yang sangat besar. Jumlah kata dalam bahasa inggris ada sebanyak 500.000 maka diperlukan token sebanyak 500.000 untuk bisa mengcover seluruh kata yang ada dalam bahasa inggris.\n",
        "\n",
        "Kata yang sebenarnya mirip seperti run dan running, dog dengan dogs akan memiliki makna yang berbeda karena model hanya mengenali kata dog bukan dogs meskipun merek berdua mirip.\n",
        "\n",
        "Diperlukan juga token khusus untuk merepresentasikan kata yang tidak ada dalam vocabulary biasanya dinamakan sebagai unknown. Jika tokenizer seringkali tidak menghasilkan token unknown artinya model tidak bisa menerima representasi yang masuk akal dari sebuah kata dan kehilangan informasi."
      ],
      "metadata": {
        "id": "PxzkzjcMobW4"
      }
    },
    {
      "cell_type": "markdown",
      "source": [
        "## 4.2 Character Based"
      ],
      "metadata": {
        "id": "jb_vOlWupwqQ"
      }
    },
    {
      "cell_type": "markdown",
      "source": [
        "---\n",
        "1. character based melakukan tokenizer dengan cara membagi teks menjadi karakter atau huruf. cara ini punya 2 kelebihan:\n",
        "  1. Vocabulary akan menjadi lebih kecil\n",
        "  2. jumlah token unknown akan mejadi jauh lebih sedikti, karena setiap kata dapat dibentuk dari huruf.\n",
        "![image.png](data:image/png;base64,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)\n",
        "\n",
        "Tapi, karena sekarang represetasinya berdasarkan sebuah huruf maka menjadi kurang bermakna karena tiap huruf tidak bermakna banyak berbeda dengan sebuah kata. Selain itu dengan tokenisasi tiap huruf model perlu untuk memproses jumlah token yang sangat banyak berbeda dengan ketika tokennya berupa kata."
      ],
      "metadata": {
        "id": "ZKEA9Tf7p0vT"
      }
    },
    {
      "cell_type": "markdown",
      "source": [
        "## 4.3 Subword Based"
      ],
      "metadata": {
        "id": "rP1-L1QXqvXI"
      }
    },
    {
      "cell_type": "markdown",
      "source": [
        "---\n",
        "Subword menggunakan prinsip **kata yang sering muncul tidak perlu dipecah menjadi subkata, namun kata yang jarang digunakan dipecah menjadi subkata yang lebih bermakna**\n",
        "\n",
        "Contohnya: annoyingly adalah kata yang jarang dan bisa dipisah menjadi annoying dan ly. kedua kata tersebut lebih sering muncul dan arti kata dari annoyingly masih bisa dicari dengan menggabungkan kata annyoing dan ly.\n",
        "![image.png](data:image/png;base64,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)"
      ],
      "metadata": {
        "id": "chHwPRpFq3-8"
      }
    },
    {
      "cell_type": "markdown",
      "source": [
        "Masih banyak cara lain yang untuk melakukan tokenisasi\n",
        "\n",
        "\n",
        "*   Byte-level BPE, as used in GPT-2\n",
        "*   WordPiece, as used in BERT\n",
        "*   SentencePiece or Unigram, as used in several multilingual models\n",
        "\n",
        "\n",
        "\n"
      ],
      "metadata": {
        "id": "_PI0ltUZrjLk"
      }
    },
    {
      "cell_type": "markdown",
      "source": [
        "## 4.4 Load And Save Tokenizer"
      ],
      "metadata": {
        "id": "yq0_ICwmtQv4"
      }
    },
    {
      "cell_type": "code",
      "source": [
        "# buat load dan save tokenizer sama seperti sebelumnya menggunakan from_pretrained() dan save_pretrained()\n",
        "\n",
        "# ganti **Model dengan **TOkenizer buat load TOkenizer model tersebut\n",
        "\n",
        "from transformers import BertTokenizer\n",
        "\n",
        "tokenizer = BertTokenizer.from_pretrained(\"bert-base-cased\")\n",
        "\n",
        "3 #bisa juga dengan menggunakan AutoTokenizer\n",
        "from transformers import AutoTokenizer\n",
        "\n",
        "tokenizer = AutoTokenizer.from_pretrained(\"bert-base-cased\")"
      ],
      "metadata": {
        "colab": {
          "base_uri": "https://localhost:8080/",
          "height": 0,
          "referenced_widgets": [
            "ff8910f2e6c04e00850e71000e986daa",
            "8083d3454fd64f428acb7b56f831452c",
            "fff2b5dcfafb4011bb947bafe80f8030",
            "9009c286ae68452492d16a7a317b6b51",
            "12745e23b7594c16903976efd7c5b1ed",
            "7d432cb8c2b54efd8b5ffd441035d7d5",
            "162fb02d2a3c49cbbaa1bb90edcdd6b4",
            "2b86023f49c94a09a54f2853feaf1b3a",
            "02a9c3509bbe4054959413283e06efaa",
            "c1475adce8584b32bd60730bb8122293",
            "c7cf6366c8b4418497bcab18c2d11743",
            "b3ba2943647c40adaadd81b16e7e3167",
            "9cb9b6030ba6485f88b01bed72ea45aa",
            "d8290c8850dd4ae9b0c4d82199f572ca",
            "6ae343ad05764af485799d5e8213bd79",
            "4ca0280dd0924f82a381c2d7e96f4a51",
            "24f88b0e8b2044e595ee7553d37c37e0",
            "628261398a794be9920c3a6628697379",
            "e7339c56aa8c40aa82ae93a996c0ca21",
            "ab55f2eeba1648a691aad79532860db7",
            "79d9caf6f5c848898febc1d774b0f115",
            "e1c902f3645c43c29d045b435325207c",
            "856ccd126c2c4cad98ec245c45790406",
            "41320fa05eca470c9715cc62d9833efd",
            "60ca62145ccf42e8837dc3db757877c4",
            "253b4cc367e440629cc86440d9fbbe17",
            "7f7bd86e78104257a83d6e9bc86ad5ae",
            "ba52232330aa41dc907a1255260c63ec",
            "2027f076f1b34494895aa40b59965998",
            "7d13f3491c024fd9b496461d4a61dfe4",
            "10f30d5d097044cf80af9ee4e0548325",
            "75d0d47c1d544d95bee1f3145ffd00e4",
            "debe6094f9974a1a8b87914ba1002709"
          ]
        },
        "id": "3W0nmEmqqxfs",
        "outputId": "e9a92c73-8822-4262-9945-d08a287505b4"
      },
      "execution_count": 33,
      "outputs": [
        {
          "output_type": "display_data",
          "data": {
            "text/plain": [
              "tokenizer_config.json:   0%|          | 0.00/29.0 [00:00<?, ?B/s]"
            ],
            "application/vnd.jupyter.widget-view+json": {
              "version_major": 2,
              "version_minor": 0,
              "model_id": "ff8910f2e6c04e00850e71000e986daa"
            }
          },
          "metadata": {}
        },
        {
          "output_type": "display_data",
          "data": {
            "text/plain": [
              "vocab.txt:   0%|          | 0.00/213k [00:00<?, ?B/s]"
            ],
            "application/vnd.jupyter.widget-view+json": {
              "version_major": 2,
              "version_minor": 0,
              "model_id": "b3ba2943647c40adaadd81b16e7e3167"
            }
          },
          "metadata": {}
        },
        {
          "output_type": "display_data",
          "data": {
            "text/plain": [
              "tokenizer.json:   0%|          | 0.00/436k [00:00<?, ?B/s]"
            ],
            "application/vnd.jupyter.widget-view+json": {
              "version_major": 2,
              "version_minor": 0,
              "model_id": "856ccd126c2c4cad98ec245c45790406"
            }
          },
          "metadata": {}
        }
      ]
    },
    {
      "cell_type": "code",
      "source": [
        "tokenizer(\"Using a Transformer network is simple\")"
      ],
      "metadata": {
        "colab": {
          "base_uri": "https://localhost:8080/"
        },
        "id": "hD9cX4Gpsldw",
        "outputId": "4dbd6b41-909c-4a47-f244-2fce6772b08e"
      },
      "execution_count": 34,
      "outputs": [
        {
          "output_type": "execute_result",
          "data": {
            "text/plain": [
              "{'input_ids': [101, 7993, 170, 13809, 23763, 2443, 1110, 3014, 102], 'token_type_ids': [0, 0, 0, 0, 0, 0, 0, 0, 0], 'attention_mask': [1, 1, 1, 1, 1, 1, 1, 1, 1]}"
            ]
          },
          "metadata": {},
          "execution_count": 34
        }
      ]
    },
    {
      "cell_type": "code",
      "source": [
        "#saving tokenizer\n",
        "tokenizer.save_pretrained(\"directory_on_my_computer\")"
      ],
      "metadata": {
        "colab": {
          "base_uri": "https://localhost:8080/"
        },
        "id": "zVRGZEXHsqI7",
        "outputId": "e5e08165-3cc8-4bc5-f877-4b2638b12480"
      },
      "execution_count": 35,
      "outputs": [
        {
          "output_type": "execute_result",
          "data": {
            "text/plain": [
              "('directory_on_my_computer/tokenizer_config.json',\n",
              " 'directory_on_my_computer/special_tokens_map.json',\n",
              " 'directory_on_my_computer/vocab.txt',\n",
              " 'directory_on_my_computer/added_tokens.json',\n",
              " 'directory_on_my_computer/tokenizer.json')"
            ]
          },
          "metadata": {},
          "execution_count": 35
        }
      ]
    },
    {
      "cell_type": "markdown",
      "source": [
        "## 4.5 Encoding"
      ],
      "metadata": {
        "id": "fWMCIlTOtVpD"
      }
    },
    {
      "cell_type": "markdown",
      "source": [
        "---\n",
        "1. Mengubah teks menjadi sebuha bilangan.\n",
        "2. ada 2 step-> tokenisasi sama konversi ke input ID\n",
        "3. Step 1, adalah memecah teks menjadi kata (atau subkata, atau tanda baca, dll) yang disebut dengan token.\n",
        "4. ada banyak cara untuk melakukan tokeninsasi oleh karena itu diperlukan inisialisasi Tokenizer yang sesuai dengan model yang dipretrained.\n",
        "5. konversi token ke input ID, sehingga bisa diubah menjadi tensor dan dimasukan ke dalam model."
      ],
      "metadata": {
        "id": "Csu7uTE1tYYz"
      }
    },
    {
      "cell_type": "code",
      "source": [
        "from transformers import AutoTokenizer\n",
        "\n",
        "#gunakan tokenisasi yang sama dengan best-base-cased\n",
        "tokenizer = AutoTokenizer.from_pretrained(\"bert-base-cased\")\n",
        "\n",
        "#tokeninsasi sequence\n",
        "sequence = \"Using a Transformer network is simple\"\n",
        "tokens = tokenizer.tokenize(sequence)\n",
        "\n",
        "print(tokens)"
      ],
      "metadata": {
        "colab": {
          "base_uri": "https://localhost:8080/"
        },
        "id": "ToPh0tbhudTD",
        "outputId": "1c4efc13-8c85-436e-dcc1-ff30f0480987"
      },
      "execution_count": 36,
      "outputs": [
        {
          "output_type": "stream",
          "name": "stdout",
          "text": [
            "['Using', 'a', 'Trans', '##former', 'network', 'is', 'simple']\n"
          ]
        }
      ]
    },
    {
      "cell_type": "code",
      "source": [
        "#convert jadi input ID\n",
        "ids = tokenizer.convert_tokens_to_ids(tokens)\n",
        "\n",
        "print(ids)"
      ],
      "metadata": {
        "colab": {
          "base_uri": "https://localhost:8080/"
        },
        "id": "GUjYzTmwuqsj",
        "outputId": "811fe0b5-8c7e-4a62-e98e-039bbd31268e"
      },
      "execution_count": 38,
      "outputs": [
        {
          "output_type": "stream",
          "name": "stdout",
          "text": [
            "[7993, 170, 13809, 23763, 2443, 1110, 3014]\n"
          ]
        }
      ]
    },
    {
      "cell_type": "markdown",
      "source": [
        "## 4.6 Decoding"
      ],
      "metadata": {
        "id": "HNmnI2HMu0rI"
      }
    },
    {
      "cell_type": "markdown",
      "source": [
        "---\n",
        "1. kebalikannya proses mengubah input ID menjadi kata"
      ],
      "metadata": {
        "id": "ZUWA9x4hu2wD"
      }
    },
    {
      "cell_type": "code",
      "source": [
        "decoded_string = tokenizer.decode([7993, 170, 11303, 1200, 2443, 1110, 3014])\n",
        "print(decoded_string)"
      ],
      "metadata": {
        "colab": {
          "base_uri": "https://localhost:8080/"
        },
        "id": "FcNPfgpgu2hb",
        "outputId": "a76b8bb1-5ab6-4a2d-d632-ad8ddefaf25d"
      },
      "execution_count": 39,
      "outputs": [
        {
          "output_type": "stream",
          "name": "stdout",
          "text": [
            "Using a transformer network is simple\n"
          ]
        }
      ]
    },
    {
      "cell_type": "markdown",
      "source": [
        "# 5. Handling multiple sequences\n"
      ],
      "metadata": {
        "id": "aP7WCr8ivQr3"
      }
    },
    {
      "cell_type": "markdown",
      "source": [
        "## 5.1 Model menerima input dalam bentuk batch"
      ],
      "metadata": {
        "id": "JLh-L7Tvwbxk"
      }
    },
    {
      "cell_type": "code",
      "source": [
        "import torch\n",
        "from transformers import AutoTokenizer, AutoModelForSequenceClassification\n",
        "\n",
        "# menentukan model mana yang mau dipakai\n",
        "checkpoint = \"distilbert-base-uncased-finetuned-sst-2-english\"\n",
        "\n",
        "#ambil tokenizer model tersebut\n",
        "tokenizer = AutoTokenizer.from_pretrained(checkpoint)\n",
        "\n",
        "#ambil bobot model tersebut\n",
        "model = AutoModelForSequenceClassification.from_pretrained(checkpoint)\n",
        "\n",
        "#kalimatnya\n",
        "sequence = \"I've been waiting for a HuggingFace course my whole life.\"\n",
        "\n",
        "#tokenisasi\n",
        "tokens = tokenizer.tokenize(sequence)\n",
        "\n",
        "#konversi ke id\n",
        "ids = tokenizer.convert_tokens_to_ids(tokens)\n",
        "\n",
        "#ubah ke tensor\n",
        "#input_ids = torch.tensor(ids) #belum dalam bentuk batch masih 1 dimensi ([14])\n",
        "input_ids = torch.tensor([ids]) #ini yang benar udah dalam bentuk batch ([1,14])\n",
        "\n",
        "outputs = model(input_ids)\n",
        "\n",
        "predictions = torch.nn.functional.softmax(outputs.logits, dim=-1)\n",
        "print(predictions)"
      ],
      "metadata": {
        "colab": {
          "base_uri": "https://localhost:8080/"
        },
        "id": "5r5ACOwtvUuT",
        "outputId": "130cfaed-99cb-4c9f-bc26-de4eb5e4255f"
      },
      "execution_count": 49,
      "outputs": [
        {
          "output_type": "stream",
          "name": "stdout",
          "text": [
            "tensor([[0.0037, 0.9963]], grad_fn=<SoftmaxBackward0>)\n"
          ]
        }
      ]
    },
    {
      "cell_type": "markdown",
      "source": [
        "## 5.2 Pad Input"
      ],
      "metadata": {
        "id": "_N0K4SlDyAhi"
      }
    },
    {
      "cell_type": "markdown",
      "source": [
        "---\n",
        "1. kalau misalnya ada teks yang berbeda panjangnya perlu dikasih pad biar panjang kalimatnya sama.\n",
        "2. untuk nambahin pad bisa pad_token_id ditambah dengan attention_mask.\n",
        "3. Attention mask adalah tensor yang punya bentuk sama dengan input ID tensor, bedanya diisi dengan 0 dan 1: 1 artinya model perlu memperhatikan kata tersebut sementara 0 artinya masking kata tersebut atau tidak perlu perhatikan kata tersebut."
      ],
      "metadata": {
        "id": "uSqluJOWyZlK"
      }
    },
    {
      "cell_type": "code",
      "source": [
        "batched_ids = [\n",
        "    [200, 200, 200],\n",
        "    [200, 200, tokenizer.pad_token_id],\n",
        "]\n",
        "\n",
        "attention_mask = [\n",
        "    [1, 1, 1],\n",
        "    [1, 1, 0],\n",
        "]\n",
        "\n",
        "outputs = model(torch.tensor(batched_ids), attention_mask=torch.tensor(attention_mask))\n",
        "predictions = torch.nn.functional.softmax(outputs.logits, dim=-1)\n",
        "print(predictions)"
      ],
      "metadata": {
        "colab": {
          "base_uri": "https://localhost:8080/"
        },
        "id": "8EddI5fByCO6",
        "outputId": "5a797907-e7b5-4407-eed6-37f32d956cc3"
      },
      "execution_count": 51,
      "outputs": [
        {
          "output_type": "stream",
          "name": "stdout",
          "text": [
            "tensor([[0.9507, 0.0493],\n",
            "        [0.7297, 0.2703]], grad_fn=<SoftmaxBackward0>)\n"
          ]
        }
      ]
    },
    {
      "cell_type": "markdown",
      "source": [
        "## 5.3 Sekuens yang terlalu panjang"
      ],
      "metadata": {
        "id": "EMAFGr_Tzeci"
      }
    },
    {
      "cell_type": "markdown",
      "source": [
        "---\n",
        "1. model transformers memiliki batas panjang teks atau sekuens yang bisa masuk ke dalam model. Umumnya 512 atau 1024.\n",
        "2. ada 2 solusi untuk teks yang terlalu panjang,\n",
        "  * bisa dengan memotong teks tersebut hingga nilai maksimal yang bisa masuk ke dalam model\n",
        "  * bisa juga dengan menggunakan model lain yang bisa menerima input yang lebih panjang"
      ],
      "metadata": {
        "id": "lE0BPhm1ztDi"
      }
    },
    {
      "cell_type": "markdown",
      "source": [
        "# 6. Putting it All Together"
      ],
      "metadata": {
        "id": "0rBxaqJP0Jh6"
      }
    },
    {
      "cell_type": "code",
      "source": [
        "#import package\n",
        "from transformers import AutoTokenizer, AutoModelForSequenceClassification\n",
        "\n",
        "#pilih model card\n",
        "checkpoint = \"distilbert-base-uncased-finetuned-sst-2-english\"\n",
        "\n",
        "#Ambil tokenizer dari model tersebut\n",
        "tokenizer = AutoTokenizer.from_pretrained(checkpoint)\n",
        "\n",
        "#teksnya\n",
        "sequences = [\"I've been waiting for a HuggingFace course my whole life.\", \"So have I!\"]\n",
        "\n",
        "#Encoding\n",
        "#tokenizer(kata, padding = ..., max_length = ..., truncation = ..., return_tensors = ....)\n",
        "tokenisasi = tokenizer(sequences, padding = \"longest\", truncation = True, return_tensors ='pt')\n",
        "\n",
        "  # pad ke maksimum sekuens -> padding = \"longest\"\n",
        "  # pad ke maksimum sekuens dari model (mis. BERT 512 maka jadi dipad menjadi 512) -> padding = \"max_longest\"\n",
        "  # pad ke panjang tertentu -> padding = \"max_length\", max_length = (mis 8)\n",
        "  # potong kalimat yang lebih panjang dari maksimal model (BERT 512) -> truncation = True\n",
        "  # potong kalimat yang lebih panjang dari ketentuan -> truncation = True, max_length = (mis 8)\n",
        "  # return_tensors = bentuk return dari tensornya bisa pytorch, TF, numpy, JAX\n",
        "\n",
        "    #Kalau terpisah juga bisa -> Tokenisasi\n",
        "    # tokenisasi = tokenizer.tokenize(sequence)\n",
        "    # print(\"hasil tokenisasi = \", tokenisasi)\n",
        "\n",
        "    #Kalau terpisah juga bisa -> Konversi ke ID\n",
        "    # ids = tokenizer.convert_tokens_to_ids(tokenisasi)\n",
        "    # print(\"Konversi ID = \", ids)\n",
        "\n",
        "print(tokenisasi)\n",
        "\n",
        "# load model dan set jadi sentiment analysis\n",
        "model = AutoModelForSequenceClassification.from_pretrained(checkpoint)\n",
        "outputs = model(**tokenisasi)\n",
        "\n",
        "predictions = torch.nn.functional.softmax(outputs.logits, dim=-1)\n",
        "print(predictions)"
      ],
      "metadata": {
        "colab": {
          "base_uri": "https://localhost:8080/"
        },
        "id": "qNzqTfe30lMs",
        "outputId": "33892ac1-e89f-4e8e-d362-816dbb2a6bc0"
      },
      "execution_count": 62,
      "outputs": [
        {
          "output_type": "stream",
          "name": "stdout",
          "text": [
            "{'input_ids': tensor([[  101,  1045,  1005,  2310,  2042,  3403,  2005,  1037, 17662, 12172,\n",
            "          2607,  2026,  2878,  2166,  1012,   102],\n",
            "        [  101,  2061,  2031,  1045,   999,   102,     0,     0,     0,     0,\n",
            "             0,     0,     0,     0,     0,     0]]), 'attention_mask': tensor([[1, 1, 1, 1, 1, 1, 1, 1, 1, 1, 1, 1, 1, 1, 1, 1],\n",
            "        [1, 1, 1, 1, 1, 1, 0, 0, 0, 0, 0, 0, 0, 0, 0, 0]])}\n",
            "tensor([[4.0195e-02, 9.5980e-01],\n",
            "        [5.3534e-04, 9.9946e-01]], grad_fn=<SoftmaxBackward0>)\n"
          ]
        }
      ]
    },
    {
      "cell_type": "markdown",
      "source": [
        "# 7. Basic Usage Completed"
      ],
      "metadata": {
        "id": "7zQlsvo14uNy"
      }
    },
    {
      "cell_type": "markdown",
      "source": [
        "# 8. Quiz"
      ],
      "metadata": {
        "id": "tyHNFx2o4x86"
      }
    }
  ]
}